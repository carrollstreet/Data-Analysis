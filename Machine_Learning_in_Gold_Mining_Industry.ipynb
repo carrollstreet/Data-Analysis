{
  "nbformat": 4,
  "nbformat_minor": 0,
  "metadata": {
    "celltoolbar": "Raw Cell Format",
    "kernelspec": {
      "display_name": "Python 3",
      "language": "python",
      "name": "python3"
    },
    "language_info": {
      "codemirror_mode": {
        "name": "ipython",
        "version": 3
      },
      "file_extension": ".py",
      "mimetype": "text/x-python",
      "name": "python",
      "nbconvert_exporter": "python",
      "pygments_lexer": "ipython3",
      "version": "3.7.6"
    },
    "colab": {
      "name": "Machine Learning in Gold Mining Industry.ipynb",
      "provenance": []
    }
  },
  "cells": [
    {
      "cell_type": "markdown",
      "metadata": {
        "id": "7f7Vs6jSeXzj"
      },
      "source": [
        "# <center>Прогнозирование обогащения золота</center>"
      ]
    },
    {
      "cell_type": "markdown",
      "metadata": {
        "id": "E9vooLameXzk"
      },
      "source": [
        "## Описание проекта\n",
        "\n",
        "Необходимо подготовить прототип модели машинного обучения для «Цифры». Компания разрабатывает решения для эффективной работы промышленных предприятий.\n",
        "\n",
        "Модель должна предсказать коэффициент восстановления золота из золотосодержащей руды. В распоряжении данные с параметрами добычи и очистки. \n",
        "\n",
        "Модель поможет оптимизировать производство, чтобы не запускать предприятие с убыточными характеристиками.\n",
        "\n",
        "Необходимо:\n",
        "\n",
        "1. Подготовить данные;\n",
        "2. Провести исследовательский анализ данных;\n",
        "3. Построить и обучить модель.\n",
        "\n",
        "\n",
        "Данные индексируются датой и временем получения информации (признак date). Соседние по времени параметры часто похожи.\n",
        "\n",
        "\n",
        "Некоторые параметры недоступны, потому что замеряются и/или рассчитываются значительно позже. \n",
        "Из-за этого в тестовой выборке отсутствуют некоторые признаки, которые могут быть в обучающей. \n",
        "Также в тестовом наборе нет целевых признаков.\n",
        "\n",
        "\n",
        "Исходный датасет содержит обучающую и тестовую выборки со всеми признаками.\n",
        "В распоряжении сырые данные: их просто выгрузили из хранилища. Прежде чем приступить к построению модели, необходимо проверить по инструкции их на корректность."
      ]
    },
    {
      "cell_type": "markdown",
      "metadata": {
        "id": "kAG_SpaZeXzl"
      },
      "source": [
        "## Технологический процесс\n",
        "Как золото получают из руды? \n",
        "Когда добытая руда проходит первичную обработку, получается дроблёная смесь. Её отправляют на флотацию (обогащение) и двухэтапную очистку.\n",
        "\n",
        "### Опишем каждую стадию:\n",
        "1. Флотация\n",
        "\n",
        "Во флотационную установку подаётся смесь золотосодержащей руды. После обогащения получается черновой концентрат и «отвальные хвосты», то есть остатки продукта с низкой концентрацией ценных металлов.\n",
        "\n",
        "На стабильность этого процесса влияет непостоянное и неоптимальное физико-химическое состояние флотационной пульпы (смеси твёрдых частиц и жидкости).\n",
        "2. Очистка\n",
        "\n",
        "Черновой концентрат проходит две очистки. На выходе получается финальный концентрат и новые отвальные хвосты.\n",
        "\n",
        "\n",
        "### Описание данных\n",
        "\n",
        "#### Технологический процесс\n",
        "- `Rougher feed` — исходное сырье\n",
        "- `Rougher additions` (или reagent additions) — флотационные реагенты: `Xanthate`, `Sulphate`, `Depressant`\n",
        "- `Xanthate**`— ксантогенат (промотер, или активатор флотации);\n",
        "- `Sulphate` — сульфат (на данном производстве сульфид натрия);\n",
        "- `Depressant` — депрессант (силикат натрия).\n",
        "- `Rougher process` (англ. «грубый процесс») — флотация\n",
        "- `Rougher tails` — отвальные хвосты\n",
        "- `Float banks` — флотационная установка\n",
        "- `Cleaner process` — очистка\n",
        "- `Rougher Au` — черновой концентрат золота\n",
        "- `Final Au` — финальный концентрат золота\n",
        "\n",
        "#### Параметры этапов\n",
        "\n",
        "- `air amount` — объём воздуха\n",
        "- `fluid levels` — уровень жидкости\n",
        "- `feed size` — размер гранул сырья\n",
        "- `feed rate` — скорость подачи\n",
        "\n",
        "#### Наименование признаков\n",
        "\n",
        "> Наименование признаков должно быть такое:\n",
        "> `[этап].[тип_параметра].[название_параметра]`\n",
        ">\n",
        ">  Пример: `rougher.input.feed_ag`\n",
        "\n",
        "#### Возможные значения для блока `[этап]`:\n",
        "- `rougher` — флотация\n",
        "- `primary_cleaner` — первичная очистка\n",
        "- `secondary_cleaner` — вторичная очистка\n",
        "- `final` — финальные характеристики\n",
        "\n",
        "\n",
        "#### Возможные значения для блока `[тип_параметра]`:\n",
        "- `input` — параметры сырья\n",
        "- `output` — параметры продукта\n",
        "- `state` — параметры, характеризующие текущее состояние этапа\n",
        "- `calculation` — расчётные характеристики\n",
        "\n",
        "\n",
        "### Расчёт эффективности\n",
        "Необходимо смоделировать процесс восстановления золота из золотосодержащей руды.\n",
        "\n",
        "Эффективность обогащения рассчитывается по формуле:\n",
        "\n",
        "\n",
        "\\begin{equation*}\n",
        "Recovery = \\frac{C\\times(F-T)}{F\\times(C-T)} \\times 100\\%\n",
        "\\end{equation*}\n",
        "где:\n",
        "- `C` — доля золота в концентрате после флотации/очистки;\n",
        "- `F` — доля золота в сырье/концентрате до флотации/очистки;\n",
        "- `T` — доля золота в отвальных хвостах после флотации/очистки.\n",
        "\n",
        "Для прогноза коэффициента нужно найти долю золота в концентратах и хвостах. Причём важен не только финальный продукт, но и черновой концентрат.\n",
        "\n",
        "\n",
        "### Метрика качества\n",
        "\n",
        "sMAPE (англ. Symmetric Mean Absolute Percentage Error, «симметричное среднее абсолютное процентное отклонение»).\n",
        "\n",
        "Она похожа на MAE, но выражается не в абсолютных величинах, а в относительных. \n",
        "Почему симметричная? Она одинаково учитывает масштаб и целевого признака, и предсказания.\n",
        "\n",
        "\n",
        "Метрика sMAPE вычисляется так:\n",
        "\n",
        "\\begin{equation*}\n",
        "    sMAPE = \\frac{1}{N}\\sum_{i=1}^N\\frac{\\mid{y_i-y'_i}\\mid}{(\\mid{y_i}\\mid+\\mid{y'_i}\\mid)/2} \\times 100\\%\n",
        "\\end{equation*}\n",
        "где:\n",
        "- `y(i)` значение целевого признака для объекта с порядковым номером i в выборке, на которой измеряется качество.\n",
        "- `y'(i)` значение предсказания для объекта с порядковым номером i, например, в тестовой выборке.\n",
        "\n",
        "#### Нужно спрогнозировать сразу две величины:\n",
        "- эффективность обогащения чернового концентрата rougher.output.recovery;\n",
        "- эффективность обогащения финального концентрата final.output.recovery.\n",
        "\n",
        "#### Итоговая метрика складывается из двух величин:\n",
        "\\begin{equation*}\n",
        "   sMAPE = 25\\% \\times sMAPE(rougher) + 75\\% \\times sMAPE(final)\n",
        "\\end{equation*}"
      ]
    },
    {
      "cell_type": "markdown",
      "metadata": {
        "id": "GSbVn1rHeXzm"
      },
      "source": [
        "### План работы\n",
        "1. [Подготовка данных](#prep)\n",
        "    1. [Загрузка и изучение файлов.](#open)\n",
        "    2. [Проверка эффективности рассчета обогащения для признака rougher.output.recovery.](#recovey)\n",
        "    3. [Анализ признаков, недоступных в тестовой выборке.](#test_features)\n",
        "    4. [Предобработка данных.](#preprocessing)\n",
        "2. [Исследовательский анализ данных](#eda)\n",
        "    1. [Изучение изменения концентрации металлов (Au, Ag, Pb) на различных этапах очистки.](#concentrate)\n",
        "    2. [Сравнение распределения размеров гранул сырья на обучающей и тестовой выборках.](#feed_size)\n",
        "    3. [Исследование суммарной концентрацию всех веществ на разных стадиях: в сырье, в черновом и финальном концентратах. Удаление аномалий.](#outliers)\n",
        "3. [Построение моделей](#models)\n",
        "    1. [Создание функции для вычисления итоговой sMAPE.](#smape)\n",
        "    2. [Обучение разных моделей и оценка их качества кросс-валидацией.](#cross_val)\n",
        "4. [Общий вывод](#output)"
      ]
    },
    {
      "cell_type": "markdown",
      "metadata": {
        "id": "h2lmRhMEeXzn"
      },
      "source": [
        "<a id='prep'></a>\n",
        "## 1. Подготовка данных"
      ]
    },
    {
      "cell_type": "code",
      "metadata": {
        "id": "Pxo-fcmneXzo"
      },
      "source": [
        "import pandas as pd\n",
        "import numpy as np\n",
        "import scipy.stats as st\n",
        "import matplotlib.pyplot as plt\n",
        "import seaborn as sns\n",
        "from sklearn.model_selection import cross_val_score, GridSearchCV\n",
        "from sklearn.linear_model import LinearRegression, Ridge, Lasso, ElasticNet\n",
        "from sklearn.ensemble import RandomForestRegressor\n",
        "from sklearn.preprocessing import StandardScaler\n",
        "from sklearn.feature_selection import SelectKBest, f_regression\n",
        "from sklearn.metrics import mean_absolute_error, r2_score\n",
        "sns.set_style('whitegrid')"
      ],
      "execution_count": null,
      "outputs": []
    },
    {
      "cell_type": "markdown",
      "metadata": {
        "id": "XxSg6ic_eXzt"
      },
      "source": [
        "<a id='open'></a>"
      ]
    },
    {
      "cell_type": "code",
      "metadata": {
        "id": "SbKtserHeXzu"
      },
      "source": [
        "train = pd.read_csv('/datasets/gold_recovery_train.csv')\n",
        "test = pd.read_csv('/datasets/gold_recovery_test.csv')\n",
        "full = pd.read_csv('/datasets/gold_recovery_full.csv')\n",
        "dfs = {'full':full, 'train':train, 'test':test}"
      ],
      "execution_count": null,
      "outputs": []
    },
    {
      "cell_type": "code",
      "metadata": {
        "id": "dZny6W6qeXzw"
      },
      "source": [
        "class colors:\n",
        "    header = '\\033[95m'\n",
        "    okblue = '\\033[94m'\n",
        "    okgreen = '\\033[92m'\n",
        "    warning = '\\033[93m'\n",
        "    fail = '\\033[91m'\n",
        "    end = '\\033[0m'\n",
        "    bold = '\\033[1m'\n",
        "    under = '\\033[4m'\n",
        "\n",
        "class Research:\n",
        "    \n",
        "    def __init__(self, df_dict):\n",
        "        self.df_dict = df_dict   \n",
        "        \n",
        "    def __repr__(self):\n",
        "        string = ', '.join(list(self.df_dict.keys()))\n",
        "        return f'Объект содержит датасеты: {string}'\n",
        "\n",
        "    def sum_nans(self, df=None, mass=True):\n",
        "        if mass==True:\n",
        "            for i in self.df_dict:\n",
        "                len_nan = len(self.df_dict[i].isna().sum()[self.df_dict[i].isna().sum() > 0])\n",
        "                all_nan = self.df_dict[i].isna().sum().sum()\n",
        "                rows_nan = self.df_dict[i].shape[0] - self.df_dict[i].dropna().shape[0]\n",
        "                print(f'Сумма пропусков в датасете {i} составляет: {all_nan}, число записей с пропусками: {rows_nan}, число столбцов с пропусками: {len_nan}')\n",
        "        else:\n",
        "            len_nan = len(df.isna().sum()[df.isna().sum() > 0])\n",
        "            sum_nan = df.isna().sum().sum()\n",
        "            rows_nan = df.shape[0] - df.dropna().shape[0]\n",
        "            print(f'Сумма пропусков составляет: {sum_nan}, число записей с пропусками: {rows_nan}, число столбцов с пропусками: {len_nan}')\n",
        "    \n",
        "    def all_dupl(self):\n",
        "        for i in self.df_dict:\n",
        "            print(f'Число дубликатов в датасете {i} составляет:', self.df_dict[i].duplicated().sum())\n",
        "    \n",
        "    def demo(self, head=True):\n",
        "        if head==True:\n",
        "            for i in self.df_dict:\n",
        "                display(self.df_dict[i].head(3))\n",
        "                print(f'Датасет {colors.bold}{i}{colors.end}, число записей составляет: {self.df_dict[i].shape[0]}, число столбцов: {self.df_dict[i].shape[1]} ')\n",
        "        else:\n",
        "            for i in self.df_dict:\n",
        "                print(f'Датасет {colors.bold}{i}{colors.end}, число записей составляет: {self.df_dict[i].shape[0]}, число столбцов: {self.df_dict[i].shape[1]} ')"
      ],
      "execution_count": null,
      "outputs": []
    },
    {
      "cell_type": "code",
      "metadata": {
        "id": "XagOBaZmeXzz"
      },
      "source": [
        "research = Research(dfs)"
      ],
      "execution_count": null,
      "outputs": []
    },
    {
      "cell_type": "code",
      "metadata": {
        "id": "ZCdpB8JaeXz1",
        "outputId": "2e47e8b8-9a77-4f49-d729-91a3b47192ab"
      },
      "source": [
        "print(research)"
      ],
      "execution_count": null,
      "outputs": [
        {
          "output_type": "stream",
          "text": [
            "Объект содержит датасеты: full, train, test\n"
          ],
          "name": "stdout"
        }
      ]
    },
    {
      "cell_type": "code",
      "metadata": {
        "scrolled": true,
        "id": "XPCtKS68eXz5",
        "outputId": "bd56be3c-cbf1-4c15-f9ec-09686ac03a90"
      },
      "source": [
        "full.info()"
      ],
      "execution_count": null,
      "outputs": [
        {
          "output_type": "stream",
          "text": [
            "<class 'pandas.core.frame.DataFrame'>\n",
            "RangeIndex: 22716 entries, 0 to 22715\n",
            "Data columns (total 87 columns):\n",
            "date                                                  22716 non-null object\n",
            "final.output.concentrate_ag                           22627 non-null float64\n",
            "final.output.concentrate_pb                           22629 non-null float64\n",
            "final.output.concentrate_sol                          22331 non-null float64\n",
            "final.output.concentrate_au                           22630 non-null float64\n",
            "final.output.recovery                                 20753 non-null float64\n",
            "final.output.tail_ag                                  22633 non-null float64\n",
            "final.output.tail_pb                                  22516 non-null float64\n",
            "final.output.tail_sol                                 22445 non-null float64\n",
            "final.output.tail_au                                  22635 non-null float64\n",
            "primary_cleaner.input.sulfate                         21107 non-null float64\n",
            "primary_cleaner.input.depressant                      21170 non-null float64\n",
            "primary_cleaner.input.feed_size                       22716 non-null float64\n",
            "primary_cleaner.input.xanthate                        21565 non-null float64\n",
            "primary_cleaner.output.concentrate_ag                 22618 non-null float64\n",
            "primary_cleaner.output.concentrate_pb                 22268 non-null float64\n",
            "primary_cleaner.output.concentrate_sol                21918 non-null float64\n",
            "primary_cleaner.output.concentrate_au                 22618 non-null float64\n",
            "primary_cleaner.output.tail_ag                        22614 non-null float64\n",
            "primary_cleaner.output.tail_pb                        22594 non-null float64\n",
            "primary_cleaner.output.tail_sol                       22365 non-null float64\n",
            "primary_cleaner.output.tail_au                        22617 non-null float64\n",
            "primary_cleaner.state.floatbank8_a_air                22660 non-null float64\n",
            "primary_cleaner.state.floatbank8_a_level              22667 non-null float64\n",
            "primary_cleaner.state.floatbank8_b_air                22660 non-null float64\n",
            "primary_cleaner.state.floatbank8_b_level              22673 non-null float64\n",
            "primary_cleaner.state.floatbank8_c_air                22662 non-null float64\n",
            "primary_cleaner.state.floatbank8_c_level              22673 non-null float64\n",
            "primary_cleaner.state.floatbank8_d_air                22661 non-null float64\n",
            "primary_cleaner.state.floatbank8_d_level              22673 non-null float64\n",
            "rougher.calculation.sulfate_to_au_concentrate         22672 non-null float64\n",
            "rougher.calculation.floatbank10_sulfate_to_au_feed    22672 non-null float64\n",
            "rougher.calculation.floatbank11_sulfate_to_au_feed    22672 non-null float64\n",
            "rougher.calculation.au_pb_ratio                       21089 non-null float64\n",
            "rougher.input.feed_ag                                 22618 non-null float64\n",
            "rougher.input.feed_pb                                 22472 non-null float64\n",
            "rougher.input.feed_rate                               22163 non-null float64\n",
            "rougher.input.feed_size                               22277 non-null float64\n",
            "rougher.input.feed_sol                                22357 non-null float64\n",
            "rougher.input.feed_au                                 22617 non-null float64\n",
            "rougher.input.floatbank10_sulfate                     21415 non-null float64\n",
            "rougher.input.floatbank10_xanthate                    22247 non-null float64\n",
            "rougher.input.floatbank11_sulfate                     22038 non-null float64\n",
            "rougher.input.floatbank11_xanthate                    20459 non-null float64\n",
            "rougher.output.concentrate_ag                         22618 non-null float64\n",
            "rougher.output.concentrate_pb                         22618 non-null float64\n",
            "rougher.output.concentrate_sol                        22526 non-null float64\n",
            "rougher.output.concentrate_au                         22618 non-null float64\n",
            "rougher.output.recovery                               19597 non-null float64\n",
            "rougher.output.tail_ag                                19979 non-null float64\n",
            "rougher.output.tail_pb                                22618 non-null float64\n",
            "rougher.output.tail_sol                               19980 non-null float64\n",
            "rougher.output.tail_au                                19980 non-null float64\n",
            "rougher.state.floatbank10_a_air                       22646 non-null float64\n",
            "rougher.state.floatbank10_a_level                     22647 non-null float64\n",
            "rougher.state.floatbank10_b_air                       22646 non-null float64\n",
            "rougher.state.floatbank10_b_level                     22647 non-null float64\n",
            "rougher.state.floatbank10_c_air                       22646 non-null float64\n",
            "rougher.state.floatbank10_c_level                     22654 non-null float64\n",
            "rougher.state.floatbank10_d_air                       22641 non-null float64\n",
            "rougher.state.floatbank10_d_level                     22649 non-null float64\n",
            "rougher.state.floatbank10_e_air                       22096 non-null float64\n",
            "rougher.state.floatbank10_e_level                     22649 non-null float64\n",
            "rougher.state.floatbank10_f_air                       22641 non-null float64\n",
            "rougher.state.floatbank10_f_level                     22642 non-null float64\n",
            "secondary_cleaner.output.tail_ag                      22616 non-null float64\n",
            "secondary_cleaner.output.tail_pb                      22600 non-null float64\n",
            "secondary_cleaner.output.tail_sol                     20501 non-null float64\n",
            "secondary_cleaner.output.tail_au                      22618 non-null float64\n",
            "secondary_cleaner.state.floatbank2_a_air              22333 non-null float64\n",
            "secondary_cleaner.state.floatbank2_a_level            22591 non-null float64\n",
            "secondary_cleaner.state.floatbank2_b_air              22538 non-null float64\n",
            "secondary_cleaner.state.floatbank2_b_level            22588 non-null float64\n",
            "secondary_cleaner.state.floatbank3_a_air              22585 non-null float64\n",
            "secondary_cleaner.state.floatbank3_a_level            22587 non-null float64\n",
            "secondary_cleaner.state.floatbank3_b_air              22592 non-null float64\n",
            "secondary_cleaner.state.floatbank3_b_level            22590 non-null float64\n",
            "secondary_cleaner.state.floatbank4_a_air              22571 non-null float64\n",
            "secondary_cleaner.state.floatbank4_a_level            22587 non-null float64\n",
            "secondary_cleaner.state.floatbank4_b_air              22608 non-null float64\n",
            "secondary_cleaner.state.floatbank4_b_level            22607 non-null float64\n",
            "secondary_cleaner.state.floatbank5_a_air              22615 non-null float64\n",
            "secondary_cleaner.state.floatbank5_a_level            22615 non-null float64\n",
            "secondary_cleaner.state.floatbank5_b_air              22615 non-null float64\n",
            "secondary_cleaner.state.floatbank5_b_level            22616 non-null float64\n",
            "secondary_cleaner.state.floatbank6_a_air              22597 non-null float64\n",
            "secondary_cleaner.state.floatbank6_a_level            22615 non-null float64\n",
            "dtypes: float64(86), object(1)\n",
            "memory usage: 15.1+ MB\n"
          ],
          "name": "stdout"
        }
      ]
    },
    {
      "cell_type": "code",
      "metadata": {
        "scrolled": false,
        "id": "eF43aCpmeX0E",
        "outputId": "c93ee908-9d76-48de-fe29-9e4abe9f8209"
      },
      "source": [
        "research.demo()"
      ],
      "execution_count": null,
      "outputs": [
        {
          "output_type": "display_data",
          "data": {
            "text/html": [
              "<div>\n",
              "<style scoped>\n",
              "    .dataframe tbody tr th:only-of-type {\n",
              "        vertical-align: middle;\n",
              "    }\n",
              "\n",
              "    .dataframe tbody tr th {\n",
              "        vertical-align: top;\n",
              "    }\n",
              "\n",
              "    .dataframe thead th {\n",
              "        text-align: right;\n",
              "    }\n",
              "</style>\n",
              "<table border=\"1\" class=\"dataframe\">\n",
              "  <thead>\n",
              "    <tr style=\"text-align: right;\">\n",
              "      <th></th>\n",
              "      <th>date</th>\n",
              "      <th>final.output.concentrate_ag</th>\n",
              "      <th>final.output.concentrate_pb</th>\n",
              "      <th>final.output.concentrate_sol</th>\n",
              "      <th>final.output.concentrate_au</th>\n",
              "      <th>final.output.recovery</th>\n",
              "      <th>final.output.tail_ag</th>\n",
              "      <th>final.output.tail_pb</th>\n",
              "      <th>final.output.tail_sol</th>\n",
              "      <th>final.output.tail_au</th>\n",
              "      <th>...</th>\n",
              "      <th>secondary_cleaner.state.floatbank4_a_air</th>\n",
              "      <th>secondary_cleaner.state.floatbank4_a_level</th>\n",
              "      <th>secondary_cleaner.state.floatbank4_b_air</th>\n",
              "      <th>secondary_cleaner.state.floatbank4_b_level</th>\n",
              "      <th>secondary_cleaner.state.floatbank5_a_air</th>\n",
              "      <th>secondary_cleaner.state.floatbank5_a_level</th>\n",
              "      <th>secondary_cleaner.state.floatbank5_b_air</th>\n",
              "      <th>secondary_cleaner.state.floatbank5_b_level</th>\n",
              "      <th>secondary_cleaner.state.floatbank6_a_air</th>\n",
              "      <th>secondary_cleaner.state.floatbank6_a_level</th>\n",
              "    </tr>\n",
              "  </thead>\n",
              "  <tbody>\n",
              "    <tr>\n",
              "      <td>0</td>\n",
              "      <td>2016-01-15 00:00:00</td>\n",
              "      <td>6.055403</td>\n",
              "      <td>9.889648</td>\n",
              "      <td>5.507324</td>\n",
              "      <td>42.192020</td>\n",
              "      <td>70.541216</td>\n",
              "      <td>10.411962</td>\n",
              "      <td>0.895447</td>\n",
              "      <td>16.904297</td>\n",
              "      <td>2.143149</td>\n",
              "      <td>...</td>\n",
              "      <td>14.016835</td>\n",
              "      <td>-502.488007</td>\n",
              "      <td>12.099931</td>\n",
              "      <td>-504.715942</td>\n",
              "      <td>9.925633</td>\n",
              "      <td>-498.310211</td>\n",
              "      <td>8.079666</td>\n",
              "      <td>-500.470978</td>\n",
              "      <td>14.151341</td>\n",
              "      <td>-605.841980</td>\n",
              "    </tr>\n",
              "    <tr>\n",
              "      <td>1</td>\n",
              "      <td>2016-01-15 01:00:00</td>\n",
              "      <td>6.029369</td>\n",
              "      <td>9.968944</td>\n",
              "      <td>5.257781</td>\n",
              "      <td>42.701629</td>\n",
              "      <td>69.266198</td>\n",
              "      <td>10.462676</td>\n",
              "      <td>0.927452</td>\n",
              "      <td>16.634514</td>\n",
              "      <td>2.224930</td>\n",
              "      <td>...</td>\n",
              "      <td>13.992281</td>\n",
              "      <td>-505.503262</td>\n",
              "      <td>11.950531</td>\n",
              "      <td>-501.331529</td>\n",
              "      <td>10.039245</td>\n",
              "      <td>-500.169983</td>\n",
              "      <td>7.984757</td>\n",
              "      <td>-500.582168</td>\n",
              "      <td>13.998353</td>\n",
              "      <td>-599.787184</td>\n",
              "    </tr>\n",
              "    <tr>\n",
              "      <td>2</td>\n",
              "      <td>2016-01-15 02:00:00</td>\n",
              "      <td>6.055926</td>\n",
              "      <td>10.213995</td>\n",
              "      <td>5.383759</td>\n",
              "      <td>42.657501</td>\n",
              "      <td>68.116445</td>\n",
              "      <td>10.507046</td>\n",
              "      <td>0.953716</td>\n",
              "      <td>16.208849</td>\n",
              "      <td>2.257889</td>\n",
              "      <td>...</td>\n",
              "      <td>14.015015</td>\n",
              "      <td>-502.520901</td>\n",
              "      <td>11.912783</td>\n",
              "      <td>-501.133383</td>\n",
              "      <td>10.070913</td>\n",
              "      <td>-500.129135</td>\n",
              "      <td>8.013877</td>\n",
              "      <td>-500.517572</td>\n",
              "      <td>14.028663</td>\n",
              "      <td>-601.427363</td>\n",
              "    </tr>\n",
              "  </tbody>\n",
              "</table>\n",
              "<p>3 rows × 87 columns</p>\n",
              "</div>"
            ],
            "text/plain": [
              "                  date  final.output.concentrate_ag  \\\n",
              "0  2016-01-15 00:00:00                     6.055403   \n",
              "1  2016-01-15 01:00:00                     6.029369   \n",
              "2  2016-01-15 02:00:00                     6.055926   \n",
              "\n",
              "   final.output.concentrate_pb  final.output.concentrate_sol  \\\n",
              "0                     9.889648                      5.507324   \n",
              "1                     9.968944                      5.257781   \n",
              "2                    10.213995                      5.383759   \n",
              "\n",
              "   final.output.concentrate_au  final.output.recovery  final.output.tail_ag  \\\n",
              "0                    42.192020              70.541216             10.411962   \n",
              "1                    42.701629              69.266198             10.462676   \n",
              "2                    42.657501              68.116445             10.507046   \n",
              "\n",
              "   final.output.tail_pb  final.output.tail_sol  final.output.tail_au  ...  \\\n",
              "0              0.895447              16.904297              2.143149  ...   \n",
              "1              0.927452              16.634514              2.224930  ...   \n",
              "2              0.953716              16.208849              2.257889  ...   \n",
              "\n",
              "   secondary_cleaner.state.floatbank4_a_air  \\\n",
              "0                                 14.016835   \n",
              "1                                 13.992281   \n",
              "2                                 14.015015   \n",
              "\n",
              "   secondary_cleaner.state.floatbank4_a_level  \\\n",
              "0                                 -502.488007   \n",
              "1                                 -505.503262   \n",
              "2                                 -502.520901   \n",
              "\n",
              "   secondary_cleaner.state.floatbank4_b_air  \\\n",
              "0                                 12.099931   \n",
              "1                                 11.950531   \n",
              "2                                 11.912783   \n",
              "\n",
              "   secondary_cleaner.state.floatbank4_b_level  \\\n",
              "0                                 -504.715942   \n",
              "1                                 -501.331529   \n",
              "2                                 -501.133383   \n",
              "\n",
              "   secondary_cleaner.state.floatbank5_a_air  \\\n",
              "0                                  9.925633   \n",
              "1                                 10.039245   \n",
              "2                                 10.070913   \n",
              "\n",
              "   secondary_cleaner.state.floatbank5_a_level  \\\n",
              "0                                 -498.310211   \n",
              "1                                 -500.169983   \n",
              "2                                 -500.129135   \n",
              "\n",
              "   secondary_cleaner.state.floatbank5_b_air  \\\n",
              "0                                  8.079666   \n",
              "1                                  7.984757   \n",
              "2                                  8.013877   \n",
              "\n",
              "   secondary_cleaner.state.floatbank5_b_level  \\\n",
              "0                                 -500.470978   \n",
              "1                                 -500.582168   \n",
              "2                                 -500.517572   \n",
              "\n",
              "   secondary_cleaner.state.floatbank6_a_air  \\\n",
              "0                                 14.151341   \n",
              "1                                 13.998353   \n",
              "2                                 14.028663   \n",
              "\n",
              "   secondary_cleaner.state.floatbank6_a_level  \n",
              "0                                 -605.841980  \n",
              "1                                 -599.787184  \n",
              "2                                 -601.427363  \n",
              "\n",
              "[3 rows x 87 columns]"
            ]
          },
          "metadata": {
            "tags": []
          }
        },
        {
          "output_type": "stream",
          "text": [
            "Датасет \u001b[1mfull\u001b[0m, число записей составляет: 22716, число столбцов: 87 \n"
          ],
          "name": "stdout"
        },
        {
          "output_type": "display_data",
          "data": {
            "text/html": [
              "<div>\n",
              "<style scoped>\n",
              "    .dataframe tbody tr th:only-of-type {\n",
              "        vertical-align: middle;\n",
              "    }\n",
              "\n",
              "    .dataframe tbody tr th {\n",
              "        vertical-align: top;\n",
              "    }\n",
              "\n",
              "    .dataframe thead th {\n",
              "        text-align: right;\n",
              "    }\n",
              "</style>\n",
              "<table border=\"1\" class=\"dataframe\">\n",
              "  <thead>\n",
              "    <tr style=\"text-align: right;\">\n",
              "      <th></th>\n",
              "      <th>date</th>\n",
              "      <th>final.output.concentrate_ag</th>\n",
              "      <th>final.output.concentrate_pb</th>\n",
              "      <th>final.output.concentrate_sol</th>\n",
              "      <th>final.output.concentrate_au</th>\n",
              "      <th>final.output.recovery</th>\n",
              "      <th>final.output.tail_ag</th>\n",
              "      <th>final.output.tail_pb</th>\n",
              "      <th>final.output.tail_sol</th>\n",
              "      <th>final.output.tail_au</th>\n",
              "      <th>...</th>\n",
              "      <th>secondary_cleaner.state.floatbank4_a_air</th>\n",
              "      <th>secondary_cleaner.state.floatbank4_a_level</th>\n",
              "      <th>secondary_cleaner.state.floatbank4_b_air</th>\n",
              "      <th>secondary_cleaner.state.floatbank4_b_level</th>\n",
              "      <th>secondary_cleaner.state.floatbank5_a_air</th>\n",
              "      <th>secondary_cleaner.state.floatbank5_a_level</th>\n",
              "      <th>secondary_cleaner.state.floatbank5_b_air</th>\n",
              "      <th>secondary_cleaner.state.floatbank5_b_level</th>\n",
              "      <th>secondary_cleaner.state.floatbank6_a_air</th>\n",
              "      <th>secondary_cleaner.state.floatbank6_a_level</th>\n",
              "    </tr>\n",
              "  </thead>\n",
              "  <tbody>\n",
              "    <tr>\n",
              "      <td>0</td>\n",
              "      <td>2016-01-15 00:00:00</td>\n",
              "      <td>6.055403</td>\n",
              "      <td>9.889648</td>\n",
              "      <td>5.507324</td>\n",
              "      <td>42.192020</td>\n",
              "      <td>70.541216</td>\n",
              "      <td>10.411962</td>\n",
              "      <td>0.895447</td>\n",
              "      <td>16.904297</td>\n",
              "      <td>2.143149</td>\n",
              "      <td>...</td>\n",
              "      <td>14.016835</td>\n",
              "      <td>-502.488007</td>\n",
              "      <td>12.099931</td>\n",
              "      <td>-504.715942</td>\n",
              "      <td>9.925633</td>\n",
              "      <td>-498.310211</td>\n",
              "      <td>8.079666</td>\n",
              "      <td>-500.470978</td>\n",
              "      <td>14.151341</td>\n",
              "      <td>-605.841980</td>\n",
              "    </tr>\n",
              "    <tr>\n",
              "      <td>1</td>\n",
              "      <td>2016-01-15 01:00:00</td>\n",
              "      <td>6.029369</td>\n",
              "      <td>9.968944</td>\n",
              "      <td>5.257781</td>\n",
              "      <td>42.701629</td>\n",
              "      <td>69.266198</td>\n",
              "      <td>10.462676</td>\n",
              "      <td>0.927452</td>\n",
              "      <td>16.634514</td>\n",
              "      <td>2.224930</td>\n",
              "      <td>...</td>\n",
              "      <td>13.992281</td>\n",
              "      <td>-505.503262</td>\n",
              "      <td>11.950531</td>\n",
              "      <td>-501.331529</td>\n",
              "      <td>10.039245</td>\n",
              "      <td>-500.169983</td>\n",
              "      <td>7.984757</td>\n",
              "      <td>-500.582168</td>\n",
              "      <td>13.998353</td>\n",
              "      <td>-599.787184</td>\n",
              "    </tr>\n",
              "    <tr>\n",
              "      <td>2</td>\n",
              "      <td>2016-01-15 02:00:00</td>\n",
              "      <td>6.055926</td>\n",
              "      <td>10.213995</td>\n",
              "      <td>5.383759</td>\n",
              "      <td>42.657501</td>\n",
              "      <td>68.116445</td>\n",
              "      <td>10.507046</td>\n",
              "      <td>0.953716</td>\n",
              "      <td>16.208849</td>\n",
              "      <td>2.257889</td>\n",
              "      <td>...</td>\n",
              "      <td>14.015015</td>\n",
              "      <td>-502.520901</td>\n",
              "      <td>11.912783</td>\n",
              "      <td>-501.133383</td>\n",
              "      <td>10.070913</td>\n",
              "      <td>-500.129135</td>\n",
              "      <td>8.013877</td>\n",
              "      <td>-500.517572</td>\n",
              "      <td>14.028663</td>\n",
              "      <td>-601.427363</td>\n",
              "    </tr>\n",
              "  </tbody>\n",
              "</table>\n",
              "<p>3 rows × 87 columns</p>\n",
              "</div>"
            ],
            "text/plain": [
              "                  date  final.output.concentrate_ag  \\\n",
              "0  2016-01-15 00:00:00                     6.055403   \n",
              "1  2016-01-15 01:00:00                     6.029369   \n",
              "2  2016-01-15 02:00:00                     6.055926   \n",
              "\n",
              "   final.output.concentrate_pb  final.output.concentrate_sol  \\\n",
              "0                     9.889648                      5.507324   \n",
              "1                     9.968944                      5.257781   \n",
              "2                    10.213995                      5.383759   \n",
              "\n",
              "   final.output.concentrate_au  final.output.recovery  final.output.tail_ag  \\\n",
              "0                    42.192020              70.541216             10.411962   \n",
              "1                    42.701629              69.266198             10.462676   \n",
              "2                    42.657501              68.116445             10.507046   \n",
              "\n",
              "   final.output.tail_pb  final.output.tail_sol  final.output.tail_au  ...  \\\n",
              "0              0.895447              16.904297              2.143149  ...   \n",
              "1              0.927452              16.634514              2.224930  ...   \n",
              "2              0.953716              16.208849              2.257889  ...   \n",
              "\n",
              "   secondary_cleaner.state.floatbank4_a_air  \\\n",
              "0                                 14.016835   \n",
              "1                                 13.992281   \n",
              "2                                 14.015015   \n",
              "\n",
              "   secondary_cleaner.state.floatbank4_a_level  \\\n",
              "0                                 -502.488007   \n",
              "1                                 -505.503262   \n",
              "2                                 -502.520901   \n",
              "\n",
              "   secondary_cleaner.state.floatbank4_b_air  \\\n",
              "0                                 12.099931   \n",
              "1                                 11.950531   \n",
              "2                                 11.912783   \n",
              "\n",
              "   secondary_cleaner.state.floatbank4_b_level  \\\n",
              "0                                 -504.715942   \n",
              "1                                 -501.331529   \n",
              "2                                 -501.133383   \n",
              "\n",
              "   secondary_cleaner.state.floatbank5_a_air  \\\n",
              "0                                  9.925633   \n",
              "1                                 10.039245   \n",
              "2                                 10.070913   \n",
              "\n",
              "   secondary_cleaner.state.floatbank5_a_level  \\\n",
              "0                                 -498.310211   \n",
              "1                                 -500.169983   \n",
              "2                                 -500.129135   \n",
              "\n",
              "   secondary_cleaner.state.floatbank5_b_air  \\\n",
              "0                                  8.079666   \n",
              "1                                  7.984757   \n",
              "2                                  8.013877   \n",
              "\n",
              "   secondary_cleaner.state.floatbank5_b_level  \\\n",
              "0                                 -500.470978   \n",
              "1                                 -500.582168   \n",
              "2                                 -500.517572   \n",
              "\n",
              "   secondary_cleaner.state.floatbank6_a_air  \\\n",
              "0                                 14.151341   \n",
              "1                                 13.998353   \n",
              "2                                 14.028663   \n",
              "\n",
              "   secondary_cleaner.state.floatbank6_a_level  \n",
              "0                                 -605.841980  \n",
              "1                                 -599.787184  \n",
              "2                                 -601.427363  \n",
              "\n",
              "[3 rows x 87 columns]"
            ]
          },
          "metadata": {
            "tags": []
          }
        },
        {
          "output_type": "stream",
          "text": [
            "Датасет \u001b[1mtrain\u001b[0m, число записей составляет: 16860, число столбцов: 87 \n"
          ],
          "name": "stdout"
        },
        {
          "output_type": "display_data",
          "data": {
            "text/html": [
              "<div>\n",
              "<style scoped>\n",
              "    .dataframe tbody tr th:only-of-type {\n",
              "        vertical-align: middle;\n",
              "    }\n",
              "\n",
              "    .dataframe tbody tr th {\n",
              "        vertical-align: top;\n",
              "    }\n",
              "\n",
              "    .dataframe thead th {\n",
              "        text-align: right;\n",
              "    }\n",
              "</style>\n",
              "<table border=\"1\" class=\"dataframe\">\n",
              "  <thead>\n",
              "    <tr style=\"text-align: right;\">\n",
              "      <th></th>\n",
              "      <th>date</th>\n",
              "      <th>primary_cleaner.input.sulfate</th>\n",
              "      <th>primary_cleaner.input.depressant</th>\n",
              "      <th>primary_cleaner.input.feed_size</th>\n",
              "      <th>primary_cleaner.input.xanthate</th>\n",
              "      <th>primary_cleaner.state.floatbank8_a_air</th>\n",
              "      <th>primary_cleaner.state.floatbank8_a_level</th>\n",
              "      <th>primary_cleaner.state.floatbank8_b_air</th>\n",
              "      <th>primary_cleaner.state.floatbank8_b_level</th>\n",
              "      <th>primary_cleaner.state.floatbank8_c_air</th>\n",
              "      <th>...</th>\n",
              "      <th>secondary_cleaner.state.floatbank4_a_air</th>\n",
              "      <th>secondary_cleaner.state.floatbank4_a_level</th>\n",
              "      <th>secondary_cleaner.state.floatbank4_b_air</th>\n",
              "      <th>secondary_cleaner.state.floatbank4_b_level</th>\n",
              "      <th>secondary_cleaner.state.floatbank5_a_air</th>\n",
              "      <th>secondary_cleaner.state.floatbank5_a_level</th>\n",
              "      <th>secondary_cleaner.state.floatbank5_b_air</th>\n",
              "      <th>secondary_cleaner.state.floatbank5_b_level</th>\n",
              "      <th>secondary_cleaner.state.floatbank6_a_air</th>\n",
              "      <th>secondary_cleaner.state.floatbank6_a_level</th>\n",
              "    </tr>\n",
              "  </thead>\n",
              "  <tbody>\n",
              "    <tr>\n",
              "      <td>0</td>\n",
              "      <td>2016-09-01 00:59:59</td>\n",
              "      <td>210.800909</td>\n",
              "      <td>14.993118</td>\n",
              "      <td>8.080000</td>\n",
              "      <td>1.005021</td>\n",
              "      <td>1398.981301</td>\n",
              "      <td>-500.225577</td>\n",
              "      <td>1399.144926</td>\n",
              "      <td>-499.919735</td>\n",
              "      <td>1400.102998</td>\n",
              "      <td>...</td>\n",
              "      <td>12.023554</td>\n",
              "      <td>-497.795834</td>\n",
              "      <td>8.016656</td>\n",
              "      <td>-501.289139</td>\n",
              "      <td>7.946562</td>\n",
              "      <td>-432.317850</td>\n",
              "      <td>4.872511</td>\n",
              "      <td>-500.037437</td>\n",
              "      <td>26.705889</td>\n",
              "      <td>-499.709414</td>\n",
              "    </tr>\n",
              "    <tr>\n",
              "      <td>1</td>\n",
              "      <td>2016-09-01 01:59:59</td>\n",
              "      <td>215.392455</td>\n",
              "      <td>14.987471</td>\n",
              "      <td>8.080000</td>\n",
              "      <td>0.990469</td>\n",
              "      <td>1398.777912</td>\n",
              "      <td>-500.057435</td>\n",
              "      <td>1398.055362</td>\n",
              "      <td>-499.778182</td>\n",
              "      <td>1396.151033</td>\n",
              "      <td>...</td>\n",
              "      <td>12.058140</td>\n",
              "      <td>-498.695773</td>\n",
              "      <td>8.130979</td>\n",
              "      <td>-499.634209</td>\n",
              "      <td>7.958270</td>\n",
              "      <td>-525.839648</td>\n",
              "      <td>4.878850</td>\n",
              "      <td>-500.162375</td>\n",
              "      <td>25.019940</td>\n",
              "      <td>-499.819438</td>\n",
              "    </tr>\n",
              "    <tr>\n",
              "      <td>2</td>\n",
              "      <td>2016-09-01 02:59:59</td>\n",
              "      <td>215.259946</td>\n",
              "      <td>12.884934</td>\n",
              "      <td>7.786667</td>\n",
              "      <td>0.996043</td>\n",
              "      <td>1398.493666</td>\n",
              "      <td>-500.868360</td>\n",
              "      <td>1398.860436</td>\n",
              "      <td>-499.764529</td>\n",
              "      <td>1398.075709</td>\n",
              "      <td>...</td>\n",
              "      <td>11.962366</td>\n",
              "      <td>-498.767484</td>\n",
              "      <td>8.096893</td>\n",
              "      <td>-500.827423</td>\n",
              "      <td>8.071056</td>\n",
              "      <td>-500.801673</td>\n",
              "      <td>4.905125</td>\n",
              "      <td>-499.828510</td>\n",
              "      <td>24.994862</td>\n",
              "      <td>-500.622559</td>\n",
              "    </tr>\n",
              "  </tbody>\n",
              "</table>\n",
              "<p>3 rows × 53 columns</p>\n",
              "</div>"
            ],
            "text/plain": [
              "                  date  primary_cleaner.input.sulfate  \\\n",
              "0  2016-09-01 00:59:59                     210.800909   \n",
              "1  2016-09-01 01:59:59                     215.392455   \n",
              "2  2016-09-01 02:59:59                     215.259946   \n",
              "\n",
              "   primary_cleaner.input.depressant  primary_cleaner.input.feed_size  \\\n",
              "0                         14.993118                         8.080000   \n",
              "1                         14.987471                         8.080000   \n",
              "2                         12.884934                         7.786667   \n",
              "\n",
              "   primary_cleaner.input.xanthate  primary_cleaner.state.floatbank8_a_air  \\\n",
              "0                        1.005021                             1398.981301   \n",
              "1                        0.990469                             1398.777912   \n",
              "2                        0.996043                             1398.493666   \n",
              "\n",
              "   primary_cleaner.state.floatbank8_a_level  \\\n",
              "0                               -500.225577   \n",
              "1                               -500.057435   \n",
              "2                               -500.868360   \n",
              "\n",
              "   primary_cleaner.state.floatbank8_b_air  \\\n",
              "0                             1399.144926   \n",
              "1                             1398.055362   \n",
              "2                             1398.860436   \n",
              "\n",
              "   primary_cleaner.state.floatbank8_b_level  \\\n",
              "0                               -499.919735   \n",
              "1                               -499.778182   \n",
              "2                               -499.764529   \n",
              "\n",
              "   primary_cleaner.state.floatbank8_c_air  ...  \\\n",
              "0                             1400.102998  ...   \n",
              "1                             1396.151033  ...   \n",
              "2                             1398.075709  ...   \n",
              "\n",
              "   secondary_cleaner.state.floatbank4_a_air  \\\n",
              "0                                 12.023554   \n",
              "1                                 12.058140   \n",
              "2                                 11.962366   \n",
              "\n",
              "   secondary_cleaner.state.floatbank4_a_level  \\\n",
              "0                                 -497.795834   \n",
              "1                                 -498.695773   \n",
              "2                                 -498.767484   \n",
              "\n",
              "   secondary_cleaner.state.floatbank4_b_air  \\\n",
              "0                                  8.016656   \n",
              "1                                  8.130979   \n",
              "2                                  8.096893   \n",
              "\n",
              "   secondary_cleaner.state.floatbank4_b_level  \\\n",
              "0                                 -501.289139   \n",
              "1                                 -499.634209   \n",
              "2                                 -500.827423   \n",
              "\n",
              "   secondary_cleaner.state.floatbank5_a_air  \\\n",
              "0                                  7.946562   \n",
              "1                                  7.958270   \n",
              "2                                  8.071056   \n",
              "\n",
              "   secondary_cleaner.state.floatbank5_a_level  \\\n",
              "0                                 -432.317850   \n",
              "1                                 -525.839648   \n",
              "2                                 -500.801673   \n",
              "\n",
              "   secondary_cleaner.state.floatbank5_b_air  \\\n",
              "0                                  4.872511   \n",
              "1                                  4.878850   \n",
              "2                                  4.905125   \n",
              "\n",
              "   secondary_cleaner.state.floatbank5_b_level  \\\n",
              "0                                 -500.037437   \n",
              "1                                 -500.162375   \n",
              "2                                 -499.828510   \n",
              "\n",
              "   secondary_cleaner.state.floatbank6_a_air  \\\n",
              "0                                 26.705889   \n",
              "1                                 25.019940   \n",
              "2                                 24.994862   \n",
              "\n",
              "   secondary_cleaner.state.floatbank6_a_level  \n",
              "0                                 -499.709414  \n",
              "1                                 -499.819438  \n",
              "2                                 -500.622559  \n",
              "\n",
              "[3 rows x 53 columns]"
            ]
          },
          "metadata": {
            "tags": []
          }
        },
        {
          "output_type": "stream",
          "text": [
            "Датасет \u001b[1mtest\u001b[0m, число записей составляет: 5856, число столбцов: 53 \n"
          ],
          "name": "stdout"
        }
      ]
    },
    {
      "cell_type": "markdown",
      "metadata": {
        "id": "WMAbKH2CeX0H"
      },
      "source": [
        "Перед нами 3 датасета, один с исходными данными, 2 оставшихся - разделенные тренировочная и обучающая выборка. Всего 22716 записей, 87 столбцов с признаками. В тестовую выборку попали только 53 столбца. В данных есть пропуски, исследуем их количество:"
      ]
    },
    {
      "cell_type": "code",
      "metadata": {
        "id": "5bmJHeDdeX0H",
        "outputId": "9cc7b69f-286c-4c41-d822-3e9cb679e094"
      },
      "source": [
        "research.sum_nans()"
      ],
      "execution_count": null,
      "outputs": [
        {
          "output_type": "stream",
          "text": [
            "Сумма пропусков в датасете full составляет: 36587, число записей с пропусками: 6622, число столбцов с пропусками: 85\n",
            "Сумма пропусков в датасете train составляет: 30320, число записей с пропусками: 5843, число столбцов с пропусками: 85\n",
            "Сумма пропусков в датасете test составляет: 2360, число записей с пропусками: 473, число столбцов с пропусками: 51\n"
          ],
          "name": "stdout"
        }
      ]
    },
    {
      "cell_type": "code",
      "metadata": {
        "id": "0lsUh5OqeX0J",
        "outputId": "3effcb71-808a-4169-a088-243bea7f8810"
      },
      "source": [
        "full.isna().sum().sort_values(ascending=False).head(10)"
      ],
      "execution_count": null,
      "outputs": [
        {
          "output_type": "execute_result",
          "data": {
            "text/plain": [
              "rougher.output.recovery               3119\n",
              "rougher.output.tail_ag                2737\n",
              "rougher.output.tail_sol               2736\n",
              "rougher.output.tail_au                2736\n",
              "rougher.input.floatbank11_xanthate    2257\n",
              "secondary_cleaner.output.tail_sol     2215\n",
              "final.output.recovery                 1963\n",
              "rougher.calculation.au_pb_ratio       1627\n",
              "primary_cleaner.input.sulfate         1609\n",
              "primary_cleaner.input.depressant      1546\n",
              "dtype: int64"
            ]
          },
          "metadata": {
            "tags": []
          },
          "execution_count": 9
        }
      ]
    },
    {
      "cell_type": "code",
      "metadata": {
        "id": "qEDI5jaFeX0L",
        "outputId": "3ad778dd-d9b7-46f0-90aa-cfc7a54cb7a1"
      },
      "source": [
        "train.isna().sum().sort_values(ascending=False).head(10)"
      ],
      "execution_count": null,
      "outputs": [
        {
          "output_type": "execute_result",
          "data": {
            "text/plain": [
              "rougher.output.recovery               2573\n",
              "rougher.output.tail_ag                2250\n",
              "rougher.output.tail_sol               2249\n",
              "rougher.output.tail_au                2249\n",
              "secondary_cleaner.output.tail_sol     1986\n",
              "rougher.input.floatbank11_xanthate    1904\n",
              "final.output.recovery                 1521\n",
              "primary_cleaner.input.sulfate         1307\n",
              "primary_cleaner.input.depressant      1262\n",
              "rougher.calculation.au_pb_ratio       1242\n",
              "dtype: int64"
            ]
          },
          "metadata": {
            "tags": []
          },
          "execution_count": 10
        }
      ]
    },
    {
      "cell_type": "code",
      "metadata": {
        "id": "qTVmi_8aeX0O",
        "outputId": "92081dd2-6a91-4403-84da-9b6daf737793"
      },
      "source": [
        "test.isna().sum().sort_values(ascending=False).head(10)"
      ],
      "execution_count": null,
      "outputs": [
        {
          "output_type": "execute_result",
          "data": {
            "text/plain": [
              "rougher.input.floatbank11_xanthate          353\n",
              "primary_cleaner.input.sulfate               302\n",
              "primary_cleaner.input.depressant            284\n",
              "rougher.input.floatbank10_sulfate           257\n",
              "primary_cleaner.input.xanthate              166\n",
              "rougher.input.floatbank10_xanthate          123\n",
              "rougher.input.feed_sol                       67\n",
              "rougher.input.floatbank11_sulfate            55\n",
              "rougher.input.feed_rate                      40\n",
              "secondary_cleaner.state.floatbank3_a_air     34\n",
              "dtype: int64"
            ]
          },
          "metadata": {
            "tags": []
          },
          "execution_count": 11
        }
      ]
    },
    {
      "cell_type": "markdown",
      "metadata": {
        "id": "QWHBwnYdeX0R"
      },
      "source": [
        "Изучим число дубликатов:"
      ]
    },
    {
      "cell_type": "code",
      "metadata": {
        "id": "njnHs_zTeX0S",
        "outputId": "d9be6fa7-7c69-45a4-8528-bad2a52c95d0"
      },
      "source": [
        "research.all_dupl()"
      ],
      "execution_count": null,
      "outputs": [
        {
          "output_type": "stream",
          "text": [
            "Число дубликатов в датасете full составляет: 0\n",
            "Число дубликатов в датасете train составляет: 0\n",
            "Число дубликатов в датасете test составляет: 0\n"
          ],
          "name": "stdout"
        }
      ]
    },
    {
      "cell_type": "markdown",
      "metadata": {
        "id": "hotFq1aJeX0V"
      },
      "source": [
        "<a id='recovery'></a>\n",
        "### Проверим, что эффективность обогащения рассчитана правильно\n",
        "\n",
        "Вычислим её на обучающей выборке для признака rougher.output.recovery и найдем MAE между расчётами и значением признака.\n",
        "\n",
        "Сперва найдем признаки этапа флотации, содержащие данные с долей золота в отвальных хвостах, долю золота в сырье и долю золота в концентрате после флотации:"
      ]
    },
    {
      "cell_type": "code",
      "metadata": {
        "id": "j-stBxZBeX0V"
      },
      "source": [
        "rougher = train.columns[train.columns.str.contains('rougher.[A-z.]+_au$')].tolist()"
      ],
      "execution_count": null,
      "outputs": []
    },
    {
      "cell_type": "code",
      "metadata": {
        "id": "Ak3V_pbkeX0Y",
        "outputId": "8ae89b05-708c-4c76-a3a4-340006a2b640"
      },
      "source": [
        "string = ', '.join(rougher)\n",
        "print(f'Признаки этапа флотации для золота: {colors.header}{string}')"
      ],
      "execution_count": null,
      "outputs": [
        {
          "output_type": "stream",
          "text": [
            "Признаки этапа флотации для золота: \u001b[95mrougher.input.feed_au, rougher.output.concentrate_au, rougher.output.tail_au\n"
          ],
          "name": "stdout"
        }
      ]
    },
    {
      "cell_type": "markdown",
      "metadata": {
        "id": "MmwOFDrGeX0a"
      },
      "source": [
        "Таким образом:\n",
        "\n",
        "- `rougher.output.concentrate_au` — доля золота в концентрате после флотации/очистки;\n",
        "- `rougher.input.feed_au` — доля золота в сырье/концентрате до флотации/очистки;\n",
        "- `rougher.output.tail_au` — доля золота в отвальных хвостах после флотации/очистки.\n",
        "\n",
        "Создадим датасет с фичами и целевым признаком:"
      ]
    },
    {
      "cell_type": "code",
      "metadata": {
        "id": "sAgcf5xWeX0a"
      },
      "source": [
        "df_validation = train[[*rougher, 'rougher.output.recovery']].copy()"
      ],
      "execution_count": null,
      "outputs": []
    },
    {
      "cell_type": "markdown",
      "metadata": {
        "id": "SWLwvwd3eX0e"
      },
      "source": [
        "В данных было много пропусков, из-за них эффективность обогащение рассчитать не получится, изучим их количество и удалим:"
      ]
    },
    {
      "cell_type": "code",
      "metadata": {
        "id": "MleTbTNQeX0f",
        "outputId": "da97c153-1475-41d9-a11a-c8cb35a8aa57"
      },
      "source": [
        "df_validation.isna().sum()"
      ],
      "execution_count": null,
      "outputs": [
        {
          "output_type": "execute_result",
          "data": {
            "text/plain": [
              "rougher.input.feed_au              83\n",
              "rougher.output.concentrate_au      82\n",
              "rougher.output.tail_au           2249\n",
              "rougher.output.recovery          2573\n",
              "dtype: int64"
            ]
          },
          "metadata": {
            "tags": []
          },
          "execution_count": 16
        }
      ]
    },
    {
      "cell_type": "code",
      "metadata": {
        "id": "GLcCOHLNeX0k"
      },
      "source": [
        "df_validation.dropna(subset=['rougher.output.recovery'], inplace=True)"
      ],
      "execution_count": null,
      "outputs": []
    },
    {
      "cell_type": "markdown",
      "metadata": {
        "id": "A0FmZPJkeX0m"
      },
      "source": [
        "Подставим значения в формулу и вычислим эффективность обогащения:"
      ]
    },
    {
      "cell_type": "code",
      "metadata": {
        "id": "G8BDnA8keX0n"
      },
      "source": [
        "def rate_rougher(row):\n",
        "    t = row['rougher.output.tail_au']\n",
        "    f = row['rougher.input.feed_au']\n",
        "    c = row['rougher.output.concentrate_au']\n",
        "    return (c*(f-t))/(f*(c-t)) * 100"
      ],
      "execution_count": null,
      "outputs": []
    },
    {
      "cell_type": "code",
      "metadata": {
        "id": "FHG2J7NxeX0p"
      },
      "source": [
        "df_validation['recovery_calculate'] = df_validation.apply(rate_rougher, axis=1)"
      ],
      "execution_count": null,
      "outputs": []
    },
    {
      "cell_type": "code",
      "metadata": {
        "scrolled": true,
        "id": "shdppvoyeX0q",
        "outputId": "41784387-afa0-40cf-9979-7b2175d2b22a"
      },
      "source": [
        "mae = mean_absolute_error(df_validation['rougher.output.recovery'], df_validation['recovery_calculate'])\n",
        "print(f'Средняя абсолютная ошибка между рассчетами составляет: {mae}')"
      ],
      "execution_count": null,
      "outputs": [
        {
          "output_type": "stream",
          "text": [
            "Средняя абсолютная ошибка между рассчетами составляет: 9.444891926100695e-15\n"
          ],
          "name": "stdout"
        }
      ]
    },
    {
      "cell_type": "markdown",
      "metadata": {
        "id": "39YkLiFPeX0t"
      },
      "source": [
        "Средняя абсолютная ошибка очень низкая и стремится к нулю, что говорит о высокой точности расчета эффективности обогащения."
      ]
    },
    {
      "cell_type": "markdown",
      "metadata": {
        "id": "B0_E2luseX0u"
      },
      "source": [
        "<a id='test_features'></a>\n",
        "### Проанализируем признаки, недоступные в тестовой выборке\n",
        "\n",
        "Первым делом получим даты из тестовой выборки и используем их для фильтрации исходных данных, пропущенные столбцы получим при помощи разницы множеств колонок двух выборок. Таким образом создадим два датасета: один будет состоять из пропущенных столбцов, а второй будет полностью скленным тестовым (в будущем, возможно, пригодятся все три):"
      ]
    },
    {
      "cell_type": "code",
      "metadata": {
        "id": "ttkUFdhEeX0v"
      },
      "source": [
        "test_dates = test['date'].tolist()\n",
        "missed_cols = full[full['date'].isin(test_dates)][set(train.columns).difference(set(test.columns))].copy()\n",
        "missed_cols = missed_cols.reset_index(drop=True)\n",
        "missed_cols['date'] = test['date']\n",
        "full_test = test.copy()\n",
        "full_test = full_test.merge(missed_cols, on='date')"
      ],
      "execution_count": null,
      "outputs": []
    },
    {
      "cell_type": "markdown",
      "metadata": {
        "id": "FQQQSg86eX0x"
      },
      "source": [
        "Изучим, какие данные не попали в тестовую выборку:"
      ]
    },
    {
      "cell_type": "code",
      "metadata": {
        "id": "M5SPvNZveX0x",
        "outputId": "158f7e38-468e-4d56-dc00-f3c550ec90d4"
      },
      "source": [
        "for k, i in enumerate(sorted(missed_cols.columns.tolist())):\n",
        "    if i == 'date':\n",
        "        continue\n",
        "    print(f'{k}. {i}')"
      ],
      "execution_count": null,
      "outputs": [
        {
          "output_type": "stream",
          "text": [
            "1. final.output.concentrate_ag\n",
            "2. final.output.concentrate_au\n",
            "3. final.output.concentrate_pb\n",
            "4. final.output.concentrate_sol\n",
            "5. final.output.recovery\n",
            "6. final.output.tail_ag\n",
            "7. final.output.tail_au\n",
            "8. final.output.tail_pb\n",
            "9. final.output.tail_sol\n",
            "10. primary_cleaner.output.concentrate_ag\n",
            "11. primary_cleaner.output.concentrate_au\n",
            "12. primary_cleaner.output.concentrate_pb\n",
            "13. primary_cleaner.output.concentrate_sol\n",
            "14. primary_cleaner.output.tail_ag\n",
            "15. primary_cleaner.output.tail_au\n",
            "16. primary_cleaner.output.tail_pb\n",
            "17. primary_cleaner.output.tail_sol\n",
            "18. rougher.calculation.au_pb_ratio\n",
            "19. rougher.calculation.floatbank10_sulfate_to_au_feed\n",
            "20. rougher.calculation.floatbank11_sulfate_to_au_feed\n",
            "21. rougher.calculation.sulfate_to_au_concentrate\n",
            "22. rougher.output.concentrate_ag\n",
            "23. rougher.output.concentrate_au\n",
            "24. rougher.output.concentrate_pb\n",
            "25. rougher.output.concentrate_sol\n",
            "26. rougher.output.recovery\n",
            "27. rougher.output.tail_ag\n",
            "28. rougher.output.tail_au\n",
            "29. rougher.output.tail_pb\n",
            "30. rougher.output.tail_sol\n",
            "31. secondary_cleaner.output.tail_ag\n",
            "32. secondary_cleaner.output.tail_au\n",
            "33. secondary_cleaner.output.tail_pb\n",
            "34. secondary_cleaner.output.tail_sol\n"
          ],
          "name": "stdout"
        }
      ]
    },
    {
      "cell_type": "markdown",
      "metadata": {
        "id": "CN1DwNDreX0z"
      },
      "source": [
        "В тестовую выборку не попали данные со всех этапов с долей элементов в концентратах, отвальных хвостах, также рассчеты эффективности обогащения и др. "
      ]
    },
    {
      "cell_type": "markdown",
      "metadata": {
        "id": "6PKtBL4beX0z"
      },
      "source": [
        "<a id='preprocessing'></a>\n",
        "### Предобработка данных"
      ]
    },
    {
      "cell_type": "markdown",
      "metadata": {
        "id": "b45BkJnReX00"
      },
      "source": [
        "Исходя из условия, мы знаем, что данные индексируются датой и временем получения информации (признак date) и соседние по времени параметры часто похожи. Поскольку, данные упорядочены по дате, можно заполнить пропуск предыдщим известным значением. Рассчитаем среднее значение по всем столбцам и вычислим среднее от средних, чтобы посмотреть, насколько сильно может сместить значения заполнение пропусков таким образом. Предварительно добавим новые выборки в словарь с датасетами и изучим пропуски:"
      ]
    },
    {
      "cell_type": "code",
      "metadata": {
        "id": "ktnrLFiWeX01"
      },
      "source": [
        "research.df_dict['missed_cols'] = missed_cols\n",
        "research.df_dict['full_test'] = full_test"
      ],
      "execution_count": null,
      "outputs": []
    },
    {
      "cell_type": "code",
      "metadata": {
        "id": "niRjSZvceX05",
        "outputId": "caad4e8c-b442-4c02-efef-a5c3866769c9"
      },
      "source": [
        "research.sum_nans()"
      ],
      "execution_count": null,
      "outputs": [
        {
          "output_type": "stream",
          "text": [
            "Сумма пропусков в датасете full составляет: 36587, число записей с пропусками: 6622, число столбцов с пропусками: 85\n",
            "Сумма пропусков в датасете train составляет: 30320, число записей с пропусками: 5843, число столбцов с пропусками: 85\n",
            "Сумма пропусков в датасете test составляет: 2360, число записей с пропусками: 473, число столбцов с пропусками: 51\n",
            "Сумма пропусков в датасете missed_cols составляет: 3907, число записей с пропусками: 745, число столбцов с пропусками: 34\n",
            "Сумма пропусков в датасете full_test составляет: 6267, число записей с пропусками: 779, число столбцов с пропусками: 85\n"
          ],
          "name": "stdout"
        }
      ]
    },
    {
      "cell_type": "markdown",
      "metadata": {
        "id": "ZaAvWDVeeX07"
      },
      "source": [
        "Получим оценки средних до и после заполнения:"
      ]
    },
    {
      "cell_type": "code",
      "metadata": {
        "id": "FcQnBmokeX07"
      },
      "source": [
        "def means(df):\n",
        "    global means_val\n",
        "    means_val = []\n",
        "    for i in df.columns:\n",
        "        try:\n",
        "            means_val.append(np.mean(df[i]))\n",
        "        except:\n",
        "            pass\n",
        "    return np.mean(means_val)"
      ],
      "execution_count": null,
      "outputs": []
    },
    {
      "cell_type": "code",
      "metadata": {
        "id": "zHdVzYVreX0_"
      },
      "source": [
        "data_values = {k:[means(i), means(i.fillna(method='ffill'))] for k,i in research.df_dict.items()}"
      ],
      "execution_count": null,
      "outputs": []
    },
    {
      "cell_type": "code",
      "metadata": {
        "scrolled": true,
        "id": "K14K-o2weX1B",
        "outputId": "63aa70b1-6355-49e1-fb7a-e9caefe948db"
      },
      "source": [
        "eval_means = pd.DataFrame(data=data_values, index=['before','after']).round(2)\n",
        "eval_means.loc['ratio'] = (((1 - eval_means.loc['before'] / eval_means.loc['after']))\n",
        "                           .map(lambda x: '{:.1%}'.format(x)))\n",
        "display(eval_means)"
      ],
      "execution_count": null,
      "outputs": [
        {
          "output_type": "display_data",
          "data": {
            "text/html": [
              "<div>\n",
              "<style scoped>\n",
              "    .dataframe tbody tr th:only-of-type {\n",
              "        vertical-align: middle;\n",
              "    }\n",
              "\n",
              "    .dataframe tbody tr th {\n",
              "        vertical-align: top;\n",
              "    }\n",
              "\n",
              "    .dataframe thead th {\n",
              "        text-align: right;\n",
              "    }\n",
              "</style>\n",
              "<table border=\"1\" class=\"dataframe\">\n",
              "  <thead>\n",
              "    <tr style=\"text-align: right;\">\n",
              "      <th></th>\n",
              "      <th>full</th>\n",
              "      <th>train</th>\n",
              "      <th>test</th>\n",
              "      <th>missed_cols</th>\n",
              "      <th>full_test</th>\n",
              "    </tr>\n",
              "  </thead>\n",
              "  <tbody>\n",
              "    <tr>\n",
              "      <td>before</td>\n",
              "      <td>-73070</td>\n",
              "      <td>-9.14</td>\n",
              "      <td>79.64</td>\n",
              "      <td>-717701</td>\n",
              "      <td>-283694</td>\n",
              "    </tr>\n",
              "    <tr>\n",
              "      <td>after</td>\n",
              "      <td>-73767.6</td>\n",
              "      <td>-9.89</td>\n",
              "      <td>79.35</td>\n",
              "      <td>-723845</td>\n",
              "      <td>-286123</td>\n",
              "    </tr>\n",
              "    <tr>\n",
              "      <td>ratio</td>\n",
              "      <td>0.9%</td>\n",
              "      <td>7.6%</td>\n",
              "      <td>-0.4%</td>\n",
              "      <td>0.8%</td>\n",
              "      <td>0.8%</td>\n",
              "    </tr>\n",
              "  </tbody>\n",
              "</table>\n",
              "</div>"
            ],
            "text/plain": [
              "           full train   test missed_cols full_test\n",
              "before   -73070 -9.14  79.64     -717701   -283694\n",
              "after  -73767.6 -9.89  79.35     -723845   -286123\n",
              "ratio      0.9%  7.6%  -0.4%        0.8%      0.8%"
            ]
          },
          "metadata": {
            "tags": []
          }
        }
      ]
    },
    {
      "cell_type": "markdown",
      "metadata": {
        "id": "i_l1jHPAeX1E"
      },
      "source": [
        "Разница в оценках средних после заполнения везде небольшая и для 4 выборок не превышает 1%, только для датасета `train` составляет 7.6%. Тем не менее, больше всего привлекает внимание то, что оценка среднего для потерянных тестовых данных составляет -717701, среднее датасета `train` больше в 80000 раз, это почти наверняка говорит об аномалиях в данных. Пока убедимся что, такое отклонение не является результатом ошибки в коде, и сравним оценку среднего `full` со склеенными `train` и `test`:"
      ]
    },
    {
      "cell_type": "code",
      "metadata": {
        "id": "g9Lbh3gHeX1E",
        "outputId": "d3e358e8-a255-41d1-faa3-1050d32b26d7"
      },
      "source": [
        "print('Оценка среднего для склееных выборок train и full_test составляет:', means(pd.concat([train, full_test], sort=False)))"
      ],
      "execution_count": null,
      "outputs": [
        {
          "output_type": "stream",
          "text": [
            "Оценка среднего для склееных выборок train и full_test составляет: -73070.03160923878\n"
          ],
          "name": "stdout"
        }
      ]
    },
    {
      "cell_type": "markdown",
      "metadata": {
        "id": "RF_UJu0aeX1H"
      },
      "source": [
        "Отсюда можно сделать вывод, что датасет `full_test` собран правильно."
      ]
    },
    {
      "cell_type": "markdown",
      "metadata": {
        "id": "TAyVb36feX1H"
      },
      "source": [
        "Изучим аномалии в данных:"
      ]
    },
    {
      "cell_type": "code",
      "metadata": {
        "id": "gYi39ij1eX1I",
        "outputId": "d9720872-1b59-4514-b9d4-9d1f6bf65482"
      },
      "source": [
        "means(missed_cols)\n",
        "data_out = [[missed_cols.columns[i], means_val[i]] for i in range(len(means_val))]\n",
        "data_out = pd.DataFrame(data=data_out, columns=['col_name', 'means'])\n",
        "#pd.set_option('display.float_format', lambda x: '%.3f' % x)\n",
        "display(data_out.sort_values(by='means', ascending=False).head())\n",
        "display(data_out.sort_values(by='means', ascending=True).head())"
      ],
      "execution_count": null,
      "outputs": [
        {
          "output_type": "display_data",
          "data": {
            "text/html": [
              "<div>\n",
              "<style scoped>\n",
              "    .dataframe tbody tr th:only-of-type {\n",
              "        vertical-align: middle;\n",
              "    }\n",
              "\n",
              "    .dataframe tbody tr th {\n",
              "        vertical-align: top;\n",
              "    }\n",
              "\n",
              "    .dataframe thead th {\n",
              "        text-align: right;\n",
              "    }\n",
              "</style>\n",
              "<table border=\"1\" class=\"dataframe\">\n",
              "  <thead>\n",
              "    <tr style=\"text-align: right;\">\n",
              "      <th></th>\n",
              "      <th>col_name</th>\n",
              "      <th>means</th>\n",
              "    </tr>\n",
              "  </thead>\n",
              "  <tbody>\n",
              "    <tr>\n",
              "      <td>30</td>\n",
              "      <td>rougher.calculation.floatbank11_sulfate_to_au_...</td>\n",
              "      <td>3094.287755</td>\n",
              "    </tr>\n",
              "    <tr>\n",
              "      <td>22</td>\n",
              "      <td>rougher.calculation.floatbank10_sulfate_to_au_...</td>\n",
              "      <td>2910.018530</td>\n",
              "    </tr>\n",
              "    <tr>\n",
              "      <td>13</td>\n",
              "      <td>rougher.output.recovery</td>\n",
              "      <td>84.918269</td>\n",
              "    </tr>\n",
              "    <tr>\n",
              "      <td>27</td>\n",
              "      <td>final.output.recovery</td>\n",
              "      <td>68.111372</td>\n",
              "    </tr>\n",
              "    <tr>\n",
              "      <td>26</td>\n",
              "      <td>final.output.concentrate_au</td>\n",
              "      <td>41.535937</td>\n",
              "    </tr>\n",
              "  </tbody>\n",
              "</table>\n",
              "</div>"
            ],
            "text/plain": [
              "                                             col_name        means\n",
              "30  rougher.calculation.floatbank11_sulfate_to_au_...  3094.287755\n",
              "22  rougher.calculation.floatbank10_sulfate_to_au_...  2910.018530\n",
              "13                            rougher.output.recovery    84.918269\n",
              "27                              final.output.recovery    68.111372\n",
              "26                        final.output.concentrate_au    41.535937"
            ]
          },
          "metadata": {
            "tags": []
          }
        },
        {
          "output_type": "display_data",
          "data": {
            "text/html": [
              "<div>\n",
              "<style scoped>\n",
              "    .dataframe tbody tr th:only-of-type {\n",
              "        vertical-align: middle;\n",
              "    }\n",
              "\n",
              "    .dataframe tbody tr th {\n",
              "        vertical-align: top;\n",
              "    }\n",
              "\n",
              "    .dataframe thead th {\n",
              "        text-align: right;\n",
              "    }\n",
              "</style>\n",
              "<table border=\"1\" class=\"dataframe\">\n",
              "  <thead>\n",
              "    <tr style=\"text-align: right;\">\n",
              "      <th></th>\n",
              "      <th>col_name</th>\n",
              "      <th>means</th>\n",
              "    </tr>\n",
              "  </thead>\n",
              "  <tbody>\n",
              "    <tr>\n",
              "      <td>17</td>\n",
              "      <td>rougher.calculation.sulfate_to_au_concentrate</td>\n",
              "      <td>-2.440830e+07</td>\n",
              "    </tr>\n",
              "    <tr>\n",
              "      <td>19</td>\n",
              "      <td>rougher.output.tail_pb</td>\n",
              "      <td>5.853678e-01</td>\n",
              "    </tr>\n",
              "    <tr>\n",
              "      <td>25</td>\n",
              "      <td>rougher.output.tail_au</td>\n",
              "      <td>1.977029e+00</td>\n",
              "    </tr>\n",
              "    <tr>\n",
              "      <td>12</td>\n",
              "      <td>rougher.calculation.au_pb_ratio</td>\n",
              "      <td>2.552811e+00</td>\n",
              "    </tr>\n",
              "    <tr>\n",
              "      <td>21</td>\n",
              "      <td>final.output.tail_pb</td>\n",
              "      <td>2.853626e+00</td>\n",
              "    </tr>\n",
              "  </tbody>\n",
              "</table>\n",
              "</div>"
            ],
            "text/plain": [
              "                                         col_name         means\n",
              "17  rougher.calculation.sulfate_to_au_concentrate -2.440830e+07\n",
              "19                         rougher.output.tail_pb  5.853678e-01\n",
              "25                         rougher.output.tail_au  1.977029e+00\n",
              "12                rougher.calculation.au_pb_ratio  2.552811e+00\n",
              "21                           final.output.tail_pb  2.853626e+00"
            ]
          },
          "metadata": {
            "tags": []
          }
        }
      ]
    },
    {
      "cell_type": "code",
      "metadata": {
        "id": "AP64dgxeeX1K",
        "outputId": "5de5e18e-ec90-4cf3-e776-9a4d453d0f24"
      },
      "source": [
        "plt.subplots(figsize=(20, 14))\n",
        "plt.subplot(3,1,1)\n",
        "sns.boxplot(missed_cols['rougher.calculation.floatbank10_sulfate_to_au_feed'])\n",
        "plt.title('rougher.calculation.floatbank10_sulfate_to_au_feed')\n",
        "plt.xlabel('')\n",
        "plt.subplot(3,1,2)\n",
        "sns.boxplot(missed_cols['rougher.calculation.floatbank11_sulfate_to_au_feed'])\n",
        "plt.xlabel('')\n",
        "plt.title('rougher.calculation.floatbank11_sulfate_to_au_feed')\n",
        "plt.subplot(3,1,3)\n",
        "sns.boxplot(missed_cols['rougher.calculation.sulfate_to_au_concentrate'])\n",
        "plt.xlabel('')\n",
        "plt.title('rougher.calculation.sulfate_to_au_concentrate')\n",
        "plt.show()"
      ],
      "execution_count": null,
      "outputs": [
        {
          "output_type": "display_data",
          "data": {
            "image/png": "[encoded data removed]",
            "text/plain": [
              "<Figure size 1440x1008 with 3 Axes>"
            ]
          },
          "metadata": {
            "tags": []
          }
        }
      ]
    },
    {
      "cell_type": "markdown",
      "metadata": {
        "id": "achYpWdteX1M"
      },
      "source": [
        "В данных действительно присутствуют очевидные выбросы, чтобы не потерять полноту в данных, сейчас не будем удалять их, а попробуем не использовать их на этапе построения модели."
      ]
    },
    {
      "cell_type": "markdown",
      "metadata": {
        "id": "Li6bli1neX1M"
      },
      "source": [
        "Заполним пропуски в 4х датасетах. Full оставим нетронутым, на случай, если понадобятся данные в исходном виде:"
      ]
    },
    {
      "cell_type": "code",
      "metadata": {
        "id": "xBiuJw78eX1M"
      },
      "source": [
        "train.fillna(method='ffill', inplace=True)\n",
        "test.fillna(method='ffill', inplace=True)\n",
        "missed_cols.fillna(method='ffill', inplace=True)\n",
        "full_test.fillna(method='ffill', inplace=True)"
      ],
      "execution_count": null,
      "outputs": []
    },
    {
      "cell_type": "code",
      "metadata": {
        "id": "uw-9MQzheX1Q",
        "outputId": "ce407a75-cfa3-4747-cf1b-d1e43c2af6c3"
      },
      "source": [
        "research.sum_nans()"
      ],
      "execution_count": null,
      "outputs": [
        {
          "output_type": "stream",
          "text": [
            "Сумма пропусков в датасете full составляет: 36587, число записей с пропусками: 6622, число столбцов с пропусками: 85\n",
            "Сумма пропусков в датасете train составляет: 0, число записей с пропусками: 0, число столбцов с пропусками: 0\n",
            "Сумма пропусков в датасете test составляет: 0, число записей с пропусками: 0, число столбцов с пропусками: 0\n",
            "Сумма пропусков в датасете missed_cols составляет: 0, число записей с пропусками: 0, число столбцов с пропусками: 0\n",
            "Сумма пропусков в датасете full_test составляет: 0, число записей с пропусками: 0, число столбцов с пропусками: 0\n"
          ],
          "name": "stdout"
        }
      ]
    },
    {
      "cell_type": "markdown",
      "metadata": {
        "id": "AU6jaDKaeX1U"
      },
      "source": [
        "## Вывод"
      ]
    },
    {
      "cell_type": "markdown",
      "metadata": {
        "id": "Yf-4YsIOeX1V"
      },
      "source": [
        "На этом этапе были загружены и изучены 3 датасета (исходный, тренировочный и обучающий), в данных обнаружены пропуски, дубликаты отсутствуют. Была проверена точность расчета эффективности обогащения для руды - средняя абсолютная ошибка стремится к нулю; были проанализированы признаки, недоступные в тестовой выборке - ими оказались данные со всех этапов с долей элементов в концентратах, отвальных хвостах и др.; тестовый датасет был полностью восстановлен, также были заполнены пропуски соседними значениями и найдены аномалии в данных."
      ]
    },
    {
      "cell_type": "markdown",
      "metadata": {
        "id": "H_4cykXoeX1V"
      },
      "source": [
        "<a id='eda'></a>\n",
        "## 2. Проанализируем данные"
      ]
    },
    {
      "cell_type": "markdown",
      "metadata": {
        "id": "a71XglRjeX1W"
      },
      "source": [
        "<a id='concentrate'></a>\n",
        "### Посмотрим, как меняется концентрация металлов (Au, Ag, Pb) на различных этапах очистки\n",
        "\n",
        "Для начала выделим столбцы с данными о концентратах:"
      ]
    },
    {
      "cell_type": "code",
      "metadata": {
        "id": "GpoYdFcieX1W"
      },
      "source": [
        "def search(string):\n",
        "    return full.columns[full.columns.str.contains(string)]"
      ],
      "execution_count": null,
      "outputs": []
    },
    {
      "cell_type": "code",
      "metadata": {
        "scrolled": false,
        "id": "Seeiww3qeX1Z",
        "outputId": "ce2936eb-8e3a-4996-a75a-9b729e49f5d0"
      },
      "source": [
        "clean_cols = (sorted(search('[A-z.]+concentrate_[^sol]|feed_[^solr]').tolist(), reverse=True))\n",
        "print('Названия столбцов с данными о концентратах:')\n",
        "print('\\n'.join(clean_cols))"
      ],
      "execution_count": null,
      "outputs": [
        {
          "output_type": "stream",
          "text": [
            "Названия столбцов с данными о концентратах:\n",
            "rougher.output.concentrate_pb\n",
            "rougher.output.concentrate_au\n",
            "rougher.output.concentrate_ag\n",
            "rougher.input.feed_pb\n",
            "rougher.input.feed_au\n",
            "rougher.input.feed_ag\n",
            "primary_cleaner.output.concentrate_pb\n",
            "primary_cleaner.output.concentrate_au\n",
            "primary_cleaner.output.concentrate_ag\n",
            "final.output.concentrate_pb\n",
            "final.output.concentrate_au\n",
            "final.output.concentrate_ag\n"
          ],
          "name": "stdout"
        }
      ]
    },
    {
      "cell_type": "markdown",
      "metadata": {
        "id": "PXKZwslCeX1a"
      },
      "source": [
        "Построим гистограммы плотности распределения:"
      ]
    },
    {
      "cell_type": "code",
      "metadata": {
        "id": "Jn9vXoCEeX1b",
        "outputId": "7710a28d-0ba0-477f-d38b-fa50cecd0828"
      },
      "source": [
        "def graph(df, col, title, label):\n",
        "        plt.hist(df[col],bins=20, alpha=0.7, label=label, density=True)\n",
        "        plt.legend()\n",
        "        plt.xlabel('values')\n",
        "        plt.ylabel('density')\n",
        "        plt.title(title)\n",
        "plt.subplots(figsize=(20,6))\n",
        "plt.subplot(1,3,1)\n",
        "for i in clean_cols:\n",
        "    if \"_au\" in i:\n",
        "        graph(full,i, 'Изменение концентрации золота', i)\n",
        "plt.subplot(1,3,2)\n",
        "for i in clean_cols:\n",
        "    if \"_ag\" in i:\n",
        "        graph(full, i, 'Изменение концентрации серебра', i)\n",
        "plt.subplot(1,3,3)        \n",
        "for i in clean_cols:\n",
        "    if \"_pb\" in i:\n",
        "        graph(full, i,'Изменение концентрации свинца', i)\n",
        "plt.show()"
      ],
      "execution_count": null,
      "outputs": [
        {
          "output_type": "display_data",
          "data": {
            "image/png": "[encoded data removed]",
            "text/plain": [
              "<Figure size 1440x432 with 3 Axes>"
            ]
          },
          "metadata": {
            "tags": []
          }
        }
      ]
    },
    {
      "cell_type": "markdown",
      "metadata": {
        "id": "Q58pMQxqeX1e"
      },
      "source": [
        "По гистограммам можно отметить, что в целом распределения имеют похожую форму, при этом доля золота и свинца растет к финальному концентрату, а для серебра, наоборот, снижается. Изучим средние:"
      ]
    },
    {
      "cell_type": "code",
      "metadata": {
        "id": "9Kftmyf_eX1f"
      },
      "source": [
        "def concentrate(metall):\n",
        "    data_test = full[clean_cols].describe()\n",
        "    return data_test[data_test.columns[data_test.columns.str.contains(metall)]].T['mean']"
      ],
      "execution_count": null,
      "outputs": []
    },
    {
      "cell_type": "code",
      "metadata": {
        "id": "aBCpJUgSeX1l",
        "outputId": "b6699ce5-68b9-4e7a-ff85-c3129096dcb1"
      },
      "source": [
        "concentrate('_au')"
      ],
      "execution_count": null,
      "outputs": [
        {
          "output_type": "execute_result",
          "data": {
            "text/plain": [
              "rougher.output.concentrate_au            17.879538\n",
              "rougher.input.feed_au                     7.565838\n",
              "primary_cleaner.output.concentrate_au    29.212289\n",
              "final.output.concentrate_au              40.001172\n",
              "Name: mean, dtype: float64"
            ]
          },
          "metadata": {
            "tags": []
          },
          "execution_count": 37
        }
      ]
    },
    {
      "cell_type": "code",
      "metadata": {
        "id": "cV0uHfsgeX1o",
        "outputId": "252d847f-44b4-4fe7-d50d-781823ac5462"
      },
      "source": [
        "concentrate('_ag')"
      ],
      "execution_count": null,
      "outputs": [
        {
          "output_type": "execute_result",
          "data": {
            "text/plain": [
              "rougher.output.concentrate_ag            10.874484\n",
              "rougher.input.feed_ag                     8.065715\n",
              "primary_cleaner.output.concentrate_ag     7.691652\n",
              "final.output.concentrate_ag               4.781559\n",
              "Name: mean, dtype: float64"
            ]
          },
          "metadata": {
            "tags": []
          },
          "execution_count": 38
        }
      ]
    },
    {
      "cell_type": "code",
      "metadata": {
        "id": "k26OuKL9eX10",
        "outputId": "0fe022ea-5fe3-46c3-ac4b-a1248d5b51f9"
      },
      "source": [
        "concentrate('_pb')"
      ],
      "execution_count": null,
      "outputs": [
        {
          "output_type": "execute_result",
          "data": {
            "text/plain": [
              "rougher.output.concentrate_pb            6.900646\n",
              "rougher.input.feed_pb                    3.305676\n",
              "primary_cleaner.output.concentrate_pb    8.921110\n",
              "final.output.concentrate_pb              9.095308\n",
              "Name: mean, dtype: float64"
            ]
          },
          "metadata": {
            "tags": []
          },
          "execution_count": 39
        }
      ]
    },
    {
      "cell_type": "markdown",
      "metadata": {
        "id": "LiQ_Er7FeX13"
      },
      "source": [
        "Таким образом, в финальном концентрате средняя доля золота выросла в 5.7 раза по сравнению с изначальным, для свинца в 3 раза, а для серебра уменьишалсь в 1.7 раза."
      ]
    },
    {
      "cell_type": "markdown",
      "metadata": {
        "id": "-3wrFT_-eX14"
      },
      "source": [
        "<a id='feed_size'></a>\n",
        "### Сравним распределения размеров гранул сырья на обучающей и тестовой выборках"
      ]
    },
    {
      "cell_type": "code",
      "metadata": {
        "id": "lQCjqNVWeX15",
        "outputId": "f29510bc-cc09-4fe4-9f41-67cad2c37746"
      },
      "source": [
        "plt.subplots(figsize=(18, 5))\n",
        "plt.subplot(1,2,1)  \n",
        "graph(train, 'rougher.input.feed_size', 'rougher.input.feed_size_train', 'train')\n",
        "graph(test, 'rougher.input.feed_size', 'rougher.input.feed_size_test', 'test')\n",
        "plt.subplot(1,2,2) \n",
        "graph(train, 'primary_cleaner.input.feed_size', 'primary_cleaner.input.feed_size_train', 'train')\n",
        "graph(test, 'primary_cleaner.input.feed_size', 'primary_cleaner.input.feed_size_test', 'test')\n",
        "plt.show()"
      ],
      "execution_count": null,
      "outputs": [
        {
          "output_type": "display_data",
          "data": {
            "image/png": "[encoded data removed]",
            "text/plain": [
              "<Figure size 1296x360 with 2 Axes>"
            ]
          },
          "metadata": {
            "tags": []
          }
        }
      ]
    },
    {
      "cell_type": "markdown",
      "metadata": {
        "id": "FA5zq-neeX17"
      },
      "source": [
        "Визуально распределения на двух графиках имеют очень похожую форму и принимают одинаковые значения, с разной плотностью для разных выборок. Изучим описательные статистики:"
      ]
    },
    {
      "cell_type": "code",
      "metadata": {
        "id": "vktoczHleX17",
        "outputId": "db0e0ad9-b3aa-49ce-a905-1551edcefce1"
      },
      "source": [
        "descr = (train[[*search('feed_size')]].describe().round(2).add_suffix('_train')\n",
        "         .join(test[[*search('feed_size')]].describe().round(2).add_suffix('_test')))\n",
        "descr = descr[sorted(descr.columns, reverse=True)]\n",
        "display(descr)"
      ],
      "execution_count": null,
      "outputs": [
        {
          "output_type": "display_data",
          "data": {
            "text/html": [
              "<div>\n",
              "<style scoped>\n",
              "    .dataframe tbody tr th:only-of-type {\n",
              "        vertical-align: middle;\n",
              "    }\n",
              "\n",
              "    .dataframe tbody tr th {\n",
              "        vertical-align: top;\n",
              "    }\n",
              "\n",
              "    .dataframe thead th {\n",
              "        text-align: right;\n",
              "    }\n",
              "</style>\n",
              "<table border=\"1\" class=\"dataframe\">\n",
              "  <thead>\n",
              "    <tr style=\"text-align: right;\">\n",
              "      <th></th>\n",
              "      <th>rougher.input.feed_size_train</th>\n",
              "      <th>rougher.input.feed_size_test</th>\n",
              "      <th>primary_cleaner.input.feed_size_train</th>\n",
              "      <th>primary_cleaner.input.feed_size_test</th>\n",
              "    </tr>\n",
              "  </thead>\n",
              "  <tbody>\n",
              "    <tr>\n",
              "      <td>count</td>\n",
              "      <td>16860.00</td>\n",
              "      <td>5856.00</td>\n",
              "      <td>16860.00</td>\n",
              "      <td>5856.00</td>\n",
              "    </tr>\n",
              "    <tr>\n",
              "      <td>mean</td>\n",
              "      <td>60.19</td>\n",
              "      <td>55.90</td>\n",
              "      <td>7.30</td>\n",
              "      <td>7.26</td>\n",
              "    </tr>\n",
              "    <tr>\n",
              "      <td>std</td>\n",
              "      <td>30.52</td>\n",
              "      <td>22.71</td>\n",
              "      <td>0.62</td>\n",
              "      <td>0.61</td>\n",
              "    </tr>\n",
              "    <tr>\n",
              "      <td>min</td>\n",
              "      <td>9.66</td>\n",
              "      <td>0.05</td>\n",
              "      <td>1.08</td>\n",
              "      <td>5.65</td>\n",
              "    </tr>\n",
              "    <tr>\n",
              "      <td>25%</td>\n",
              "      <td>47.55</td>\n",
              "      <td>43.85</td>\n",
              "      <td>6.94</td>\n",
              "      <td>6.89</td>\n",
              "    </tr>\n",
              "    <tr>\n",
              "      <td>50%</td>\n",
              "      <td>54.07</td>\n",
              "      <td>49.96</td>\n",
              "      <td>7.29</td>\n",
              "      <td>7.26</td>\n",
              "    </tr>\n",
              "    <tr>\n",
              "      <td>75%</td>\n",
              "      <td>65.40</td>\n",
              "      <td>61.63</td>\n",
              "      <td>7.70</td>\n",
              "      <td>7.65</td>\n",
              "    </tr>\n",
              "    <tr>\n",
              "      <td>max</td>\n",
              "      <td>484.97</td>\n",
              "      <td>477.45</td>\n",
              "      <td>10.47</td>\n",
              "      <td>15.50</td>\n",
              "    </tr>\n",
              "  </tbody>\n",
              "</table>\n",
              "</div>"
            ],
            "text/plain": [
              "       rougher.input.feed_size_train  rougher.input.feed_size_test  \\\n",
              "count                       16860.00                       5856.00   \n",
              "mean                           60.19                         55.90   \n",
              "std                            30.52                         22.71   \n",
              "min                             9.66                          0.05   \n",
              "25%                            47.55                         43.85   \n",
              "50%                            54.07                         49.96   \n",
              "75%                            65.40                         61.63   \n",
              "max                           484.97                        477.45   \n",
              "\n",
              "       primary_cleaner.input.feed_size_train  \\\n",
              "count                               16860.00   \n",
              "mean                                    7.30   \n",
              "std                                     0.62   \n",
              "min                                     1.08   \n",
              "25%                                     6.94   \n",
              "50%                                     7.29   \n",
              "75%                                     7.70   \n",
              "max                                    10.47   \n",
              "\n",
              "       primary_cleaner.input.feed_size_test  \n",
              "count                               5856.00  \n",
              "mean                                   7.26  \n",
              "std                                    0.61  \n",
              "min                                    5.65  \n",
              "25%                                    6.89  \n",
              "50%                                    7.26  \n",
              "75%                                    7.65  \n",
              "max                                   15.50  "
            ]
          },
          "metadata": {
            "tags": []
          }
        }
      ]
    },
    {
      "cell_type": "markdown",
      "metadata": {
        "id": "5V5ES_5XeX2C"
      },
      "source": [
        "Средние практически одинаковы для двух выборок, значения на Q1-Q3 также очень похожи. Отсюда можно сделать вывод, что у распределений нет сильных различий."
      ]
    },
    {
      "cell_type": "markdown",
      "metadata": {
        "id": "q-VH6FwEeX2C"
      },
      "source": [
        "<a id='outliers'></a>\n",
        "### Исследуем суммарную концентрацию всех веществ на разных стадиях: в сырье, в черновом и финальном концентратах. Аномальные значения удалим."
      ]
    },
    {
      "cell_type": "code",
      "metadata": {
        "id": "5sk45yQWeX2C",
        "outputId": "6766ff67-3139-4dd2-cfb6-fe02168fcde6"
      },
      "source": [
        "plt.subplots(figsize=(20, 10))\n",
        "concentrate_cols = [*search('[A-z.]+concentrate_au|feed_au'),\n",
        "                    *search('[A-z.]+concentrate_ag|feed_ag'),\n",
        "                    *search('[A-z.]+concentrate_pb|feed_pb')]\n",
        "\n",
        "train_sum = train[concentrate_cols].sum(axis=1)\n",
        "test_sum = full_test[concentrate_cols].sum(axis=1)\n",
        "plt.subplot(2,2,1)\n",
        "plt.hist(train_sum,density=True, bins=40)\n",
        "plt.title('train_sum hist')\n",
        "plt.subplot(2,2,2)\n",
        "sns.boxplot(train_sum)\n",
        "plt.title('train_sum boxplot')\n",
        "plt.subplot(2,2,3)\n",
        "plt.hist(test_sum,density=True, bins=40, color=['C1'])\n",
        "plt.title('test_sum hist')\n",
        "plt.subplot(2,2,4)\n",
        "sns.boxplot(test_sum, palette=['C1'])\n",
        "plt.title('test_sum boxplot')\n",
        "plt.show()"
      ],
      "execution_count": null,
      "outputs": [
        {
          "output_type": "display_data",
          "data": {
            "image/png": "[encoded data removed]",
            "text/plain": [
              "<Figure size 1440x720 with 4 Axes>"
            ]
          },
          "metadata": {
            "tags": []
          }
        }
      ]
    },
    {
      "cell_type": "markdown",
      "metadata": {
        "id": "6Oy_qy21eX2E"
      },
      "source": [
        "На диаграммах рахмаха для двух выборок можно заметить большое число выбросов, изучим их количество и удалим:"
      ]
    },
    {
      "cell_type": "code",
      "metadata": {
        "id": "Hg6j9zcVeX2F"
      },
      "source": [
        "train['sum_concentrate'] = train_sum\n",
        "full_test['sum_concentrate'] = test_sum\n",
        "test['sum_concentrate'] = test_sum\n",
        "def outburst(df, col):\n",
        "    boxplot = plt.boxplot(df[col])\n",
        "    global outliers\n",
        "    outliers = list(boxplot[\"fliers\"][0].get_data()[1])\n",
        "    print(f\"Количество выбросов в {col}:\", len(outliers))\n",
        "    plt.close()"
      ],
      "execution_count": null,
      "outputs": []
    },
    {
      "cell_type": "code",
      "metadata": {
        "id": "y-RQWzi1eX2H",
        "outputId": "d8aee296-22ee-496c-d2f0-49c0167bc906"
      },
      "source": [
        "outburst(train, 'sum_concentrate')\n",
        "train_out = outliers\n",
        "outburst(full_test, 'sum_concentrate')\n",
        "test_out = outliers"
      ],
      "execution_count": null,
      "outputs": [
        {
          "output_type": "stream",
          "text": [
            "Количество выбросов в sum_concentrate: 2733\n",
            "Количество выбросов в sum_concentrate: 837\n"
          ],
          "name": "stdout"
        }
      ]
    },
    {
      "cell_type": "code",
      "metadata": {
        "id": "Yfy_Bph7eX2J"
      },
      "source": [
        "train = train[~train['sum_concentrate'].isin(train_out)].copy()\n",
        "full_test = full_test[~full_test['sum_concentrate'].isin(test_out)].copy()\n",
        "test = test[~test['sum_concentrate'].isin(test_out)].copy()\n",
        "\n",
        "train = train.drop('sum_concentrate', axis=1).reset_index(drop=True)\n",
        "full_test = full_test.drop('sum_concentrate', axis=1).reset_index(drop=True)\n",
        "test = test.drop('sum_concentrate', axis=1).reset_index(drop=True)"
      ],
      "execution_count": null,
      "outputs": []
    },
    {
      "cell_type": "markdown",
      "metadata": {
        "id": "KFSPVr8seX2L"
      },
      "source": [
        "### Вывод"
      ]
    },
    {
      "cell_type": "markdown",
      "metadata": {
        "id": "OtrsDw_5eX2M"
      },
      "source": [
        "На этом этапе был проведен исследовательский анализ данных: изучено изменение концентрации золота, серебра и свинца на различных этапах очистки (в финальном концентрате средняя доля золота выросла в 5.7 раза по сравнению с изначальным, для свинца в 3 раза, а для серебра уменьишалсь в 1.7 раза.), было изучено распределение гранул сырья в обучающей и тестовой выборках - различий нет (распределения имеют очень похожую форму и принимают одинаковые значения, с разной плотностью; средние практически одинаковы, значения на Q1-Q3 также очень похожи). Также была исследована суммарная концентрация всех веществ на всех этапах и удалены выбросы."
      ]
    },
    {
      "cell_type": "markdown",
      "metadata": {
        "id": "AypUihIpeX2M"
      },
      "source": [
        "<a id='models'></a>\n",
        "## 3. Построение моделей\n",
        "<a id='smape'></a>\n",
        "### Напишем функцию для вычисления итоговой sMAPE:\n"
      ]
    },
    {
      "cell_type": "code",
      "metadata": {
        "id": "-4IpZznReX2Q"
      },
      "source": [
        "def total_smape(rougher_target, rougher_pred, final_target, final_pred):\n",
        "    def smape(col_target, col_pred):\n",
        "        num = np.absolute(col_target - col_pred) \n",
        "        denum = (np.absolute(col_target) + np.absolute(col_pred)) / 2\n",
        "        return (num/denum).sum() / len(col_target) * 100\n",
        "    return round(0.25 * smape(rougher_target, rougher_pred) + 0.75 * smape(final_target, final_pred),2)"
      ],
      "execution_count": null,
      "outputs": []
    },
    {
      "cell_type": "markdown",
      "metadata": {
        "id": "W3jg-L9beX2e"
      },
      "source": [
        "Создадим модель линейной регрессии и случайного леса, в качестве признаков будем использовать все доступные из тестовой выборки. При помощи кросс-валидации определим лучшую модель:"
      ]
    },
    {
      "cell_type": "code",
      "metadata": {
        "id": "l_t7Qfu9eX2f"
      },
      "source": [
        "lr = LinearRegression(normalize=True)\n",
        "rf = RandomForestRegressor(n_estimators=5, max_depth=6, random_state=42)\n",
        "\n",
        "features_train = train[test.columns].drop(['date'], axis=1)\n",
        "features_test = test.drop(['date'], axis=1)\n",
        "target_train = train[['rougher.output.recovery', 'final.output.recovery']]\n",
        "target_test = full_test[['rougher.output.recovery', 'final.output.recovery']]"
      ],
      "execution_count": null,
      "outputs": []
    },
    {
      "cell_type": "code",
      "metadata": {
        "scrolled": true,
        "id": "1XYmF2WueX2g",
        "outputId": "5f4427c1-b09e-496c-9409-89a00c3a18ab"
      },
      "source": [
        "%%time\n",
        "cross_val_features = pd.concat([features_train, features_test])\n",
        "cross_val_target_1 = pd.concat([target_train['rougher.output.recovery'], target_test['rougher.output.recovery']])\n",
        "cross_val_target_2 = pd.concat([target_train['final.output.recovery'], target_test['final.output.recovery']])\n",
        "\n",
        "def cross_val(model_1, model_2, cross_val_features):\n",
        "    for i in [model_1, model_2]:\n",
        "        score_rough = np.mean(cross_val_score(i, cross_val_features, cross_val_target_1, cv=5, scoring='r2'))\n",
        "        score_final = np.mean(cross_val_score(i, cross_val_features, cross_val_target_2, cv=5, scoring='r2'))\n",
        "        print(f'Кросс-валидация для {type(i)}: \\nr2_rougher.output.recovery = {score_rough} \\nr2_final.output.recovery {score_final}')\n",
        "        \n",
        "cross_val(lr, rf, cross_val_features)"
      ],
      "execution_count": null,
      "outputs": [
        {
          "output_type": "stream",
          "text": [
            "Кросс-валидация для <class 'sklearn.linear_model.base.LinearRegression'>: \n",
            "r2_rougher.output.recovery = -0.2644287394625464 \n",
            "r2_final.output.recovery -0.029198460037287054\n",
            "Кросс-валидация для <class 'sklearn.ensemble.forest.RandomForestRegressor'>: \n",
            "r2_rougher.output.recovery = -0.38200154142147624 \n",
            "r2_final.output.recovery -0.1509366811124986\n",
            "CPU times: user 21.3 s, sys: 3.58 s, total: 24.9 s\n",
            "Wall time: 25.3 s\n"
          ],
          "name": "stdout"
        }
      ]
    },
    {
      "cell_type": "markdown",
      "metadata": {
        "id": "qiBW7FIheX2j"
      },
      "source": [
        "Результаты тестирования случайного леса хуже, чем у линейной регрессии, не говоря о том, что случайный лес выполняет обработку дольше. Для проверки на тестовой выборке будем использовать линейную регрессию:"
      ]
    },
    {
      "cell_type": "code",
      "metadata": {
        "id": "yTn5yqieeX2j"
      },
      "source": [
        "lr.fit(features_train, target_train)\n",
        "lr_predict = lr.predict(features_test)"
      ],
      "execution_count": null,
      "outputs": []
    },
    {
      "cell_type": "code",
      "metadata": {
        "id": "x6OBNoPZeX2k"
      },
      "source": [
        "def metrics(col0, col1, preds0, preds1):\n",
        "    mae_0 = mean_absolute_error(target_test[col0], preds0)\n",
        "    mae_1 = mean_absolute_error(target_test[col1], preds1)\n",
        "    r2_0 = r2_score(target_test[col0], preds0)\n",
        "    r2_1 = r2_score(target_test[col1], preds1)\n",
        "    print('Метрики качества модели:')\n",
        "    print(f'MAE для {col0}: {mae_0}')\n",
        "    print(f'R2 для {col0}: {r2_0}')\n",
        "    print(f'MAE для {col1}: {mae_1}')\n",
        "    print(f'R2 для {col1}: {r2_1}')"
      ],
      "execution_count": null,
      "outputs": []
    },
    {
      "cell_type": "code",
      "metadata": {
        "id": "_k1yyp4weX2m",
        "outputId": "03d773e7-1a55-4178-c8ca-5488d079b23f"
      },
      "source": [
        "metrics('rougher.output.recovery', 'final.output.recovery', lr_predict[:,0], lr_predict[:,1])"
      ],
      "execution_count": null,
      "outputs": [
        {
          "output_type": "stream",
          "text": [
            "Метрики качества модели:\n",
            "MAE для rougher.output.recovery: 4.643931528715245\n",
            "R2 для rougher.output.recovery: -0.33370925238837246\n",
            "MAE для final.output.recovery: 5.282422318412536\n",
            "R2 для final.output.recovery: -0.08047435111399959\n"
          ],
          "name": "stdout"
        }
      ]
    },
    {
      "cell_type": "markdown",
      "metadata": {
        "id": "A6walRSNeX2n"
      },
      "source": [
        "Создадим константную модель и посчитаем её среднюю абсолютную процентную ошибку. Затем рассчитаем её для модели линейной регрессии и сравним их:"
      ]
    },
    {
      "cell_type": "code",
      "metadata": {
        "id": "urpaA1GSeX2n"
      },
      "source": [
        "constant_rougher_predict = pd.Series(target_train['rougher.output.recovery'].median(), range(len(target_test)))\n",
        "constant_final_predict = pd.Series(target_train['final.output.recovery'].median(), range(len(target_test)))\n",
        "\n",
        "constant_smape = total_smape(target_test['rougher.output.recovery']\n",
        "            , constant_rougher_predict, \n",
        "            target_test['final.output.recovery'], constant_final_predict)"
      ],
      "execution_count": null,
      "outputs": []
    },
    {
      "cell_type": "code",
      "metadata": {
        "id": "W1TKhmsMeX2p",
        "outputId": "6003575e-fd0f-4a36-b683-8c60c0d0c322"
      },
      "source": [
        "lr_smape = total_smape(target_test['rougher.output.recovery'], lr_predict[:,0], \n",
        "                       target_test['final.output.recovery'], lr_predict[:,1])\n",
        "\n",
        "print(f'Итоговая sMAPE для линейной регрессии составляет: {lr_smape}%, для контантной модели: {constant_smape}%')"
      ],
      "execution_count": null,
      "outputs": [
        {
          "output_type": "stream",
          "text": [
            "Итоговая sMAPE для линейной регрессии составляет: 7.27%, для контантной модели: 7.16%\n"
          ],
          "name": "stdout"
        }
      ]
    },
    {
      "cell_type": "markdown",
      "metadata": {
        "id": "WLHwhKIIeX2u"
      },
      "source": [
        "Получается, что среднее абсолютное процентное отклонение для модели линейной регрессии выше, чем для случайной. Посмотрим, как распределены предсказанные данные относительно реальных:"
      ]
    },
    {
      "cell_type": "code",
      "metadata": {
        "id": "3h9ZzMsweX2u",
        "outputId": "dac47327-1674-4eb0-8303-86a5e576def2"
      },
      "source": [
        "plt.figure(figsize=(12, 7))\n",
        "plt.hist(target_test['rougher.output.recovery'], bins=40, alpha=0.7, label='rougher_true', density=True)\n",
        "plt.hist(lr_predict[:,0], bins=40, alpha=0.7, density=True, label='rougher_pred')\n",
        "plt.hist(target_test['final.output.recovery'], bins=40, alpha=0.7, density=True, label='final_true')\n",
        "plt.hist(lr_predict[:,1], bins=40, alpha=0.7, density=True, label='final_pred')\n",
        "plt.title(('Гистограмма распределения реальных и предсказанных значений для обогащения').center(240))\n",
        "plt.xlabel('values')\n",
        "plt.ylabel('density')\n",
        "plt.legend()\n",
        "plt.show()"
      ],
      "execution_count": null,
      "outputs": [
        {
          "output_type": "display_data",
          "data": {
            "image/png": "[encoded data removed]",
            "text/plain": [
              "<Figure size 864x504 with 1 Axes>"
            ]
          },
          "metadata": {
            "tags": []
          }
        }
      ]
    },
    {
      "cell_type": "markdown",
      "metadata": {
        "id": "SOaInMopeX2w"
      },
      "source": [
        "Видно, что для признака `rougher.output.recovery`, предсказания смещены немного влево, хоть и распределения имеют похожую форму. Для признака  `final.output.recovery` распределения в основном центрированы, но у некоторых значений заметны большие различия в плотности."
      ]
    },
    {
      "cell_type": "markdown",
      "metadata": {
        "id": "Hg2AAel2eX2w"
      },
      "source": [
        "Попробуем повысить точность предсказаний, для этого произведем отбор признаков. Выполнять предсказания будем при помощи модели линейной регрессии из-за скорости расчетов, в качестве результата будем записывать значение метрик R2 для целевых признаков. Отсортируем признаки по важности и будем перебирать их, постепенно увеличивая количество:"
      ]
    },
    {
      "cell_type": "code",
      "metadata": {
        "scrolled": false,
        "id": "nBcWNssseX2x"
      },
      "source": [
        "lr = LinearRegression(normalize=True)\n",
        "\n",
        "def select_features(X_train, y_train, X_test):\n",
        "    fs = SelectKBest(score_func=f_regression, k='all')\n",
        "    fs.fit(X_train, y_train)\n",
        "    X_train_fs = fs.transform(X_train)\n",
        "    X_test_fs = fs.transform(X_test)\n",
        "    return fs\n",
        "\n",
        "fs_1 = select_features(features_train, target_train['rougher.output.recovery'], features_test)\n",
        "fs_2 = select_features(features_train, target_train['final.output.recovery'], features_test)\n",
        "fs_list_1 = pd.Series(fs_1.scores_).to_frame('select')\n",
        "fs_list_1['cols'] = features_train.columns\n",
        "\n",
        "fs_list_2 = pd.Series(fs_2.scores_).to_frame('select')\n",
        "fs_list_2['cols'] = features_train.columns\n",
        "\n",
        "def model_columns(num, fs_list):\n",
        "    return fs_list.sort_values(by=['select'], ascending=False).reset_index(drop=True).iloc[:num]['cols'].tolist()\n",
        "def scoring(fs_list):\n",
        "    scores = []\n",
        "    for i in range(len(fs_list)):\n",
        "        if i < 10:\n",
        "            continue\n",
        "        elif i == 40:\n",
        "            break\n",
        "        features_train = train[model_columns(i, fs_list)]\n",
        "        features_test = full_test[model_columns(i, fs_list)]\n",
        "        lr.fit(features_train, target_train)\n",
        "        preds = lr.predict(features_test)\n",
        "        scores.append([i, r2_score(target_test['rougher.output.recovery'],preds[:, 0]),\n",
        "                      r2_score(target_test['final.output.recovery'],preds[:, 1])]) \n",
        "        \n",
        "    return scores"
      ],
      "execution_count": null,
      "outputs": []
    },
    {
      "cell_type": "markdown",
      "metadata": {
        "id": "MiHPYssDeX2y"
      },
      "source": [
        "Получим оптимальный набор столбцов, при котором метрики достигают максимальных значений:"
      ]
    },
    {
      "cell_type": "code",
      "metadata": {
        "id": "nAM4qkDpeX2y",
        "outputId": "e91725a3-2cd8-4df3-cacc-a95a9a02d4c6"
      },
      "source": [
        "%%time\n",
        "scores_df = pd.DataFrame(data=scoring(fs_list_1), columns=['num_fs1', 'r2_rough', 'r2_final']).set_index('num_fs1')\n",
        "scores_df['max'] = scores_df.sum(axis=1)\n",
        "best_score_r = scores_df[scores_df['max'] == scores_df.max()['max']].drop('max',axis=1)\n",
        "display(best_score_r)\n",
        "scores_df = pd.DataFrame(data=scoring(fs_list_2), columns=['num_fs2', 'r2_rough', 'r2_final']).set_index('num_fs2')\n",
        "scores_df['max'] = scores_df.sum(axis=1)\n",
        "best_score_f = scores_df[scores_df['max'] == scores_df.max()['max']].drop('max',axis=1)\n",
        "display(best_score_f)"
      ],
      "execution_count": null,
      "outputs": [
        {
          "output_type": "display_data",
          "data": {
            "text/html": [
              "<div>\n",
              "<style scoped>\n",
              "    .dataframe tbody tr th:only-of-type {\n",
              "        vertical-align: middle;\n",
              "    }\n",
              "\n",
              "    .dataframe tbody tr th {\n",
              "        vertical-align: top;\n",
              "    }\n",
              "\n",
              "    .dataframe thead th {\n",
              "        text-align: right;\n",
              "    }\n",
              "</style>\n",
              "<table border=\"1\" class=\"dataframe\">\n",
              "  <thead>\n",
              "    <tr style=\"text-align: right;\">\n",
              "      <th></th>\n",
              "      <th>r2_rough</th>\n",
              "      <th>r2_final</th>\n",
              "    </tr>\n",
              "    <tr>\n",
              "      <th>num_fs1</th>\n",
              "      <th></th>\n",
              "      <th></th>\n",
              "    </tr>\n",
              "  </thead>\n",
              "  <tbody>\n",
              "    <tr>\n",
              "      <td>13</td>\n",
              "      <td>0.101561</td>\n",
              "      <td>0.042704</td>\n",
              "    </tr>\n",
              "  </tbody>\n",
              "</table>\n",
              "</div>"
            ],
            "text/plain": [
              "         r2_rough  r2_final\n",
              "num_fs1                    \n",
              "13       0.101561  0.042704"
            ]
          },
          "metadata": {
            "tags": []
          }
        },
        {
          "output_type": "display_data",
          "data": {
            "text/html": [
              "<div>\n",
              "<style scoped>\n",
              "    .dataframe tbody tr th:only-of-type {\n",
              "        vertical-align: middle;\n",
              "    }\n",
              "\n",
              "    .dataframe tbody tr th {\n",
              "        vertical-align: top;\n",
              "    }\n",
              "\n",
              "    .dataframe thead th {\n",
              "        text-align: right;\n",
              "    }\n",
              "</style>\n",
              "<table border=\"1\" class=\"dataframe\">\n",
              "  <thead>\n",
              "    <tr style=\"text-align: right;\">\n",
              "      <th></th>\n",
              "      <th>r2_rough</th>\n",
              "      <th>r2_final</th>\n",
              "    </tr>\n",
              "    <tr>\n",
              "      <th>num_fs2</th>\n",
              "      <th></th>\n",
              "      <th></th>\n",
              "    </tr>\n",
              "  </thead>\n",
              "  <tbody>\n",
              "    <tr>\n",
              "      <td>15</td>\n",
              "      <td>0.147298</td>\n",
              "      <td>0.041039</td>\n",
              "    </tr>\n",
              "  </tbody>\n",
              "</table>\n",
              "</div>"
            ],
            "text/plain": [
              "         r2_rough  r2_final\n",
              "num_fs2                    \n",
              "15       0.147298  0.041039"
            ]
          },
          "metadata": {
            "tags": []
          }
        },
        {
          "output_type": "stream",
          "text": [
            "CPU times: user 6.53 s, sys: 6.45 s, total: 13 s\n",
            "Wall time: 13 s\n"
          ],
          "name": "stdout"
        }
      ]
    },
    {
      "cell_type": "markdown",
      "metadata": {
        "id": "ps-oMn7peX20"
      },
      "source": [
        "Изучим признаки:"
      ]
    },
    {
      "cell_type": "code",
      "metadata": {
        "id": "PcYqixQMeX20",
        "outputId": "61eac735-14da-4eb0-89f8-72124eccc4bd"
      },
      "source": [
        "for k,i in enumerate((set(model_columns(15, fs_list_2)).union(set(model_columns(13, fs_list_1))))):\n",
        "    print(f'{k}. {i}')"
      ],
      "execution_count": null,
      "outputs": [
        {
          "output_type": "stream",
          "text": [
            "0. secondary_cleaner.state.floatbank3_a_air\n",
            "1. secondary_cleaner.state.floatbank5_b_air\n",
            "2. secondary_cleaner.state.floatbank5_a_air\n",
            "3. rougher.state.floatbank10_c_air\n",
            "4. rougher.state.floatbank10_a_level\n",
            "5. secondary_cleaner.state.floatbank4_a_air\n",
            "6. rougher.input.feed_pb\n",
            "7. secondary_cleaner.state.floatbank4_b_air\n",
            "8. rougher.input.feed_ag\n",
            "9. primary_cleaner.input.sulfate\n",
            "10. primary_cleaner.input.xanthate\n",
            "11. rougher.input.floatbank11_xanthate\n",
            "12. rougher.input.floatbank10_xanthate\n",
            "13. rougher.input.feed_sol\n",
            "14. rougher.input.feed_au\n",
            "15. rougher.state.floatbank10_d_air\n",
            "16. rougher.input.feed_rate\n",
            "17. rougher.state.floatbank10_a_air\n"
          ],
          "name": "stdout"
        }
      ]
    },
    {
      "cell_type": "markdown",
      "metadata": {
        "id": "QAhCel4ieX21"
      },
      "source": [
        "Создадим набор признаков из объединенных множеств:"
      ]
    },
    {
      "cell_type": "code",
      "metadata": {
        "id": "_X6aIIcdeX22"
      },
      "source": [
        "features_tr = train[(set(model_columns(15, fs_list_2)).union(set(model_columns(13, fs_list_1))))]\n",
        "features_ts = test[(set(model_columns(15, fs_list_2)).union(set(model_columns(13, fs_list_1))))]\n",
        "cross_val_features = pd.concat([features_tr, features_ts])"
      ],
      "execution_count": null,
      "outputs": []
    },
    {
      "cell_type": "markdown",
      "metadata": {
        "id": "61gO7ucfeX24"
      },
      "source": [
        "Создадим модель Ridge регрессии и попробуем перебрать параметры alpha для поиска оптимального:"
      ]
    },
    {
      "cell_type": "code",
      "metadata": {
        "id": "FSpGZNl7eX24",
        "outputId": "0d8a6600-6e0e-4af4-af1d-94ca74e87815"
      },
      "source": [
        "%%time\n",
        "ridge=Ridge()\n",
        "params = {'alpha':[*range(9000,14000,500)]}\n",
        "grid = GridSearchCV(ridge, params, cv=5)\n",
        "grid.fit(cross_val_features, cross_val_target_1)\n",
        "print('rougher.output.recovery:',grid.best_score_, grid.best_params_)\n",
        "grid.fit(cross_val_features, cross_val_target_2)\n",
        "print('final.output.recovery:', grid.best_score_, grid.best_params_)"
      ],
      "execution_count": null,
      "outputs": [
        {
          "output_type": "stream",
          "text": [
            "rougher.output.recovery: 0.013832288204070835 {'alpha': 12500}\n",
            "final.output.recovery: 0.12392783122327068 {'alpha': 10000}\n",
            "CPU times: user 4.41 s, sys: 4.6 s, total: 9.01 s\n",
            "Wall time: 9 s\n"
          ],
          "name": "stdout"
        }
      ]
    },
    {
      "cell_type": "markdown",
      "metadata": {
        "id": "p8kfiWtKeX25"
      },
      "source": [
        "Будем использовать усредненную alpha"
      ]
    },
    {
      "cell_type": "markdown",
      "metadata": {
        "id": "DewMnINYeX26"
      },
      "source": [
        "<a id='cross_val'></a>\n",
        "### Проведение кросс-валидации для моделей Ridge-регрессии и линейной регрессии для 5 фолдов:"
      ]
    },
    {
      "cell_type": "code",
      "metadata": {
        "id": "e6gESjMPeX26",
        "outputId": "72b42307-4d96-4341-f564-684fd6814f91"
      },
      "source": [
        "%%time\n",
        "ridge=Ridge(alpha=11250)\n",
        "cross_val(lr, ridge, cross_val_features)"
      ],
      "execution_count": null,
      "outputs": [
        {
          "output_type": "stream",
          "text": [
            "Кросс-валидация для <class 'sklearn.linear_model.base.LinearRegression'>: \n",
            "r2_rougher.output.recovery = -0.04342502214738806 \n",
            "r2_final.output.recovery 0.09381433441286147\n",
            "Кросс-валидация для <class 'sklearn.linear_model.ridge.Ridge'>: \n",
            "r2_rougher.output.recovery = 0.013756539010961476 \n",
            "r2_final.output.recovery 0.12386984924634192\n",
            "CPU times: user 1.26 s, sys: 1.33 s, total: 2.6 s\n",
            "Wall time: 2.6 s\n"
          ],
          "name": "stdout"
        }
      ]
    },
    {
      "cell_type": "markdown",
      "metadata": {
        "id": "ipYj4i3DeX28"
      },
      "source": [
        "Метрики модели Ridge выше, будем использовать её для проверки на тестовой выборке: "
      ]
    },
    {
      "cell_type": "code",
      "metadata": {
        "id": "rqeOcbiReX28"
      },
      "source": [
        "ridge.fit(features_tr, target_train)\n",
        "preds = ridge.predict(features_ts)"
      ],
      "execution_count": null,
      "outputs": []
    },
    {
      "cell_type": "code",
      "metadata": {
        "scrolled": true,
        "id": "N4R8ErRYeX29",
        "outputId": "ba30fabe-f638-4fec-dc01-290f63399cc4"
      },
      "source": [
        "metrics('rougher.output.recovery', 'final.output.recovery', preds[:, 0], preds[:,1])"
      ],
      "execution_count": null,
      "outputs": [
        {
          "output_type": "stream",
          "text": [
            "Метрики качества модели:\n",
            "MAE для rougher.output.recovery: 3.4559311022623094\n",
            "R2 для rougher.output.recovery: 0.15379647853759693\n",
            "MAE для final.output.recovery: 4.822617571655102\n",
            "R2 для final.output.recovery: 0.06481878507881855\n"
          ],
          "name": "stdout"
        }
      ]
    },
    {
      "cell_type": "code",
      "metadata": {
        "id": "TWqFN4a2eX3B",
        "outputId": "81fe3c09-1e0e-4433-e746-46512c1880af"
      },
      "source": [
        "ridge_smape = total_smape(target_test['rougher.output.recovery'], preds[:,0], \n",
        "                       target_test['final.output.recovery'], preds[:,1])\n",
        "print(f'Итоговая sMAPE для Ridge-регрессии составляет: {ridge_smape}%, для случайной модели: {constant_smape}%')"
      ],
      "execution_count": null,
      "outputs": [
        {
          "output_type": "stream",
          "text": [
            "Итоговая sMAPE для Ridge-регрессии составляет: 6.41%, для случайной модели: 7.16%\n"
          ],
          "name": "stdout"
        }
      ]
    },
    {
      "cell_type": "markdown",
      "metadata": {
        "id": "m21vr-bueX3I"
      },
      "source": [
        "Визуализируем реальные и предсказанные значения:"
      ]
    },
    {
      "cell_type": "code",
      "metadata": {
        "scrolled": false,
        "id": "-S3tLgHteX3L",
        "outputId": "6d19c6cc-713e-4edd-9c0a-d659842799dc"
      },
      "source": [
        "plt.figure(figsize=(12, 7))\n",
        "plt.hist(target_test['rougher.output.recovery'], bins=40, alpha=0.7, label='rougher_true', density=True)\n",
        "plt.hist(preds[:, 0], bins=40, alpha=0.7, density=True, label='rougher_pred')\n",
        "plt.hist(target_test['final.output.recovery'], bins=40, alpha=0.7, density=True, label='final_true')\n",
        "plt.hist(preds[:, 1], bins=40, alpha=0.7, density=True, label='final_pred')\n",
        "plt.title(('Гистограмма распределения реальных и предсказанных значений для обогащения').center(240))\n",
        "plt.xlabel('values')\n",
        "plt.ylabel('density')\n",
        "plt.legend()\n",
        "plt.show()"
      ],
      "execution_count": null,
      "outputs": [
        {
          "output_type": "display_data",
          "data": {
            "image/png": "[encoded data removed]",
            "text/plain": [
              "<Figure size 864x504 with 1 Axes>"
            ]
          },
          "metadata": {
            "tags": []
          }
        }
      ]
    },
    {
      "cell_type": "markdown",
      "metadata": {
        "id": "ohbGACEWeX3T"
      },
      "source": [
        "Теперь предсказания менее смещены относительно реальных значений, в сравнении с предсказаниями ненастроенной линейной регресиией."
      ]
    },
    {
      "cell_type": "markdown",
      "metadata": {
        "id": "YK0j6ZCFeX3U"
      },
      "source": [
        "### Вывод"
      ]
    },
    {
      "cell_type": "markdown",
      "metadata": {
        "id": "HedCGM9GeX3U"
      },
      "source": [
        "На этом этапе были созданы несколько моделей линейной регрессии, случайного леса и Ridge-регресии, был произведен отбор признаков для предсказания, а при помощи кросс-валидации была выбрана самая эффективная модель, которой оказалась Ridge.\n",
        "\n",
        "Метрики качества:\n",
        "- MAE для rougher.output.recovery: 3.46\n",
        "- R2 для rougher.output.recovery: 0.15\n",
        "- MAE для final.output.recovery: 4.82\n",
        "- R2 для final.output.recovery: 0.07\n",
        "- итоговая sMAPE: 6.41%"
      ]
    },
    {
      "cell_type": "markdown",
      "metadata": {
        "id": "RpQzfQfbeX3V"
      },
      "source": [
        "<a id='output'></a>\n",
        "## Общий вывод"
      ]
    },
    {
      "cell_type": "markdown",
      "metadata": {
        "id": "ERfj5wuMeX3W"
      },
      "source": [
        "Были изучены датасеты с информацией об обогащении и очистке золота, обнаруженные пропуски заполнены и удалены аномалии. Была проверена точность расчета эффективности обогащения для руды - средняя абсолютная ошибка стремится к нулю; были проанализированы признаки, недоступные в тестовой выборке - ими оказались данные со всех этапов с долей элементов в концентратах, отвальных хвостах и др.\n",
        "\n",
        "Был проведен исследовательский анализ данных: \n",
        "- в финальном концентрате средняя доля золота выросла в 5.7 раза по сравнению с изначальным, для свинца в 3 раза, а для серебра уменьишалсь в 1.7 раза, \n",
        "- распределения гранул сырья в двух выборках имеют очень похожую форму и принимают одинаковые значения, с разной плотностью; средние практически одинаковы, значения на Q1-Q3 также очень похожи.\n",
        "\n",
        "Были созданы и протестированы несколько моделей линейной регрессии, случайного леса и Ridge-регресии, был произведен отбор признаков для предсказания, а при помощи кросс-валидации была выбрана самая эффективная модель, которой оказалась Ridge.\n",
        "\n",
        "\n",
        "Метрики качества:\n",
        "- MAE для rougher.output.recovery: 3.46\n",
        "- R2 для rougher.output.recovery: 0.15\n",
        "- MAE для final.output.recovery: 4.82\n",
        "- R2 для final.output.recovery: 0.07\n",
        "- итоговая sMAPE: 6.41%"
      ]
    }
  ]
}