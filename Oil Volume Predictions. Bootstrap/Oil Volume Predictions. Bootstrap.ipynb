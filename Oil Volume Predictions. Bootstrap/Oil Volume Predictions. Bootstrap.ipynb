{
 "cells": [
  {
   "cell_type": "markdown",
   "metadata": {},
   "source": [
    "# «ГлавРосГосНефть»"
   ]
  },
  {
   "cell_type": "markdown",
   "metadata": {},
   "source": [
    "### Описание проекта\n",
    "Вы работаете в добывающей компании «ГлавРосГосНефть». Нужно решить, где бурить новую скважину.\n",
    "\n",
    "Шаги для выбора локации обычно такие:\n",
    "- В избранном регионе собирают характеристики для скважин: качество нефти и объём её запасов;\n",
    "- Строят модель для предсказания объёма запасов в новых скважинах;\n",
    "- Выбирают скважины с самыми высокими оценками значений;\n",
    "- Определяют регион с максимальной суммарной прибылью отобранных скважин.\n",
    "\n",
    "\n",
    "Вам предоставлены пробы нефти в трёх регионах. Характеристики для каждой скважины в регионе уже известны. Постройте модель для определения региона, где добыча принесёт наибольшую прибыль. Проанализируйте возможную прибыль и риски техникой Bootstrap."
   ]
  },
  {
   "cell_type": "markdown",
   "metadata": {},
   "source": [
    "### Условия задачи:\n",
    " - Для обучения модели подходит только линейная регрессия (остальные — недостаточно предсказуемые).\n",
    " - При разведке региона исследуют 500 точек, из которых выбирают 200 лучших для расчёта прибыли.\n",
    " - Бюджет на разработку скважин в регионе — 10 млрд рублей.\n",
    " - Один баррель сырья приносит 450 рублей дохода. Доход с каждой единицы продукта составляет 450 тыс. рублей, поскольку объём указан в тысячах баррелей.\n",
    " - После оценки рисков нужно оставить лишь те регионы, в которых вероятность убытков меньше 2.5%. Среди них выбирают регион с наибольшей средней прибылью.\n",
    "\n",
    "*Данные синтетические: детали контрактов и характеристики месторождений не разглашаются.*"
   ]
  },
  {
   "cell_type": "markdown",
   "metadata": {},
   "source": [
    "### Описание данных\n",
    "- `id` — уникальный идентификатор скважины;\n",
    "- `f0`, `f1`, `f2` — три признака точек (неважно, что они означают, но сами признаки значимы);\n",
    "- `product` — объём запасов в скважине (тыс. баррелей)."
   ]
  },
  {
   "cell_type": "markdown",
   "metadata": {},
   "source": [
    "### План работы\n",
    "1. [**Загрузка и подготовка данных**](#load)\n",
    "    1. [Исследование признаков](#eda)\n",
    "2. [**Обучение и проверка модели для каждого региона:**](#fit)\n",
    "    1. [Разбивка данных на обучающую и валидационную выборки в соотношении 75:25.](#split)\n",
    "    2. [Обучение модели и предсказания на валидационной выборке.](#predict)\n",
    "    3. [Расчет среднего запаса предсказанного сырья и RMSE модели.](#metrics)\n",
    "    4. [Анализ результатов.](#analysis)\n",
    "3. [**Подготовка к расчёту прибыли:**](#calc)\n",
    "    1. [Создание переменных с ключевыми значениями для расчётов.](#const)\n",
    "    2. [Расчёт достаточного объёма сырья для безубыточной разработки новой скважины. Сравнение полученного объёма сырья со средним запасом в каждом регионе.](#capacity)\n",
    "4. [**Создание функции для расчёта прибыли по выбранным скважинам и предсказаниям модели**:](#revenue)\n",
    "    1. [Выбор скважин с максимальными значениями предсказаний. Количество скважин зависит от бюджета компании и стоимости разработки одной скважины.](#wells)\n",
    "    2. [Расчёт прибыли для полученного объёма сырья.](#volume)\n",
    "5. [**Расчет рисков и прибыли для каждого региона:**](#risk)\n",
    "    1. [Использование техники Bootstrap с 1000 выборок, чтобы найти распределение прибыли.](#bootstrap)\n",
    "    2. [Cредняя прибыль, 95%-й доверительный интервал и риск убытков. (Убыток — это отрицательная прибыль).](#mean)\n",
    "6. [**Общий вывод: выбор региона для разработки скважин.**](#output)"
   ]
  },
  {
   "cell_type": "markdown",
   "metadata": {},
   "source": [
    "---\n",
    "<a id='load'></a>\n",
    "## 1. Загрузка и подготовка данных"
   ]
  },
  {
   "cell_type": "code",
   "execution_count": 1,
   "metadata": {},
   "outputs": [],
   "source": [
    "import pandas as pd\n",
    "import numpy as np\n",
    "import scipy.stats as st\n",
    "import matplotlib.pyplot as plt\n",
    "import seaborn as sns\n",
    "sns.set_style('whitegrid')\n",
    "from sklearn.model_selection import train_test_split\n",
    "from sklearn.linear_model import LinearRegression\n",
    "from sklearn.metrics import r2_score, mean_squared_error, mean_absolute_error"
   ]
  },
  {
   "cell_type": "code",
   "execution_count": 2,
   "metadata": {},
   "outputs": [],
   "source": [
    "g0 = pd.read_csv('/datasets/geo_data_0.csv')\n",
    "g1 = pd.read_csv('/datasets/geo_data_1.csv')\n",
    "g2 = pd.read_csv('/datasets/geo_data_2.csv')\n",
    "dfs = {'geo_data_0':g0, 'geo_data_1':g1, 'geo_data_2':g2}"
   ]
  },
  {
   "cell_type": "code",
   "execution_count": 3,
   "metadata": {},
   "outputs": [],
   "source": [
    "def information(dataframes):\n",
    "    for i in dataframes:\n",
    "        display(dataframes[i].head())\n",
    "        print()\n",
    "        dataframes[i].info()\n",
    "        print()\n",
    "        display(dataframes[i].isna().sum().to_frame(name=f'missed values {i}'))\n",
    "        print()\n",
    "        print(f'Количество дубликатов в столбцах для датасета {i}:', dataframes[i].duplicated().sum())"
   ]
  },
  {
   "cell_type": "code",
   "execution_count": 4,
   "metadata": {
    "scrolled": false
   },
   "outputs": [
    {
     "data": {
      "text/html": [
       "<div>\n",
       "<style scoped>\n",
       "    .dataframe tbody tr th:only-of-type {\n",
       "        vertical-align: middle;\n",
       "    }\n",
       "\n",
       "    .dataframe tbody tr th {\n",
       "        vertical-align: top;\n",
       "    }\n",
       "\n",
       "    .dataframe thead th {\n",
       "        text-align: right;\n",
       "    }\n",
       "</style>\n",
       "<table border=\"1\" class=\"dataframe\">\n",
       "  <thead>\n",
       "    <tr style=\"text-align: right;\">\n",
       "      <th></th>\n",
       "      <th>id</th>\n",
       "      <th>f0</th>\n",
       "      <th>f1</th>\n",
       "      <th>f2</th>\n",
       "      <th>product</th>\n",
       "    </tr>\n",
       "  </thead>\n",
       "  <tbody>\n",
       "    <tr>\n",
       "      <td>0</td>\n",
       "      <td>txEyH</td>\n",
       "      <td>0.705745</td>\n",
       "      <td>-0.497823</td>\n",
       "      <td>1.221170</td>\n",
       "      <td>105.280062</td>\n",
       "    </tr>\n",
       "    <tr>\n",
       "      <td>1</td>\n",
       "      <td>2acmU</td>\n",
       "      <td>1.334711</td>\n",
       "      <td>-0.340164</td>\n",
       "      <td>4.365080</td>\n",
       "      <td>73.037750</td>\n",
       "    </tr>\n",
       "    <tr>\n",
       "      <td>2</td>\n",
       "      <td>409Wp</td>\n",
       "      <td>1.022732</td>\n",
       "      <td>0.151990</td>\n",
       "      <td>1.419926</td>\n",
       "      <td>85.265647</td>\n",
       "    </tr>\n",
       "    <tr>\n",
       "      <td>3</td>\n",
       "      <td>iJLyR</td>\n",
       "      <td>-0.032172</td>\n",
       "      <td>0.139033</td>\n",
       "      <td>2.978566</td>\n",
       "      <td>168.620776</td>\n",
       "    </tr>\n",
       "    <tr>\n",
       "      <td>4</td>\n",
       "      <td>Xdl7t</td>\n",
       "      <td>1.988431</td>\n",
       "      <td>0.155413</td>\n",
       "      <td>4.751769</td>\n",
       "      <td>154.036647</td>\n",
       "    </tr>\n",
       "  </tbody>\n",
       "</table>\n",
       "</div>"
      ],
      "text/plain": [
       "      id        f0        f1        f2     product\n",
       "0  txEyH  0.705745 -0.497823  1.221170  105.280062\n",
       "1  2acmU  1.334711 -0.340164  4.365080   73.037750\n",
       "2  409Wp  1.022732  0.151990  1.419926   85.265647\n",
       "3  iJLyR -0.032172  0.139033  2.978566  168.620776\n",
       "4  Xdl7t  1.988431  0.155413  4.751769  154.036647"
      ]
     },
     "metadata": {},
     "output_type": "display_data"
    },
    {
     "name": "stdout",
     "output_type": "stream",
     "text": [
      "\n",
      "<class 'pandas.core.frame.DataFrame'>\n",
      "RangeIndex: 100000 entries, 0 to 99999\n",
      "Data columns (total 5 columns):\n",
      "id         100000 non-null object\n",
      "f0         100000 non-null float64\n",
      "f1         100000 non-null float64\n",
      "f2         100000 non-null float64\n",
      "product    100000 non-null float64\n",
      "dtypes: float64(4), object(1)\n",
      "memory usage: 3.8+ MB\n",
      "\n"
     ]
    },
    {
     "data": {
      "text/html": [
       "<div>\n",
       "<style scoped>\n",
       "    .dataframe tbody tr th:only-of-type {\n",
       "        vertical-align: middle;\n",
       "    }\n",
       "\n",
       "    .dataframe tbody tr th {\n",
       "        vertical-align: top;\n",
       "    }\n",
       "\n",
       "    .dataframe thead th {\n",
       "        text-align: right;\n",
       "    }\n",
       "</style>\n",
       "<table border=\"1\" class=\"dataframe\">\n",
       "  <thead>\n",
       "    <tr style=\"text-align: right;\">\n",
       "      <th></th>\n",
       "      <th>missed values geo_data_0</th>\n",
       "    </tr>\n",
       "  </thead>\n",
       "  <tbody>\n",
       "    <tr>\n",
       "      <td>id</td>\n",
       "      <td>0</td>\n",
       "    </tr>\n",
       "    <tr>\n",
       "      <td>f0</td>\n",
       "      <td>0</td>\n",
       "    </tr>\n",
       "    <tr>\n",
       "      <td>f1</td>\n",
       "      <td>0</td>\n",
       "    </tr>\n",
       "    <tr>\n",
       "      <td>f2</td>\n",
       "      <td>0</td>\n",
       "    </tr>\n",
       "    <tr>\n",
       "      <td>product</td>\n",
       "      <td>0</td>\n",
       "    </tr>\n",
       "  </tbody>\n",
       "</table>\n",
       "</div>"
      ],
      "text/plain": [
       "         missed values geo_data_0\n",
       "id                              0\n",
       "f0                              0\n",
       "f1                              0\n",
       "f2                              0\n",
       "product                         0"
      ]
     },
     "metadata": {},
     "output_type": "display_data"
    },
    {
     "name": "stdout",
     "output_type": "stream",
     "text": [
      "\n",
      "Количество дубликатов в столбцах для датасета geo_data_0: 0\n"
     ]
    },
    {
     "data": {
      "text/html": [
       "<div>\n",
       "<style scoped>\n",
       "    .dataframe tbody tr th:only-of-type {\n",
       "        vertical-align: middle;\n",
       "    }\n",
       "\n",
       "    .dataframe tbody tr th {\n",
       "        vertical-align: top;\n",
       "    }\n",
       "\n",
       "    .dataframe thead th {\n",
       "        text-align: right;\n",
       "    }\n",
       "</style>\n",
       "<table border=\"1\" class=\"dataframe\">\n",
       "  <thead>\n",
       "    <tr style=\"text-align: right;\">\n",
       "      <th></th>\n",
       "      <th>id</th>\n",
       "      <th>f0</th>\n",
       "      <th>f1</th>\n",
       "      <th>f2</th>\n",
       "      <th>product</th>\n",
       "    </tr>\n",
       "  </thead>\n",
       "  <tbody>\n",
       "    <tr>\n",
       "      <td>0</td>\n",
       "      <td>kBEdx</td>\n",
       "      <td>-15.001348</td>\n",
       "      <td>-8.276000</td>\n",
       "      <td>-0.005876</td>\n",
       "      <td>3.179103</td>\n",
       "    </tr>\n",
       "    <tr>\n",
       "      <td>1</td>\n",
       "      <td>62mP7</td>\n",
       "      <td>14.272088</td>\n",
       "      <td>-3.475083</td>\n",
       "      <td>0.999183</td>\n",
       "      <td>26.953261</td>\n",
       "    </tr>\n",
       "    <tr>\n",
       "      <td>2</td>\n",
       "      <td>vyE1P</td>\n",
       "      <td>6.263187</td>\n",
       "      <td>-5.948386</td>\n",
       "      <td>5.001160</td>\n",
       "      <td>134.766305</td>\n",
       "    </tr>\n",
       "    <tr>\n",
       "      <td>3</td>\n",
       "      <td>KcrkZ</td>\n",
       "      <td>-13.081196</td>\n",
       "      <td>-11.506057</td>\n",
       "      <td>4.999415</td>\n",
       "      <td>137.945408</td>\n",
       "    </tr>\n",
       "    <tr>\n",
       "      <td>4</td>\n",
       "      <td>AHL4O</td>\n",
       "      <td>12.702195</td>\n",
       "      <td>-8.147433</td>\n",
       "      <td>5.004363</td>\n",
       "      <td>134.766305</td>\n",
       "    </tr>\n",
       "  </tbody>\n",
       "</table>\n",
       "</div>"
      ],
      "text/plain": [
       "      id         f0         f1        f2     product\n",
       "0  kBEdx -15.001348  -8.276000 -0.005876    3.179103\n",
       "1  62mP7  14.272088  -3.475083  0.999183   26.953261\n",
       "2  vyE1P   6.263187  -5.948386  5.001160  134.766305\n",
       "3  KcrkZ -13.081196 -11.506057  4.999415  137.945408\n",
       "4  AHL4O  12.702195  -8.147433  5.004363  134.766305"
      ]
     },
     "metadata": {},
     "output_type": "display_data"
    },
    {
     "name": "stdout",
     "output_type": "stream",
     "text": [
      "\n",
      "<class 'pandas.core.frame.DataFrame'>\n",
      "RangeIndex: 100000 entries, 0 to 99999\n",
      "Data columns (total 5 columns):\n",
      "id         100000 non-null object\n",
      "f0         100000 non-null float64\n",
      "f1         100000 non-null float64\n",
      "f2         100000 non-null float64\n",
      "product    100000 non-null float64\n",
      "dtypes: float64(4), object(1)\n",
      "memory usage: 3.8+ MB\n",
      "\n"
     ]
    },
    {
     "data": {
      "text/html": [
       "<div>\n",
       "<style scoped>\n",
       "    .dataframe tbody tr th:only-of-type {\n",
       "        vertical-align: middle;\n",
       "    }\n",
       "\n",
       "    .dataframe tbody tr th {\n",
       "        vertical-align: top;\n",
       "    }\n",
       "\n",
       "    .dataframe thead th {\n",
       "        text-align: right;\n",
       "    }\n",
       "</style>\n",
       "<table border=\"1\" class=\"dataframe\">\n",
       "  <thead>\n",
       "    <tr style=\"text-align: right;\">\n",
       "      <th></th>\n",
       "      <th>missed values geo_data_1</th>\n",
       "    </tr>\n",
       "  </thead>\n",
       "  <tbody>\n",
       "    <tr>\n",
       "      <td>id</td>\n",
       "      <td>0</td>\n",
       "    </tr>\n",
       "    <tr>\n",
       "      <td>f0</td>\n",
       "      <td>0</td>\n",
       "    </tr>\n",
       "    <tr>\n",
       "      <td>f1</td>\n",
       "      <td>0</td>\n",
       "    </tr>\n",
       "    <tr>\n",
       "      <td>f2</td>\n",
       "      <td>0</td>\n",
       "    </tr>\n",
       "    <tr>\n",
       "      <td>product</td>\n",
       "      <td>0</td>\n",
       "    </tr>\n",
       "  </tbody>\n",
       "</table>\n",
       "</div>"
      ],
      "text/plain": [
       "         missed values geo_data_1\n",
       "id                              0\n",
       "f0                              0\n",
       "f1                              0\n",
       "f2                              0\n",
       "product                         0"
      ]
     },
     "metadata": {},
     "output_type": "display_data"
    },
    {
     "name": "stdout",
     "output_type": "stream",
     "text": [
      "\n",
      "Количество дубликатов в столбцах для датасета geo_data_1: 0\n"
     ]
    },
    {
     "data": {
      "text/html": [
       "<div>\n",
       "<style scoped>\n",
       "    .dataframe tbody tr th:only-of-type {\n",
       "        vertical-align: middle;\n",
       "    }\n",
       "\n",
       "    .dataframe tbody tr th {\n",
       "        vertical-align: top;\n",
       "    }\n",
       "\n",
       "    .dataframe thead th {\n",
       "        text-align: right;\n",
       "    }\n",
       "</style>\n",
       "<table border=\"1\" class=\"dataframe\">\n",
       "  <thead>\n",
       "    <tr style=\"text-align: right;\">\n",
       "      <th></th>\n",
       "      <th>id</th>\n",
       "      <th>f0</th>\n",
       "      <th>f1</th>\n",
       "      <th>f2</th>\n",
       "      <th>product</th>\n",
       "    </tr>\n",
       "  </thead>\n",
       "  <tbody>\n",
       "    <tr>\n",
       "      <td>0</td>\n",
       "      <td>fwXo0</td>\n",
       "      <td>-1.146987</td>\n",
       "      <td>0.963328</td>\n",
       "      <td>-0.828965</td>\n",
       "      <td>27.758673</td>\n",
       "    </tr>\n",
       "    <tr>\n",
       "      <td>1</td>\n",
       "      <td>WJtFt</td>\n",
       "      <td>0.262778</td>\n",
       "      <td>0.269839</td>\n",
       "      <td>-2.530187</td>\n",
       "      <td>56.069697</td>\n",
       "    </tr>\n",
       "    <tr>\n",
       "      <td>2</td>\n",
       "      <td>ovLUW</td>\n",
       "      <td>0.194587</td>\n",
       "      <td>0.289035</td>\n",
       "      <td>-5.586433</td>\n",
       "      <td>62.871910</td>\n",
       "    </tr>\n",
       "    <tr>\n",
       "      <td>3</td>\n",
       "      <td>q6cA6</td>\n",
       "      <td>2.236060</td>\n",
       "      <td>-0.553760</td>\n",
       "      <td>0.930038</td>\n",
       "      <td>114.572842</td>\n",
       "    </tr>\n",
       "    <tr>\n",
       "      <td>4</td>\n",
       "      <td>WPMUX</td>\n",
       "      <td>-0.515993</td>\n",
       "      <td>1.716266</td>\n",
       "      <td>5.899011</td>\n",
       "      <td>149.600746</td>\n",
       "    </tr>\n",
       "  </tbody>\n",
       "</table>\n",
       "</div>"
      ],
      "text/plain": [
       "      id        f0        f1        f2     product\n",
       "0  fwXo0 -1.146987  0.963328 -0.828965   27.758673\n",
       "1  WJtFt  0.262778  0.269839 -2.530187   56.069697\n",
       "2  ovLUW  0.194587  0.289035 -5.586433   62.871910\n",
       "3  q6cA6  2.236060 -0.553760  0.930038  114.572842\n",
       "4  WPMUX -0.515993  1.716266  5.899011  149.600746"
      ]
     },
     "metadata": {},
     "output_type": "display_data"
    },
    {
     "name": "stdout",
     "output_type": "stream",
     "text": [
      "\n",
      "<class 'pandas.core.frame.DataFrame'>\n",
      "RangeIndex: 100000 entries, 0 to 99999\n",
      "Data columns (total 5 columns):\n",
      "id         100000 non-null object\n",
      "f0         100000 non-null float64\n",
      "f1         100000 non-null float64\n",
      "f2         100000 non-null float64\n",
      "product    100000 non-null float64\n",
      "dtypes: float64(4), object(1)\n",
      "memory usage: 3.8+ MB\n",
      "\n"
     ]
    },
    {
     "data": {
      "text/html": [
       "<div>\n",
       "<style scoped>\n",
       "    .dataframe tbody tr th:only-of-type {\n",
       "        vertical-align: middle;\n",
       "    }\n",
       "\n",
       "    .dataframe tbody tr th {\n",
       "        vertical-align: top;\n",
       "    }\n",
       "\n",
       "    .dataframe thead th {\n",
       "        text-align: right;\n",
       "    }\n",
       "</style>\n",
       "<table border=\"1\" class=\"dataframe\">\n",
       "  <thead>\n",
       "    <tr style=\"text-align: right;\">\n",
       "      <th></th>\n",
       "      <th>missed values geo_data_2</th>\n",
       "    </tr>\n",
       "  </thead>\n",
       "  <tbody>\n",
       "    <tr>\n",
       "      <td>id</td>\n",
       "      <td>0</td>\n",
       "    </tr>\n",
       "    <tr>\n",
       "      <td>f0</td>\n",
       "      <td>0</td>\n",
       "    </tr>\n",
       "    <tr>\n",
       "      <td>f1</td>\n",
       "      <td>0</td>\n",
       "    </tr>\n",
       "    <tr>\n",
       "      <td>f2</td>\n",
       "      <td>0</td>\n",
       "    </tr>\n",
       "    <tr>\n",
       "      <td>product</td>\n",
       "      <td>0</td>\n",
       "    </tr>\n",
       "  </tbody>\n",
       "</table>\n",
       "</div>"
      ],
      "text/plain": [
       "         missed values geo_data_2\n",
       "id                              0\n",
       "f0                              0\n",
       "f1                              0\n",
       "f2                              0\n",
       "product                         0"
      ]
     },
     "metadata": {},
     "output_type": "display_data"
    },
    {
     "name": "stdout",
     "output_type": "stream",
     "text": [
      "\n",
      "Количество дубликатов в столбцах для датасета geo_data_2: 0\n"
     ]
    }
   ],
   "source": [
    "information(dfs)"
   ]
  },
  {
   "cell_type": "markdown",
   "metadata": {},
   "source": [
    "Перед нами датасеты трех регионов с информацией о месторождениях нефти. В данных нет пропусков и полных дубликатов, в каждом датасете по 100000 записей. Изучим информацию об идентификаторах скважин, проверим их на уникальность:"
   ]
  },
  {
   "cell_type": "code",
   "execution_count": 5,
   "metadata": {},
   "outputs": [
    {
     "name": "stdout",
     "output_type": "stream",
     "text": [
      "Число уникальный идентификаторов месторождений для каждого датасета g0-g2: 99990, 99996, 99996\n",
      "Суммарное число уникальных идентификаторов месторождений: 299982\n",
      "Суммарное число уникальных идентификаторов месторождений после склейки трех датасетов: 299951\n"
     ]
    }
   ],
   "source": [
    "num_uniq = [dfs[i]['id'].nunique() for i in dfs]\n",
    "print('Число уникальный идентификаторов месторождений для каждого датасета g0-g2:', end=' ')\n",
    "print(*num_uniq, sep=', ')\n",
    "print('Суммарное число уникальных идентификаторов месторождений:', sum(num_uniq))\n",
    "print('Суммарное число уникальных идентификаторов месторождений после склейки трех датасетов:', \n",
    "      pd.concat([*[dfs[i]['id'] for i in dfs]]).nunique())"
   ]
  },
  {
   "cell_type": "markdown",
   "metadata": {},
   "source": [
    "Судя по всему в данных встречаются дублирующие идентификаторы скважин, но в очень небольшом количестве, суммарно в трех датасетах 18 записей. Так как нет возможности определить, действительно ли это дубликат или ошибка в названии, оставим данные в прежнем виде, поскольку процент записей настолько небольшой, что едва ли это повлияет на дальнейшие выводы."
   ]
  },
  {
   "cell_type": "markdown",
   "metadata": {},
   "source": [
    "---\n",
    "<a id='eda'></a>\n",
    "Подробнее изучим признаки:"
   ]
  },
  {
   "cell_type": "code",
   "execution_count": 6,
   "metadata": {},
   "outputs": [
    {
     "data": {
      "text/html": [
       "<div>\n",
       "<style scoped>\n",
       "    .dataframe tbody tr th:only-of-type {\n",
       "        vertical-align: middle;\n",
       "    }\n",
       "\n",
       "    .dataframe tbody tr th {\n",
       "        vertical-align: top;\n",
       "    }\n",
       "\n",
       "    .dataframe thead th {\n",
       "        text-align: right;\n",
       "    }\n",
       "</style>\n",
       "<table border=\"1\" class=\"dataframe\">\n",
       "  <thead>\n",
       "    <tr style=\"text-align: right;\">\n",
       "      <th></th>\n",
       "      <th>f0</th>\n",
       "      <th>f1</th>\n",
       "      <th>f2</th>\n",
       "      <th>product</th>\n",
       "    </tr>\n",
       "  </thead>\n",
       "  <tbody>\n",
       "    <tr>\n",
       "      <td>count</td>\n",
       "      <td>100000.00</td>\n",
       "      <td>100000.00</td>\n",
       "      <td>100000.00</td>\n",
       "      <td>100000.00</td>\n",
       "    </tr>\n",
       "    <tr>\n",
       "      <td>mean</td>\n",
       "      <td>0.50</td>\n",
       "      <td>0.25</td>\n",
       "      <td>2.50</td>\n",
       "      <td>92.50</td>\n",
       "    </tr>\n",
       "    <tr>\n",
       "      <td>std</td>\n",
       "      <td>0.87</td>\n",
       "      <td>0.50</td>\n",
       "      <td>3.25</td>\n",
       "      <td>44.29</td>\n",
       "    </tr>\n",
       "    <tr>\n",
       "      <td>min</td>\n",
       "      <td>-1.41</td>\n",
       "      <td>-0.85</td>\n",
       "      <td>-12.09</td>\n",
       "      <td>0.00</td>\n",
       "    </tr>\n",
       "    <tr>\n",
       "      <td>25%</td>\n",
       "      <td>-0.07</td>\n",
       "      <td>-0.20</td>\n",
       "      <td>0.29</td>\n",
       "      <td>56.50</td>\n",
       "    </tr>\n",
       "    <tr>\n",
       "      <td>50%</td>\n",
       "      <td>0.50</td>\n",
       "      <td>0.25</td>\n",
       "      <td>2.52</td>\n",
       "      <td>91.85</td>\n",
       "    </tr>\n",
       "    <tr>\n",
       "      <td>75%</td>\n",
       "      <td>1.07</td>\n",
       "      <td>0.70</td>\n",
       "      <td>4.72</td>\n",
       "      <td>128.56</td>\n",
       "    </tr>\n",
       "    <tr>\n",
       "      <td>max</td>\n",
       "      <td>2.36</td>\n",
       "      <td>1.34</td>\n",
       "      <td>16.00</td>\n",
       "      <td>185.36</td>\n",
       "    </tr>\n",
       "  </tbody>\n",
       "</table>\n",
       "</div>"
      ],
      "text/plain": [
       "              f0         f1         f2    product\n",
       "count  100000.00  100000.00  100000.00  100000.00\n",
       "mean        0.50       0.25       2.50      92.50\n",
       "std         0.87       0.50       3.25      44.29\n",
       "min        -1.41      -0.85     -12.09       0.00\n",
       "25%        -0.07      -0.20       0.29      56.50\n",
       "50%         0.50       0.25       2.52      91.85\n",
       "75%         1.07       0.70       4.72     128.56\n",
       "max         2.36       1.34      16.00     185.36"
      ]
     },
     "metadata": {},
     "output_type": "display_data"
    },
    {
     "data": {
      "text/html": [
       "<div>\n",
       "<style scoped>\n",
       "    .dataframe tbody tr th:only-of-type {\n",
       "        vertical-align: middle;\n",
       "    }\n",
       "\n",
       "    .dataframe tbody tr th {\n",
       "        vertical-align: top;\n",
       "    }\n",
       "\n",
       "    .dataframe thead th {\n",
       "        text-align: right;\n",
       "    }\n",
       "</style>\n",
       "<table border=\"1\" class=\"dataframe\">\n",
       "  <thead>\n",
       "    <tr style=\"text-align: right;\">\n",
       "      <th></th>\n",
       "      <th>f0</th>\n",
       "      <th>f1</th>\n",
       "      <th>f2</th>\n",
       "      <th>product</th>\n",
       "    </tr>\n",
       "  </thead>\n",
       "  <tbody>\n",
       "    <tr>\n",
       "      <td>count</td>\n",
       "      <td>100000.00</td>\n",
       "      <td>100000.00</td>\n",
       "      <td>100000.00</td>\n",
       "      <td>100000.00</td>\n",
       "    </tr>\n",
       "    <tr>\n",
       "      <td>mean</td>\n",
       "      <td>1.14</td>\n",
       "      <td>-4.80</td>\n",
       "      <td>2.49</td>\n",
       "      <td>68.83</td>\n",
       "    </tr>\n",
       "    <tr>\n",
       "      <td>std</td>\n",
       "      <td>8.97</td>\n",
       "      <td>5.12</td>\n",
       "      <td>1.70</td>\n",
       "      <td>45.94</td>\n",
       "    </tr>\n",
       "    <tr>\n",
       "      <td>min</td>\n",
       "      <td>-31.61</td>\n",
       "      <td>-26.36</td>\n",
       "      <td>-0.02</td>\n",
       "      <td>0.00</td>\n",
       "    </tr>\n",
       "    <tr>\n",
       "      <td>25%</td>\n",
       "      <td>-6.30</td>\n",
       "      <td>-8.27</td>\n",
       "      <td>1.00</td>\n",
       "      <td>26.95</td>\n",
       "    </tr>\n",
       "    <tr>\n",
       "      <td>50%</td>\n",
       "      <td>1.15</td>\n",
       "      <td>-4.81</td>\n",
       "      <td>2.01</td>\n",
       "      <td>57.09</td>\n",
       "    </tr>\n",
       "    <tr>\n",
       "      <td>75%</td>\n",
       "      <td>8.62</td>\n",
       "      <td>-1.33</td>\n",
       "      <td>4.00</td>\n",
       "      <td>107.81</td>\n",
       "    </tr>\n",
       "    <tr>\n",
       "      <td>max</td>\n",
       "      <td>29.42</td>\n",
       "      <td>18.73</td>\n",
       "      <td>5.02</td>\n",
       "      <td>137.95</td>\n",
       "    </tr>\n",
       "  </tbody>\n",
       "</table>\n",
       "</div>"
      ],
      "text/plain": [
       "              f0         f1         f2    product\n",
       "count  100000.00  100000.00  100000.00  100000.00\n",
       "mean        1.14      -4.80       2.49      68.83\n",
       "std         8.97       5.12       1.70      45.94\n",
       "min       -31.61     -26.36      -0.02       0.00\n",
       "25%        -6.30      -8.27       1.00      26.95\n",
       "50%         1.15      -4.81       2.01      57.09\n",
       "75%         8.62      -1.33       4.00     107.81\n",
       "max        29.42      18.73       5.02     137.95"
      ]
     },
     "metadata": {},
     "output_type": "display_data"
    },
    {
     "data": {
      "text/html": [
       "<div>\n",
       "<style scoped>\n",
       "    .dataframe tbody tr th:only-of-type {\n",
       "        vertical-align: middle;\n",
       "    }\n",
       "\n",
       "    .dataframe tbody tr th {\n",
       "        vertical-align: top;\n",
       "    }\n",
       "\n",
       "    .dataframe thead th {\n",
       "        text-align: right;\n",
       "    }\n",
       "</style>\n",
       "<table border=\"1\" class=\"dataframe\">\n",
       "  <thead>\n",
       "    <tr style=\"text-align: right;\">\n",
       "      <th></th>\n",
       "      <th>f0</th>\n",
       "      <th>f1</th>\n",
       "      <th>f2</th>\n",
       "      <th>product</th>\n",
       "    </tr>\n",
       "  </thead>\n",
       "  <tbody>\n",
       "    <tr>\n",
       "      <td>count</td>\n",
       "      <td>100000.00</td>\n",
       "      <td>100000.00</td>\n",
       "      <td>100000.00</td>\n",
       "      <td>100000.00</td>\n",
       "    </tr>\n",
       "    <tr>\n",
       "      <td>mean</td>\n",
       "      <td>0.00</td>\n",
       "      <td>-0.00</td>\n",
       "      <td>2.50</td>\n",
       "      <td>95.00</td>\n",
       "    </tr>\n",
       "    <tr>\n",
       "      <td>std</td>\n",
       "      <td>1.73</td>\n",
       "      <td>1.73</td>\n",
       "      <td>3.47</td>\n",
       "      <td>44.75</td>\n",
       "    </tr>\n",
       "    <tr>\n",
       "      <td>min</td>\n",
       "      <td>-8.76</td>\n",
       "      <td>-7.08</td>\n",
       "      <td>-11.97</td>\n",
       "      <td>0.00</td>\n",
       "    </tr>\n",
       "    <tr>\n",
       "      <td>25%</td>\n",
       "      <td>-1.16</td>\n",
       "      <td>-1.17</td>\n",
       "      <td>0.13</td>\n",
       "      <td>59.45</td>\n",
       "    </tr>\n",
       "    <tr>\n",
       "      <td>50%</td>\n",
       "      <td>0.01</td>\n",
       "      <td>-0.01</td>\n",
       "      <td>2.48</td>\n",
       "      <td>94.93</td>\n",
       "    </tr>\n",
       "    <tr>\n",
       "      <td>75%</td>\n",
       "      <td>1.16</td>\n",
       "      <td>1.16</td>\n",
       "      <td>4.86</td>\n",
       "      <td>130.60</td>\n",
       "    </tr>\n",
       "    <tr>\n",
       "      <td>max</td>\n",
       "      <td>7.24</td>\n",
       "      <td>7.84</td>\n",
       "      <td>16.74</td>\n",
       "      <td>190.03</td>\n",
       "    </tr>\n",
       "  </tbody>\n",
       "</table>\n",
       "</div>"
      ],
      "text/plain": [
       "              f0         f1         f2    product\n",
       "count  100000.00  100000.00  100000.00  100000.00\n",
       "mean        0.00      -0.00       2.50      95.00\n",
       "std         1.73       1.73       3.47      44.75\n",
       "min        -8.76      -7.08     -11.97       0.00\n",
       "25%        -1.16      -1.17       0.13      59.45\n",
       "50%         0.01      -0.01       2.48      94.93\n",
       "75%         1.16       1.16       4.86     130.60\n",
       "max         7.24       7.84      16.74     190.03"
      ]
     },
     "metadata": {},
     "output_type": "display_data"
    }
   ],
   "source": [
    "for i in dfs.values():\n",
    "    display(i.describe().round(2))"
   ]
  },
  {
   "cell_type": "markdown",
   "metadata": {},
   "source": [
    "Столбцы с признаками `f0`,`f1`,`f2` заранее приведены к масштабу, судя по описательным статистикам. Максимальные значения столбцов `product` различаются не более чем на 32% с 3-им квартилем, что скорее говорит об отсутствии аномальных значений. \n",
    "\n",
    "Посмотрим, как распределены данные в этих столбцах и построим диаграммы размаха для исследования выбросов:"
   ]
  },
  {
   "cell_type": "code",
   "execution_count": 7,
   "metadata": {},
   "outputs": [
    {
     "data": {
      "image/png": "[encoded data removed]",
      "text/plain": [
       "<Figure size 1440x432 with 3 Axes>"
      ]
     },
     "metadata": {},
     "output_type": "display_data"
    },
    {
     "data": {
      "image/png": "[encoded data removed]",
      "text/plain": [
       "<Figure size 1008x432 with 1 Axes>"
      ]
     },
     "metadata": {},
     "output_type": "display_data"
    }
   ],
   "source": [
    "plt.subplots(figsize=(20, 6))\n",
    "for k,i in enumerate(dfs):\n",
    "    if i == 'geo_data_1':\n",
    "        plt.subplot(1,3,k+1)\n",
    "        sns.countplot(g1['product'].astype(int), palette=['C1'])\n",
    "        plt.title('Столбчатая диагрмма по объму запасов нефти для региона g1')\n",
    "        plt.xlabel('values')\n",
    "    else:\n",
    "        bins = int(1 + np.log2(len(dfs[i])))\n",
    "        plt.subplot(1,3,k+1)\n",
    "        plt.hist(dfs[i]['product'], bins=bins, color='C'+str(k), density=True)\n",
    "        plt.xlabel('values')\n",
    "        plt.ylabel('density')\n",
    "        plt.title(f'Гистограмма для региона {i} по столбцу products')\n",
    "plt.show()\n",
    "prods = g0['product'].to_frame(name='g0_product').assign(g1_product = g1['product'], g2_product = g2['product'])\n",
    "plt.figure(figsize=(14,6))\n",
    "sns.boxplot(data=prods)\n",
    "plt.title(('Диаграмма размаха по объему запасов нефти в скважине для каждого региона'))\n",
    "plt.tight_layout()\n",
    "plt.show()"
   ]
  },
  {
   "cell_type": "markdown",
   "metadata": {},
   "source": [
    "Данные в регионах geo_0 и geo_2 визуально имееют форму нормального распределения, в geo_1 данные распределены равномерно. Выбросы в столбцах отсутствуют. \n",
    "\n",
    "Проверим, соответствуют ли они норнмальному распределению при помощи теста Шапиро-Уилка:"
   ]
  },
  {
   "cell_type": "code",
   "execution_count": 8,
   "metadata": {},
   "outputs": [
    {
     "name": "stdout",
     "output_type": "stream",
     "text": [
      "Для столбца product региона geo_data_0 принимаем альтернативную гипотезу, распределение не нормально\n",
      "Для столбца product региона geo_data_1 принимаем альтернативную гипотезу, распределение не нормально\n",
      "Для столбца product региона geo_data_2 принимаем альтернативную гипотезу, распределение не нормально\n"
     ]
    }
   ],
   "source": [
    "a = 0.05\n",
    "for i in dfs:\n",
    "    pvalue = st.shapiro(dfs[i]['product'].sample(5000))[1]\n",
    "    if pvalue > a:\n",
    "        print(f'Для столбца product региона {i} принимаем нулевую гипотезу, распределение соответсвует нормальному')\n",
    "    else:\n",
    "        print(f'Для столбца product региона {i} принимаем альтернативную гипотезу, распределение не нормально')"
   ]
  },
  {
   "cell_type": "markdown",
   "metadata": {},
   "source": [
    "Построим графики взаимной корреляции признаков для трех датасетов:"
   ]
  },
  {
   "cell_type": "code",
   "execution_count": 9,
   "metadata": {},
   "outputs": [
    {
     "data": {
      "image/png": "[encoded data removed]",
      "text/plain": [
       "<Figure size 1224x432 with 6 Axes>"
      ]
     },
     "metadata": {},
     "output_type": "display_data"
    }
   ],
   "source": [
    "plt.subplots(figsize=(17, 6))\n",
    "for k,i in enumerate(dfs):\n",
    "    plt.subplot(1,3,k+1)\n",
    "    ax = sns.heatmap(dfs[i].corr().round(3), annot=True, square=True, linewidths=.5, center=0, vmin=-1, vmax=1,\n",
    "                    cmap=\"YlGnBu_r\")\n",
    "    ax.set_ylim(4, 0)\n",
    "    plt.title(i)\n",
    "#print(ax.get_ylim())\n",
    "plt.tight_layout()\n",
    "plt.show()"
   ]
  },
  {
   "cell_type": "markdown",
   "metadata": {},
   "source": [
    "Интересно то, что в датасете geo_1, данные столбца f2 сильно скоррелированы с целевой переменной, в остальных столбцах нет выраженной корреляции между признаками."
   ]
  },
  {
   "cell_type": "markdown",
   "metadata": {},
   "source": [
    "### Вывод:"
   ]
  },
  {
   "cell_type": "markdown",
   "metadata": {},
   "source": [
    "Всего в каждом датасете по 100000 записей 3 столбца с признаками и целевая переменная с объемом нефти в скважине. Данные с признаками масштабированы, данные целевой переменной не распределены нормально, аномалий, полных дубликатов и пропусков в данных нет. В датасете geo_1, данные столбца f2 сильно скоррелированы с целевой переменной, в остальных столбцах нет выраженной корреляции между признаками."
   ]
  },
  {
   "cell_type": "markdown",
   "metadata": {},
   "source": [
    "---\n",
    "<a id='fit'></a>\n",
    "## 2. Обучение и проверка модели"
   ]
  },
  {
   "cell_type": "markdown",
   "metadata": {},
   "source": [
    "Выделим признаки и целевую переменную:"
   ]
  },
  {
   "cell_type": "code",
   "execution_count": 10,
   "metadata": {},
   "outputs": [],
   "source": [
    "g0_features = g0.drop(['id', 'product'], axis=1)\n",
    "g0_target = g0['product']\n",
    "\n",
    "g1_features = g1.drop(['id', 'product'], axis=1)\n",
    "g1_target = g1['product']\n",
    "\n",
    "g2_features = g2.drop(['id', 'product'], axis=1)\n",
    "g2_target = g2['product']"
   ]
  },
  {
   "cell_type": "markdown",
   "metadata": {},
   "source": [
    "<a id='split'></a>\n",
    "Разобьем выборки на обучающую и валидационную:"
   ]
  },
  {
   "cell_type": "code",
   "execution_count": 11,
   "metadata": {},
   "outputs": [],
   "source": [
    "def splitter(features, target):\n",
    "    features_train, features_valid, target_train, target_valid = train_test_split(\n",
    "        features, target, test_size=0.25, random_state=42)\n",
    "    return features_train, features_valid, target_train, target_valid"
   ]
  },
  {
   "cell_type": "code",
   "execution_count": 12,
   "metadata": {},
   "outputs": [],
   "source": [
    "g0_features_train, g0_features_valid, g0_target_train, g0_target_valid = splitter(g0_features, g0_target)\n",
    "g1_features_train, g1_features_valid, g1_target_train, g1_target_valid = splitter(g1_features, g1_target)\n",
    "g2_features_train, g2_features_valid, g2_target_train, g2_target_valid = splitter(g2_features, g2_target)"
   ]
  },
  {
   "cell_type": "markdown",
   "metadata": {},
   "source": [
    "<a id='predict'></a>\n",
    "Создадим модели линейной регрессии, обучим их на тренировочных выборках и предскажем значения для валидационных:"
   ]
  },
  {
   "cell_type": "code",
   "execution_count": 13,
   "metadata": {},
   "outputs": [],
   "source": [
    "def linear_func(features_train, target_train, features_valid):\n",
    "    linear_model = LinearRegression()\n",
    "    linear_model.fit(features_train, target_train)\n",
    "    return linear_model.predict(features_valid)"
   ]
  },
  {
   "cell_type": "code",
   "execution_count": 14,
   "metadata": {},
   "outputs": [],
   "source": [
    "g0_preds = linear_func(g0_features_train, g0_target_train, g0_features_valid)\n",
    "g1_preds = linear_func(g1_features_train, g1_target_train, g1_features_valid)\n",
    "g2_preds = linear_func(g2_features_train, g2_target_train, g2_features_valid)"
   ]
  },
  {
   "cell_type": "markdown",
   "metadata": {},
   "source": [
    "<a id='metrics'></a>\n",
    "Изучим результаты предсказаний (средний предсказанный запас нефти, метрики RMSE, R2, MAE):"
   ]
  },
  {
   "cell_type": "code",
   "execution_count": 15,
   "metadata": {},
   "outputs": [],
   "source": [
    "def metrics(target, predicted):\n",
    "    rmse = round(mean_squared_error(target, predicted)**.5,2)\n",
    "    rmse_random = round(mean_squared_error(target, pd.Series(target.mean(), range(len(target))))**.5,2)\n",
    "    r2 = round(r2_score(target, predicted),4)\n",
    "    mae = round(mean_absolute_error(target, predicted),2)\n",
    "    real_mean = round(np.mean(target),2)\n",
    "    predicted_mean = round(np.mean(predicted),2)\n",
    "    return rmse, rmse_random, r2, mae, real_mean, predicted_mean\n",
    "\n",
    "def df_builder(values_list, columns_list):\n",
    "    index=['geo_0', 'geo_1', 'geo_2']\n",
    "    dataframe = pd.DataFrame(data=values_list, columns=columns_list, index=index)\n",
    "    return dataframe"
   ]
  },
  {
   "cell_type": "code",
   "execution_count": 16,
   "metadata": {},
   "outputs": [],
   "source": [
    "metrics_data = [*[metrics(g0_target_valid, g0_preds)],\n",
    "                *[metrics(g1_target_valid, g1_preds)],\n",
    "                *[metrics(g2_target_valid, g2_preds)]]\n",
    "metrics_columns = columns=['rmse', 'rmse_constant', 'r2','mae', 'real_mean', 'predicted_mean']"
   ]
  },
  {
   "cell_type": "code",
   "execution_count": 17,
   "metadata": {},
   "outputs": [
    {
     "data": {
      "text/html": [
       "<div>\n",
       "<style scoped>\n",
       "    .dataframe tbody tr th:only-of-type {\n",
       "        vertical-align: middle;\n",
       "    }\n",
       "\n",
       "    .dataframe tbody tr th {\n",
       "        vertical-align: top;\n",
       "    }\n",
       "\n",
       "    .dataframe thead th {\n",
       "        text-align: right;\n",
       "    }\n",
       "</style>\n",
       "<table border=\"1\" class=\"dataframe\">\n",
       "  <thead>\n",
       "    <tr style=\"text-align: right;\">\n",
       "      <th></th>\n",
       "      <th>rmse</th>\n",
       "      <th>rmse_constant</th>\n",
       "      <th>r2</th>\n",
       "      <th>mae</th>\n",
       "      <th>real_mean</th>\n",
       "      <th>predicted_mean</th>\n",
       "    </tr>\n",
       "  </thead>\n",
       "  <tbody>\n",
       "    <tr>\n",
       "      <td>geo_0</td>\n",
       "      <td>37.76</td>\n",
       "      <td>44.28</td>\n",
       "      <td>0.2728</td>\n",
       "      <td>31.05</td>\n",
       "      <td>92.33</td>\n",
       "      <td>92.40</td>\n",
       "    </tr>\n",
       "    <tr>\n",
       "      <td>geo_1</td>\n",
       "      <td>0.89</td>\n",
       "      <td>45.94</td>\n",
       "      <td>0.9996</td>\n",
       "      <td>0.72</td>\n",
       "      <td>68.73</td>\n",
       "      <td>68.71</td>\n",
       "    </tr>\n",
       "    <tr>\n",
       "      <td>geo_2</td>\n",
       "      <td>40.15</td>\n",
       "      <td>44.78</td>\n",
       "      <td>0.1963</td>\n",
       "      <td>32.90</td>\n",
       "      <td>95.15</td>\n",
       "      <td>94.77</td>\n",
       "    </tr>\n",
       "  </tbody>\n",
       "</table>\n",
       "</div>"
      ],
      "text/plain": [
       "        rmse  rmse_constant      r2    mae  real_mean  predicted_mean\n",
       "geo_0  37.76          44.28  0.2728  31.05      92.33           92.40\n",
       "geo_1   0.89          45.94  0.9996   0.72      68.73           68.71\n",
       "geo_2  40.15          44.78  0.1963  32.90      95.15           94.77"
      ]
     },
     "metadata": {},
     "output_type": "display_data"
    }
   ],
   "source": [
    "display(df_builder(metrics_data, metrics_columns))"
   ]
  },
  {
   "cell_type": "markdown",
   "metadata": {},
   "source": [
    "Самые точные предсказания получились для первого региона. Коэффициент детерминации R2 равен 0.9996, корень средний ошибки составляет всего 0.89 тыс. баррелей. Средние предсказанные и реальные значения практически полностью совпадают. Наименее точные предсказания получились для третьего региона. RMSE 40.15, что едва ли ниже RMSE предсказаний константной модели - 44.78, коэффициент детерминации составляет 0.1963. Для первого региона R2 = 0.27, RMSE = 37.76."
   ]
  },
  {
   "cell_type": "markdown",
   "metadata": {},
   "source": [
    "<a id='analysis'></a>\n",
    "### Вывод"
   ]
  },
  {
   "cell_type": "markdown",
   "metadata": {},
   "source": [
    "На этом этапе разбили выборки на тренировочную и валидационную для каждого региона, обучили модели линейной регресии и получили следующие результаты метрик по предсказанным значениям:\n",
    "\n",
    "`Geo_0`:\n",
    "- RMSE: 37.76\n",
    "- MAE: 31.05\n",
    "- R2: 0.2728\n",
    "- Predicted Mean: 92.40\n",
    "\n",
    "`Geo_1`:\n",
    "- RMSE: 0.89\n",
    "- MAE: 0.72\n",
    "- R2: 0.9996\n",
    "- Predicted Mean: 68.71\n",
    "\n",
    "`Geo_2`:\n",
    "- RMSE: 40.15\n",
    "- MAE: 32.90\n",
    "- R2: 0.1963\n",
    "- Predicted Mean: 94.77\n",
    "\n",
    "Самые точные предсказания получились для первого региона, при этом средний объём сырья в скважине в первом регионе самый низкий - 68 тыс. баррелей."
   ]
  },
  {
   "cell_type": "markdown",
   "metadata": {},
   "source": [
    "---\n",
    "<a id='calc'></a>\n",
    "## 3. Подготовка к расчёту прибыли"
   ]
  },
  {
   "cell_type": "markdown",
   "metadata": {},
   "source": [
    "<a id='const'></a>\n",
    "Создадим переменные с ключевыми значениями для расчетов:"
   ]
  },
  {
   "cell_type": "code",
   "execution_count": 18,
   "metadata": {},
   "outputs": [],
   "source": [
    "BUDGET = 10e9\n",
    "REVENUE = 45e4\n",
    "BEST_LEN = 200"
   ]
  },
  {
   "cell_type": "markdown",
   "metadata": {},
   "source": [
    "<a id='capacity'></a>\n",
    "Рассчитаем достаточный объем сырья для безубыточной разработки новой скважины:"
   ]
  },
  {
   "cell_type": "code",
   "execution_count": 19,
   "metadata": {},
   "outputs": [
    {
     "name": "stdout",
     "output_type": "stream",
     "text": [
      "Достаточный объём сырья составляет: 111.11\n"
     ]
    }
   ],
   "source": [
    "capacity = BUDGET / REVENUE / BEST_LEN\n",
    "print(f'Достаточный объём сырья составляет: {round(capacity, 2)}')"
   ]
  },
  {
   "cell_type": "markdown",
   "metadata": {},
   "source": [
    "Сравним полученный объём сырья со средним запасом в каждом регионе:"
   ]
  },
  {
   "cell_type": "code",
   "execution_count": 20,
   "metadata": {},
   "outputs": [],
   "source": [
    "def volume(target, predictions):\n",
    "    df = target.to_frame(name='true_values')\n",
    "    df['predicted_values'] = predictions\n",
    "    pred_mean = int(df['predicted_values'].sort_values(ascending=False).iloc[:200].mean())\n",
    "    real_mean = int(df.sort_values(by='predicted_values', ascending=False).iloc[:200]['true_values'].mean())\n",
    "    return real_mean, pred_mean"
   ]
  },
  {
   "cell_type": "code",
   "execution_count": 21,
   "metadata": {},
   "outputs": [],
   "source": [
    "vol_data = [*[volume(g0_target_valid,g0_preds)],\n",
    "            *[volume(g1_target_valid,g1_preds)],\n",
    "            *[volume(g2_target_valid,g2_preds)]]\n",
    "cols_vol = ['real_mean', 'predicted_mean']"
   ]
  },
  {
   "cell_type": "code",
   "execution_count": 22,
   "metadata": {},
   "outputs": [
    {
     "data": {
      "text/html": [
       "<div>\n",
       "<style scoped>\n",
       "    .dataframe tbody tr th:only-of-type {\n",
       "        vertical-align: middle;\n",
       "    }\n",
       "\n",
       "    .dataframe tbody tr th {\n",
       "        vertical-align: top;\n",
       "    }\n",
       "\n",
       "    .dataframe thead th {\n",
       "        text-align: right;\n",
       "    }\n",
       "</style>\n",
       "<table border=\"1\" class=\"dataframe\">\n",
       "  <thead>\n",
       "    <tr style=\"text-align: right;\">\n",
       "      <th></th>\n",
       "      <th>real_mean</th>\n",
       "      <th>predicted_mean</th>\n",
       "    </tr>\n",
       "  </thead>\n",
       "  <tbody>\n",
       "    <tr>\n",
       "      <td>geo_0</td>\n",
       "      <td>148</td>\n",
       "      <td>154</td>\n",
       "    </tr>\n",
       "    <tr>\n",
       "      <td>geo_1</td>\n",
       "      <td>137</td>\n",
       "      <td>138</td>\n",
       "    </tr>\n",
       "    <tr>\n",
       "      <td>geo_2</td>\n",
       "      <td>139</td>\n",
       "      <td>148</td>\n",
       "    </tr>\n",
       "  </tbody>\n",
       "</table>\n",
       "</div>"
      ],
      "text/plain": [
       "       real_mean  predicted_mean\n",
       "geo_0        148             154\n",
       "geo_1        137             138\n",
       "geo_2        139             148"
      ]
     },
     "metadata": {},
     "output_type": "display_data"
    }
   ],
   "source": [
    "display(df_builder(vol_data,cols_vol))"
   ]
  },
  {
   "cell_type": "markdown",
   "metadata": {},
   "source": [
    "### Вывод:\n",
    "Поскольку средний объем сырья берется из двухста точек, то отсортировав предсказанные значения по убыванию можно посчитать среднее от первых 200 записей и сопоставить их со средними реального объема скважин. Таким образом, средний объём сырья будет достаточным для каждого региона, при выборе лучших 200 скважин. При этом, как было отмечено ранее, наиболее точные предсказания выполнены для первого региона, разница составляет 1 тыс. баррелей, для остальных регионов значения несколько завышены."
   ]
  },
  {
   "cell_type": "markdown",
   "metadata": {},
   "source": [
    "---\n",
    "<a id='revenue'></a>\n",
    "## 4. Расчёт прибыли\n",
    "<a id='wells'></a>\n",
    "Напишем функцию для расчёта прибыли по выбранным скважинам и предсказаниям модели, выберем скважины с максимальными значениями предсказаний."
   ]
  },
  {
   "cell_type": "code",
   "execution_count": 23,
   "metadata": {},
   "outputs": [],
   "source": [
    "def predicted_revenue(predictions):\n",
    "    return int(pd.Series(predictions).sort_values(ascending=False).head(200).sum() * REVENUE - BUDGET)\n",
    "def real_revenue(df):\n",
    "    return int(df.sort_values(by='predicted_values', ascending=False).iloc[:200]['true_values'].sum() \n",
    "               * REVENUE - BUDGET)\n",
    "def calculate_revenue(target, predictions):\n",
    "    df = target.to_frame(name='true_values')\n",
    "    df['predicted_values'] = predictions\n",
    "    error = 1-round(real_revenue(df)/predicted_revenue(predictions),2)\n",
    "    return real_revenue(df), predicted_revenue(predictions), error"
   ]
  },
  {
   "cell_type": "code",
   "execution_count": 24,
   "metadata": {},
   "outputs": [],
   "source": [
    "revenue_data = [*[calculate_revenue(g0_target_valid, g0_preds)], \n",
    "                *[calculate_revenue(g1_target_valid, g1_preds)],\n",
    "                *[calculate_revenue(g2_target_valid, g2_preds)]]\n",
    "columns_revenue = ['real_revenue', 'predicted_revenue','error_ratio']"
   ]
  },
  {
   "cell_type": "code",
   "execution_count": 25,
   "metadata": {},
   "outputs": [
    {
     "data": {
      "text/html": [
       "<div>\n",
       "<style scoped>\n",
       "    .dataframe tbody tr th:only-of-type {\n",
       "        vertical-align: middle;\n",
       "    }\n",
       "\n",
       "    .dataframe tbody tr th {\n",
       "        vertical-align: top;\n",
       "    }\n",
       "\n",
       "    .dataframe thead th {\n",
       "        text-align: right;\n",
       "    }\n",
       "</style>\n",
       "<table border=\"1\" class=\"dataframe\">\n",
       "  <thead>\n",
       "    <tr style=\"text-align: right;\">\n",
       "      <th></th>\n",
       "      <th>real_revenue</th>\n",
       "      <th>predicted_revenue</th>\n",
       "      <th>error_ratio</th>\n",
       "    </tr>\n",
       "  </thead>\n",
       "  <tbody>\n",
       "    <tr>\n",
       "      <td>geo_0</td>\n",
       "      <td>3359141114</td>\n",
       "      <td>3896658479</td>\n",
       "      <td>0.14</td>\n",
       "    </tr>\n",
       "    <tr>\n",
       "      <td>geo_1</td>\n",
       "      <td>2415086696</td>\n",
       "      <td>2486938114</td>\n",
       "      <td>0.03</td>\n",
       "    </tr>\n",
       "    <tr>\n",
       "      <td>geo_2</td>\n",
       "      <td>2598571759</td>\n",
       "      <td>3377981513</td>\n",
       "      <td>0.23</td>\n",
       "    </tr>\n",
       "  </tbody>\n",
       "</table>\n",
       "</div>"
      ],
      "text/plain": [
       "       real_revenue  predicted_revenue  error_ratio\n",
       "geo_0    3359141114         3896658479         0.14\n",
       "geo_1    2415086696         2486938114         0.03\n",
       "geo_2    2598571759         3377981513         0.23"
      ]
     },
     "metadata": {},
     "output_type": "display_data"
    }
   ],
   "source": [
    "display(df_builder(revenue_data, columns_revenue))"
   ]
  },
  {
   "cell_type": "markdown",
   "metadata": {},
   "source": [
    "<a id='volume'></a>\n",
    "### Вывод"
   ]
  },
  {
   "cell_type": "markdown",
   "metadata": {},
   "source": [
    "Таким образом реальная прибыль с каждой региона по предсказанным данным составит:\n",
    "\n",
    "- `Geo_0`: 3 359 141 114\t\n",
    "- `Geo_1`: 2 415 086 696\n",
    "- `Geo_2`: 2 598 571 759\n",
    "\n",
    "Самая большая реальная прибыль получается в регионе `Geo_0`, при этом она на 14% ниже относительно предсказанной прибыли. Реальная прибыль в регионе `Geo_2`, ниже на 23% по сравнению с предсказанными данными. Самая низкая прибыль в регионе `Geo_1`, однако предсказания согласуются лучше всего с реальными данными при незначительных отклонениях."
   ]
  },
  {
   "cell_type": "markdown",
   "metadata": {},
   "source": [
    "---\n",
    "<a id='risk'></a>\n",
    "## 5. Рассчет средней прибыли и рисков для каждого региона:"
   ]
  },
  {
   "cell_type": "markdown",
   "metadata": {},
   "source": [
    "<a id='bootstrap'></a>\n",
    "Используем технику Bootstrap, чтобы найти распределение прибыли. Для этого из 1000 выборок будем извлекать по 500 случайных записей, брать 200 лучших и рассчитывать на них прибыль. После того, как получим все значения прибыли, рассчитаем 95% доверительный интервал и среднюю прибыль:"
   ]
  },
  {
   "cell_type": "code",
   "execution_count": 26,
   "metadata": {},
   "outputs": [],
   "source": [
    "def bootstrap(target, predictions):\n",
    "    state = np.random.RandomState(42)\n",
    "    df = target.to_frame(name='true_values')\n",
    "    df['predicted_values'] = predictions\n",
    "    vals = []\n",
    "    for i in range(1000):\n",
    "        subsample = df.sample(500, replace=True, random_state=state)\n",
    "        vals.append(real_revenue(subsample))\n",
    "    lower = int(np.quantile(vals, 0.025))\n",
    "    upper = int(np.quantile(vals, 0.975))\n",
    "    means = int(np.mean(vals))\n",
    "    prob_risk = len(list(filter(lambda x: x<0, vals))) / len(vals)\n",
    "    return lower, upper, means, prob_risk"
   ]
  },
  {
   "cell_type": "code",
   "execution_count": 27,
   "metadata": {},
   "outputs": [],
   "source": [
    "bootstrap_data = [*[bootstrap(g0_target_valid,g0_preds)],\n",
    "                  *[bootstrap(g1_target_valid,g1_preds)], \n",
    "                  *[bootstrap(g2_target_valid,g2_preds)]]\n",
    "bootstrap_cols = ['lower_2.5%','upper_97.5%','mean','proba_risk']"
   ]
  },
  {
   "cell_type": "code",
   "execution_count": 28,
   "metadata": {
    "scrolled": true
   },
   "outputs": [
    {
     "data": {
      "text/html": [
       "<div>\n",
       "<style scoped>\n",
       "    .dataframe tbody tr th:only-of-type {\n",
       "        vertical-align: middle;\n",
       "    }\n",
       "\n",
       "    .dataframe tbody tr th {\n",
       "        vertical-align: top;\n",
       "    }\n",
       "\n",
       "    .dataframe thead th {\n",
       "        text-align: right;\n",
       "    }\n",
       "</style>\n",
       "<table border=\"1\" class=\"dataframe\">\n",
       "  <thead>\n",
       "    <tr style=\"text-align: right;\">\n",
       "      <th></th>\n",
       "      <th>lower_2.5%</th>\n",
       "      <th>upper_97.5%</th>\n",
       "      <th>mean</th>\n",
       "      <th>proba_risk</th>\n",
       "    </tr>\n",
       "  </thead>\n",
       "  <tbody>\n",
       "    <tr>\n",
       "      <td>geo_0</td>\n",
       "      <td>-110467894</td>\n",
       "      <td>897460327</td>\n",
       "      <td>399575477</td>\n",
       "      <td>0.060</td>\n",
       "    </tr>\n",
       "    <tr>\n",
       "      <td>geo_1</td>\n",
       "      <td>61684479</td>\n",
       "      <td>845340176</td>\n",
       "      <td>452048890</td>\n",
       "      <td>0.015</td>\n",
       "    </tr>\n",
       "    <tr>\n",
       "      <td>geo_2</td>\n",
       "      <td>-144766726</td>\n",
       "      <td>888390402</td>\n",
       "      <td>375009902</td>\n",
       "      <td>0.080</td>\n",
       "    </tr>\n",
       "  </tbody>\n",
       "</table>\n",
       "</div>"
      ],
      "text/plain": [
       "       lower_2.5%  upper_97.5%       mean  proba_risk\n",
       "geo_0  -110467894    897460327  399575477       0.060\n",
       "geo_1    61684479    845340176  452048890       0.015\n",
       "geo_2  -144766726    888390402  375009902       0.080"
      ]
     },
     "metadata": {},
     "output_type": "display_data"
    }
   ],
   "source": [
    "display(df_builder(bootstrap_data, bootstrap_cols))"
   ]
  },
  {
   "cell_type": "markdown",
   "metadata": {},
   "source": [
    "<a id='mean'></a>\n",
    "### Вывод"
   ]
  },
  {
   "cell_type": "markdown",
   "metadata": {},
   "source": [
    "Таким образом, 95% прибыли по предсказанным значениям будет находиться в интервале:\n",
    "\n",
    "- `Geo_0`: -110 млн - 897 млн, средняя прибыль 399 млн\n",
    "- `Geo_1`: 61 млн - 845 млн, срденяя прибыль 452 млн\n",
    "- `Geo_2`: -144 млн 888 млн, средняя прибыль 375 млн\n",
    "\n",
    "При этом, риск убытков составит:\n",
    "- `Geo_0`: 6%\n",
    "- `Geo_1`: 1.5%\n",
    "- `Geo_2`: 8%"
   ]
  },
  {
   "cell_type": "markdown",
   "metadata": {},
   "source": [
    "<a id='output'></a>\n",
    "## Общий вывод"
   ]
  },
  {
   "cell_type": "markdown",
   "metadata": {},
   "source": [
    "Были изучены датасеты с 3-мя регионами с данными о месторождениях нефти, были построены модели линейной регрессии, выполнено их обучение и сделаны предсказания на валидационной выборке. \n",
    "\n",
    "Самые точные предсказания модели линейной регресии получились для первого региона, метрики составили:\n",
    "\n",
    "`Geo_1`:\n",
    "- RMSE: 0.89\n",
    "- R2: 0.9996\n",
    "\n",
    "Для моделей регионов  `Geo_0` и `Geo_2` метрики RMSE составили 37.76 и 40.15, а R2 0.2728 и 0.1963, что в целом говорит о не очень выской точности предсказаний. \n",
    "\n",
    "Был рассчитан достаточный объем сырья для безубыточной разработки новой скважины, он составляет 111.1 тыс. баррелей. \n",
    "Средний объем реальных и предсказанных значений по всей валидационной выборке составляет:\n",
    "`Geo_0`: 92 тыс. баррелей, `Geo_1`: 68 тыс. баррелей `Geo_1`: 95 тыс. баррелей, при этом средний реальный объем для 200 лучших скважин по предсказанным данным составляет 148, 137 и 139 тыс. баррелей. Стоит отметить, что для регионов 0 и 2 средние предсказания немного завышены из-за точности модели.\n",
    "\n",
    "Была рассчитана максимальная реальная прибыль с каждого региона по предсказанным данным из 200 лучших скважин, она составляет:\n",
    "\n",
    "- `Geo_0`: 3 359 141 114\t\n",
    "- `Geo_1`: 2 415 086 696\n",
    "- `Geo_2`: 2 598 571 759\n",
    "\n",
    "При этом предсказания для нулевого и второго региона выше на 14%-23%, для первого региона погрешность составляет 3%.\n",
    "\n",
    "При помощи техники Bootstrap была рассчитана прибыль для каждого региона в 95% доверительном интервале и средняя прибыль с риском убытков:\n",
    "\n",
    "- `Geo_0`: -110 млн - 897 млн, средняя прибыль 399 млн, риск убытков 6%\n",
    "- `Geo_1`: 61 млн - 845 млн, срденяя прибыль 452 млн, риск убытков 1.5%\n",
    "- `Geo_2`: -144 млн 888 млн, средняя прибыль 375 млн, риск убытков 8%\n",
    "\n",
    "На основании анализа всех данных я рекомендую разрабатывать регион `Geo_1`, так как:\n",
    "- Модель линейной регрессии дает максимально точные предсказания, а значит погрешность и риск ошибки будут низкими.\n",
    "- Cредняя прибыль будут выше чем 0-м и 2-м регионах\n",
    "- Риск убытков составляет 1.5%, что ниже порога в 2.5%, для остальных регионов риск убытков выше порога."
   ]
  }
 ],
 "metadata": {
  "kernelspec": {
   "display_name": "Python 3",
   "language": "python",
   "name": "python3"
  },
  "language_info": {
   "codemirror_mode": {
    "name": "ipython",
    "version": 3
   },
   "file_extension": ".py",
   "mimetype": "text/x-python",
   "name": "python",
   "nbconvert_exporter": "python",
   "pygments_lexer": "ipython3",
   "version": "3.7.6"
  }
 },
 "nbformat": 4,
 "nbformat_minor": 2
}
