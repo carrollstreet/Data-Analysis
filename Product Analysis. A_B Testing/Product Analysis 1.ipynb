{
 "cells": [
  {
   "cell_type": "markdown",
   "metadata": {},
   "source": [
    "### Описание проекта\n",
    "Вы работаете в стартапе, который продаёт продукты питания. Нужно разобраться, как ведут себя пользователи вашего мобильного приложения. Для этого необходимо изучить воронку продаж и узнать, как пользователи доходят до покупки; исследовать, сколько пользователей доходит до покупки, а сколько — «застревает» на предыдущих шагах и на каких именно.\n",
    "\n",
    "После этого необходимо исследовать результаты A/B-эксперимента. Дизайнеры захотели поменять шрифты во всём приложении, а менеджеры испугались, что пользователям будет непривычно. Договорились принять решение по результатам A/B-теста. Для него пользователей разбили на 3 группы: 2 контрольные со старыми шрифтами и одну экспериментальную — с новыми. Необходимо выяснить, какой шрифт лучше."
   ]
  },
  {
   "cell_type": "markdown",
   "metadata": {},
   "source": [
    "### Описание данных\n",
    "Каждая запись в логе — это действие пользователя, или событие.\n",
    "- EventName — название события;\n",
    "- DeviceIDHash — уникальный идентификатор пользователя;\n",
    "- EventTimestamp — время события;\n",
    "- ExpId — номер эксперимента: 246 и 247 — контрольные группы, а 248 — экспериментальная."
   ]
  },
  {
   "cell_type": "markdown",
   "metadata": {},
   "source": [
    "### План работы\n",
    "1. **[Экспорт файла и изучение общей информации](#start)**\n",
    "\n",
    "\n",
    "2. **[Подготовка данных](#prep)**\n",
    "    - [Форматирование столбцов](#format)\n",
    "    - [Обработка дубликатов](#dupl)\n",
    "    - [Преобразование дат](#date)\n",
    "    \n",
    "    \n",
    "3. **[Изучение данных](#eda)**\n",
    "     - [Сколько всего событий в логе?](#events)\n",
    "     - [Сколько всего пользователей в логе?](#users)\n",
    "     - [Сколько в среднем событий приходится на пользователя?](#mean)\n",
    "     - [Максимальная и минимальная дата](#minmax)\n",
    "     - [Исследование данных по датам на графиках](#hist)\n",
    "     - [Фильтрация событий и пользователей](#filt)\n",
    "     - [Распределение пользователей по группам](#groups)\n",
    "     \n",
    "     \n",
    "4. **[Изучение воронки событий](#funnel)**\n",
    "    - [Изучение событий в логах, сортировка по частоте](#ev)\n",
    "    - [Изучение поведения пользователей в логах, рассчет доли пользователей](#ratio)\n",
    "    - [На каком шаге теряете больше всего пользователей?](#step)\n",
    "    - [Какая доля пользователей доходит от первого события до оплаты?](#pay)\n",
    "    \n",
    "    \n",
    "5. **[Изучение результатов эксперимента](#exp)**\n",
    "    - [Сколько пользователей в каждой экспериментальной группе?](#us)\n",
    "    - [Формирование общей таблицы по всем группам и исследование конверсии](#cr)\n",
    "    - [Проверка 246 и 247 групп на эквивалентность](#aa)\n",
    "    - [Проверка различий между группами 246 и 248, 247 и 248](#a12b)\n",
    "    - [Проверка статистичеаких различий между группами A и B](#ab)\n",
    "    \n",
    "    \n",
    "6. **[Общий вывод](#result)**"
   ]
  },
  {
   "cell_type": "markdown",
   "metadata": {},
   "source": [
    "## 1. Загрузка данных и изучение общей информации"
   ]
  },
  {
   "cell_type": "code",
   "execution_count": 42,
   "metadata": {
    "ExecuteTime": {
     "end_time": "2020-10-11T18:40:07.008915Z",
     "start_time": "2020-10-11T18:40:07.001119Z"
    }
   },
   "outputs": [],
   "source": [
    "import pandas as pd\n",
    "import matplotlib.pyplot as plt\n",
    "import seaborn as sns\n",
    "sns.set_style('whitegrid')\n",
    "import numpy as np\n",
    "import scipy.stats as st\n",
    "from statsmodels.stats.proportion import proportions_ztest\n",
    "from pandas.plotting import register_matplotlib_converters\n",
    "register_matplotlib_converters()\n",
    "import plotly.express as px\n",
    "import plotly.graph_objects as go\n",
    "plt.rcParams['figure.figsize'] = (15,6)\n",
    "import plotly.io as pio\n",
    "pio.renderers.default = \"svg\""
   ]
  },
  {
   "cell_type": "markdown",
   "metadata": {},
   "source": [
    "<a id='start'></a>"
   ]
  },
  {
   "cell_type": "code",
   "execution_count": 43,
   "metadata": {
    "ExecuteTime": {
     "end_time": "2020-10-11T18:40:07.291917Z",
     "start_time": "2020-10-11T18:40:07.022277Z"
    }
   },
   "outputs": [],
   "source": [
    "df = pd.read_csv('logs_exp.csv')\n",
    "df.drop('Unnamed: 0', axis=1, inplace=True)"
   ]
  },
  {
   "cell_type": "code",
   "execution_count": 44,
   "metadata": {
    "ExecuteTime": {
     "end_time": "2020-10-11T18:40:07.315229Z",
     "start_time": "2020-10-11T18:40:07.297640Z"
    },
    "scrolled": true
   },
   "outputs": [
    {
     "data": {
      "text/html": [
       "<div>\n",
       "<style scoped>\n",
       "    .dataframe tbody tr th:only-of-type {\n",
       "        vertical-align: middle;\n",
       "    }\n",
       "\n",
       "    .dataframe tbody tr th {\n",
       "        vertical-align: top;\n",
       "    }\n",
       "\n",
       "    .dataframe thead th {\n",
       "        text-align: right;\n",
       "    }\n",
       "</style>\n",
       "<table border=\"1\" class=\"dataframe\">\n",
       "  <thead>\n",
       "    <tr style=\"text-align: right;\">\n",
       "      <th></th>\n",
       "      <th>EventName</th>\n",
       "      <th>DeviceIDHash</th>\n",
       "      <th>EventTimestamp</th>\n",
       "      <th>ExpId</th>\n",
       "    </tr>\n",
       "  </thead>\n",
       "  <tbody>\n",
       "    <tr>\n",
       "      <th>0</th>\n",
       "      <td>MainScreenAppear</td>\n",
       "      <td>4575588528974610257</td>\n",
       "      <td>1564029816</td>\n",
       "      <td>246</td>\n",
       "    </tr>\n",
       "    <tr>\n",
       "      <th>1</th>\n",
       "      <td>MainScreenAppear</td>\n",
       "      <td>7416695313311560658</td>\n",
       "      <td>1564053102</td>\n",
       "      <td>246</td>\n",
       "    </tr>\n",
       "    <tr>\n",
       "      <th>2</th>\n",
       "      <td>PaymentScreenSuccessful</td>\n",
       "      <td>3518123091307005509</td>\n",
       "      <td>1564054127</td>\n",
       "      <td>248</td>\n",
       "    </tr>\n",
       "    <tr>\n",
       "      <th>3</th>\n",
       "      <td>CartScreenAppear</td>\n",
       "      <td>3518123091307005509</td>\n",
       "      <td>1564054127</td>\n",
       "      <td>248</td>\n",
       "    </tr>\n",
       "    <tr>\n",
       "      <th>4</th>\n",
       "      <td>PaymentScreenSuccessful</td>\n",
       "      <td>6217807653094995999</td>\n",
       "      <td>1564055322</td>\n",
       "      <td>248</td>\n",
       "    </tr>\n",
       "  </tbody>\n",
       "</table>\n",
       "</div>"
      ],
      "text/plain": [
       "                 EventName         DeviceIDHash  EventTimestamp  ExpId\n",
       "0         MainScreenAppear  4575588528974610257      1564029816    246\n",
       "1         MainScreenAppear  7416695313311560658      1564053102    246\n",
       "2  PaymentScreenSuccessful  3518123091307005509      1564054127    248\n",
       "3         CartScreenAppear  3518123091307005509      1564054127    248\n",
       "4  PaymentScreenSuccessful  6217807653094995999      1564055322    248"
      ]
     },
     "execution_count": 44,
     "metadata": {},
     "output_type": "execute_result"
    }
   ],
   "source": [
    "df.head()"
   ]
  },
  {
   "cell_type": "code",
   "execution_count": 45,
   "metadata": {
    "ExecuteTime": {
     "end_time": "2020-10-11T18:40:07.427131Z",
     "start_time": "2020-10-11T18:40:07.321861Z"
    }
   },
   "outputs": [
    {
     "name": "stdout",
     "output_type": "stream",
     "text": [
      "<class 'pandas.core.frame.DataFrame'>\n",
      "RangeIndex: 244126 entries, 0 to 244125\n",
      "Data columns (total 4 columns):\n",
      " #   Column          Non-Null Count   Dtype \n",
      "---  ------          --------------   ----- \n",
      " 0   EventName       244126 non-null  object\n",
      " 1   DeviceIDHash    244126 non-null  int64 \n",
      " 2   EventTimestamp  244126 non-null  int64 \n",
      " 3   ExpId           244126 non-null  int64 \n",
      "dtypes: int64(3), object(1)\n",
      "memory usage: 7.5+ MB\n"
     ]
    }
   ],
   "source": [
    "df.info()"
   ]
  },
  {
   "cell_type": "markdown",
   "metadata": {},
   "source": [
    "### Вывод:"
   ]
  },
  {
   "cell_type": "markdown",
   "metadata": {},
   "source": [
    "Перед нами датасет с логами о событиях и действиях пользователей. В данных нет пропусков, все столбцы имеют правильный тип данных. Столбец timestamp необходимо привести к типу datetime, чтобы получить дату в привычном формате. Сами названия столбцов так же необходимо отформатировать."
   ]
  },
  {
   "cell_type": "markdown",
   "metadata": {},
   "source": [
    "## 2. Подготовка данных\n",
    "<a id='prep'></a>"
   ]
  },
  {
   "cell_type": "markdown",
   "metadata": {},
   "source": [
    "Отформатируем названия столбцов:\n",
    "<a id='format'></a>"
   ]
  },
  {
   "cell_type": "code",
   "execution_count": 46,
   "metadata": {
    "ExecuteTime": {
     "end_time": "2020-10-11T18:40:07.608316Z",
     "start_time": "2020-10-11T18:40:07.555779Z"
    }
   },
   "outputs": [],
   "source": [
    "df.columns = ['event_name', 'device_id_hash', 'ev_timest', 'exp_id']"
   ]
  },
  {
   "cell_type": "markdown",
   "metadata": {},
   "source": [
    "Проверим данные на наличие дубликатов:\n",
    "<a id='dupl'></a>"
   ]
  },
  {
   "cell_type": "code",
   "execution_count": 47,
   "metadata": {
    "ExecuteTime": {
     "end_time": "2020-10-11T18:40:07.725583Z",
     "start_time": "2020-10-11T18:40:07.641201Z"
    }
   },
   "outputs": [
    {
     "name": "stdout",
     "output_type": "stream",
     "text": [
      "В данных 413 дублированных записей\n"
     ]
    }
   ],
   "source": [
    "print(f'В данных {df.duplicated().sum()} дублированных записей')"
   ]
  },
  {
   "cell_type": "markdown",
   "metadata": {},
   "source": [
    "Очистим данные от дубликатов:"
   ]
  },
  {
   "cell_type": "code",
   "execution_count": 48,
   "metadata": {
    "ExecuteTime": {
     "end_time": "2020-10-11T18:40:07.843894Z",
     "start_time": "2020-10-11T18:40:07.741245Z"
    }
   },
   "outputs": [],
   "source": [
    "df.drop_duplicates(inplace=True)"
   ]
  },
  {
   "cell_type": "markdown",
   "metadata": {},
   "source": [
    "Перевод времени из формата UTC в календарный формат, также отдельно выделим столбец с датой:\n",
    "<a id='date'></a>"
   ]
  },
  {
   "cell_type": "code",
   "execution_count": 49,
   "metadata": {
    "ExecuteTime": {
     "end_time": "2020-10-11T18:40:07.895767Z",
     "start_time": "2020-10-11T18:40:07.866794Z"
    }
   },
   "outputs": [],
   "source": [
    "df['exact_date']= pd.to_datetime(df['ev_timest'], unit='s')\n",
    "df['date'] = df['exact_date'].astype('datetime64[D]')"
   ]
  },
  {
   "cell_type": "markdown",
   "metadata": {},
   "source": [
    "### Вывод:"
   ]
  },
  {
   "cell_type": "markdown",
   "metadata": {},
   "source": [
    "На этом этапе были отформатированы названия столбцов, данные очищены от дубликатов, столбец timestamp переведен в календарный формат, отдельно выделен столбец с датой."
   ]
  },
  {
   "cell_type": "markdown",
   "metadata": {},
   "source": [
    "<a id='eda'></a>\n",
    "## 3.  Исследование данных\n",
    "\n",
    "Ответим на следующие вопросы:"
   ]
  },
  {
   "cell_type": "markdown",
   "metadata": {},
   "source": [
    "<a id='events'></a>\n",
    "- Сколько всего событий в логе?"
   ]
  },
  {
   "cell_type": "code",
   "execution_count": 50,
   "metadata": {
    "ExecuteTime": {
     "end_time": "2020-10-11T18:40:07.913760Z",
     "start_time": "2020-10-11T18:40:07.901254Z"
    },
    "scrolled": true
   },
   "outputs": [
    {
     "name": "stdout",
     "output_type": "stream",
     "text": [
      "Всего в логе 243713 событий\n"
     ]
    }
   ],
   "source": [
    "print(f'Всего в логе {df.shape[0]} событий')"
   ]
  },
  {
   "cell_type": "markdown",
   "metadata": {},
   "source": [
    "<a id='users'></a>\n",
    "- Сколько всего пользователей в логе?"
   ]
  },
  {
   "cell_type": "code",
   "execution_count": 51,
   "metadata": {
    "ExecuteTime": {
     "end_time": "2020-10-11T18:40:07.945619Z",
     "start_time": "2020-10-11T18:40:07.920430Z"
    }
   },
   "outputs": [
    {
     "name": "stdout",
     "output_type": "stream",
     "text": [
      "Всего 7551 пользователей в логе\n"
     ]
    }
   ],
   "source": [
    "print('Всего {} пользователей в логе'.format(df['device_id_hash'].nunique()))"
   ]
  },
  {
   "cell_type": "markdown",
   "metadata": {},
   "source": [
    "<a id='mean'></a>\n",
    "- Сколько в среднем событий приходится на пользователя?"
   ]
  },
  {
   "cell_type": "code",
   "execution_count": 52,
   "metadata": {
    "ExecuteTime": {
     "end_time": "2020-10-11T18:40:07.980169Z",
     "start_time": "2020-10-11T18:40:07.959046Z"
    }
   },
   "outputs": [
    {
     "name": "stdout",
     "output_type": "stream",
     "text": [
      "Среднее число событий на пользователя: 32\n"
     ]
    }
   ],
   "source": [
    "mean_ev_per_user = int(round(df.groupby('device_id_hash')['device_id_hash'].count().mean()))\n",
    "print(f'Среднее число событий на пользователя: {mean_ev_per_user}')"
   ]
  },
  {
   "cell_type": "markdown",
   "metadata": {},
   "source": [
    "<a id='minmax'></a>\n",
    "- Определим, данными за какой период мы располагаем:"
   ]
  },
  {
   "cell_type": "code",
   "execution_count": 53,
   "metadata": {
    "ExecuteTime": {
     "end_time": "2020-10-11T18:40:08.007513Z",
     "start_time": "2020-10-11T18:40:07.983880Z"
    },
    "scrolled": false
   },
   "outputs": [
    {
     "name": "stdout",
     "output_type": "stream",
     "text": [
      "Минимальная дата: 2019-07-25 04:43:36\n",
      "Максимальная дата: 2019-08-07 21:15:17\n"
     ]
    }
   ],
   "source": [
    "print('Минимальная дата:', str(df['exact_date'].min()))\n",
    "print('Максимальная дата:', str(df['exact_date'].max()))"
   ]
  },
  {
   "cell_type": "markdown",
   "metadata": {},
   "source": [
    "Построим столбчатую диаграмму и гистограмму распределения данных в логах по датам:\n",
    "<a id='hist'></a>"
   ]
  },
  {
   "cell_type": "code",
   "execution_count": 54,
   "metadata": {
    "ExecuteTime": {
     "end_time": "2020-10-11T18:40:09.840330Z",
     "start_time": "2020-10-11T18:40:08.029418Z"
    },
    "scrolled": false
   },
   "outputs": [
    {
     "data": {
      "image/png": "[encoded data removed]",
      "text/plain": [
       "<Figure size 1440x432 with 1 Axes>"
      ]
     },
     "metadata": {},
     "output_type": "display_data"
    },
    {
     "data": {
      "image/png": "[encoded data removed]",
      "text/plain": [
       "<Figure size 1440x432 with 1 Axes>"
      ]
     },
     "metadata": {},
     "output_type": "display_data"
    }
   ],
   "source": [
    "plt.figure(figsize=(20, 6))\n",
    "freq = df['date'].value_counts().sort_index().reset_index()\n",
    "ax=sns.barplot(data=freq , x= freq['index'].astype(str), y=freq['date'], color='skyblue')\n",
    "for i in ax.patches:\n",
    "    ax.annotate('{:.0f}'.format(i.get_height()), (i.get_x() + 0.4, i.get_height() + 0.1), ha=\"center\", va='bottom')\n",
    "plt.ylabel('число событий')\n",
    "plt.xlabel('дата')\n",
    "plt.title('Распределение количества событий по датам:')\n",
    "plt.show()\n",
    "plt.figure(figsize=(20, 6))\n",
    "df['exact_date'].hist(bins=200)\n",
    "plt.ylabel('частота событий')\n",
    "plt.xlabel('дата')\n",
    "plt.title('Гистограмма распределения количества событий по датам:')\n",
    "plt.show()"
   ]
  },
  {
   "cell_type": "markdown",
   "metadata": {},
   "source": [
    "На двух графиках видно, что большая часть записей приходится на даты c 1го по 7е августа. Удалим все записи из  датасета до 1го августа, посчитаем количество удаленных данных:\n",
    "<a id='filt'></a>"
   ]
  },
  {
   "cell_type": "code",
   "execution_count": 55,
   "metadata": {
    "ExecuteTime": {
     "end_time": "2020-10-11T18:40:09.870675Z",
     "start_time": "2020-10-11T18:40:09.852635Z"
    },
    "scrolled": false
   },
   "outputs": [
    {
     "name": "stdout",
     "output_type": "stream",
     "text": [
      "Будут удалены данные с 2019-07-25 по 2019-07-31 включительно\n"
     ]
    }
   ],
   "source": [
    "dates_to_filt = list(freq[freq['date'] < freq['date'].quantile(.50)]['index'])\n",
    "print(f'Будут удалены данные с {(min(dates_to_filt)).strftime(\"%Y-%m-%d\")} по \\\n",
    "{(max(dates_to_filt).strftime(\"%Y-%m-%d\"))} включительно')"
   ]
  },
  {
   "cell_type": "markdown",
   "metadata": {},
   "source": [
    "Посмотрим, сколько пользователей и событий было потеряно при фильтрации старых событий:\n"
   ]
  },
  {
   "cell_type": "code",
   "execution_count": 56,
   "metadata": {
    "ExecuteTime": {
     "end_time": "2020-10-11T18:40:09.908682Z",
     "start_time": "2020-10-11T18:40:09.889422Z"
    }
   },
   "outputs": [
    {
     "name": "stdout",
     "output_type": "stream",
     "text": [
      "Число отброшенных данных: 2826\n",
      "Доля отброшенных данных от общего числа в датафрейме: 1.2%\n"
     ]
    }
   ],
   "source": [
    "print('Число отброшенных данных:', df[df['date'].isin(dates_to_filt)].shape[0])\n",
    "print('Доля отброшенных данных от общего числа в датафрейме: {:.1%}'\\\n",
    "      .format(df[df['date'].isin(dates_to_filt)].shape[0] / df.shape[0]))"
   ]
  },
  {
   "cell_type": "code",
   "execution_count": 57,
   "metadata": {
    "ExecuteTime": {
     "end_time": "2020-10-11T18:40:10.034510Z",
     "start_time": "2020-10-11T18:40:10.003031Z"
    },
    "scrolled": true
   },
   "outputs": [
    {
     "name": "stdout",
     "output_type": "stream",
     "text": [
      "Число потерянных пользователей: 17\n"
     ]
    }
   ],
   "source": [
    "new_users = df[~df['date'].isin(dates_to_filt)]['device_id_hash'].nunique()\n",
    "deleted_users = df['device_id_hash'].nunique() - new_users\n",
    "print('Число потерянных пользователей:',  deleted_users)"
   ]
  },
  {
   "cell_type": "markdown",
   "metadata": {},
   "source": [
    "Перед фильтацией добавим столбец с объедененными контрольными группами:"
   ]
  },
  {
   "cell_type": "code",
   "execution_count": 58,
   "metadata": {
    "ExecuteTime": {
     "end_time": "2020-10-11T18:40:10.213865Z",
     "start_time": "2020-10-11T18:40:10.084916Z"
    }
   },
   "outputs": [],
   "source": [
    "for i in df['exp_id'].unique():\n",
    "    if i == 248:\n",
    "        df.loc[df['exp_id'] == i, 'groups'] = 'B'\n",
    "    else:\n",
    "        df.loc[df['exp_id'] == i, 'groups'] = 'A'"
   ]
  },
  {
   "cell_type": "markdown",
   "metadata": {},
   "source": [
    "Отфильтруем данные и посмотрим, как распределены пользователи из трех групп:\n",
    "<a id='groups'></a>"
   ]
  },
  {
   "cell_type": "code",
   "execution_count": 59,
   "metadata": {
    "ExecuteTime": {
     "end_time": "2020-10-11T18:40:10.317132Z",
     "start_time": "2020-10-11T18:40:10.225688Z"
    },
    "scrolled": false
   },
   "outputs": [
    {
     "data": {
      "text/html": [
       "<div>\n",
       "<style scoped>\n",
       "    .dataframe tbody tr th:only-of-type {\n",
       "        vertical-align: middle;\n",
       "    }\n",
       "\n",
       "    .dataframe tbody tr th {\n",
       "        vertical-align: top;\n",
       "    }\n",
       "\n",
       "    .dataframe thead th {\n",
       "        text-align: right;\n",
       "    }\n",
       "</style>\n",
       "<table border=\"1\" class=\"dataframe\">\n",
       "  <thead>\n",
       "    <tr style=\"text-align: right;\">\n",
       "      <th></th>\n",
       "      <th>count</th>\n",
       "      <th>ratio</th>\n",
       "    </tr>\n",
       "    <tr>\n",
       "      <th>group</th>\n",
       "      <th></th>\n",
       "      <th></th>\n",
       "    </tr>\n",
       "  </thead>\n",
       "  <tbody>\n",
       "    <tr>\n",
       "      <th>246</th>\n",
       "      <td>2484</td>\n",
       "      <td>32.97%</td>\n",
       "    </tr>\n",
       "    <tr>\n",
       "      <th>247</th>\n",
       "      <td>2513</td>\n",
       "      <td>33.36%</td>\n",
       "    </tr>\n",
       "    <tr>\n",
       "      <th>248</th>\n",
       "      <td>2537</td>\n",
       "      <td>33.67%</td>\n",
       "    </tr>\n",
       "  </tbody>\n",
       "</table>\n",
       "</div>"
      ],
      "text/plain": [
       "       count   ratio\n",
       "group               \n",
       "246     2484  32.97%\n",
       "247     2513  33.36%\n",
       "248     2537  33.67%"
      ]
     },
     "execution_count": 59,
     "metadata": {},
     "output_type": "execute_result"
    }
   ],
   "source": [
    "def formatter(x):\n",
    "    return '{:.1%}'.format(x)\n",
    "filt_df = df[~df['date'].isin(dates_to_filt)] \n",
    "groups = filt_df.groupby('exp_id').agg({'device_id_hash':'nunique'})\\\n",
    "    .assign(ratio = lambda x: (x['device_id_hash'] / x['device_id_hash'].sum()).apply(lambda x: '{:.2%}'.format(x)))\n",
    "groups.index.name, groups.columns = 'group', ['count', 'ratio']\n",
    "groups"
   ]
  },
  {
   "cell_type": "markdown",
   "metadata": {},
   "source": [
    "Пользователи присутствуют во всех трех группах, после фильтрации количество пользователей в трех группах различается в пределах 1%"
   ]
  },
  {
   "cell_type": "markdown",
   "metadata": {},
   "source": [
    "### Вывод:"
   ]
  },
  {
   "cell_type": "markdown",
   "metadata": {},
   "source": [
    "На этом этапе исследовали число событий в логе (243713), число пользователей в логе (7551) и среднее число событий на пользователя (32). Также определили, что располагаем данными за период с 1-го по 7е августа. Данные отфильтровали, было отброшено 1.2% значений датасета, 17 уникальных пользователей. После фильтрации количество пользователей в трех группах различается не более, чем на 1%."
   ]
  },
  {
   "cell_type": "markdown",
   "metadata": {},
   "source": [
    "## 4. Изучение воронки событий\n",
    "<a id='funnel'></a>"
   ]
  },
  {
   "cell_type": "markdown",
   "metadata": {},
   "source": [
    "<a id='ev'></a>\n",
    "Посмотрим, какие события есть в логах, как часто они встречаются. Отсортируем события по частоте:"
   ]
  },
  {
   "cell_type": "code",
   "execution_count": 60,
   "metadata": {
    "ExecuteTime": {
     "end_time": "2020-10-11T18:40:10.431744Z",
     "start_time": "2020-10-11T18:40:10.330141Z"
    },
    "scrolled": true
   },
   "outputs": [
    {
     "data": {
      "text/html": [
       "<div>\n",
       "<style scoped>\n",
       "    .dataframe tbody tr th:only-of-type {\n",
       "        vertical-align: middle;\n",
       "    }\n",
       "\n",
       "    .dataframe tbody tr th {\n",
       "        vertical-align: top;\n",
       "    }\n",
       "\n",
       "    .dataframe thead th {\n",
       "        text-align: right;\n",
       "    }\n",
       "</style>\n",
       "<table border=\"1\" class=\"dataframe\">\n",
       "  <thead>\n",
       "    <tr style=\"text-align: right;\">\n",
       "      <th></th>\n",
       "      <th>count</th>\n",
       "      <th>ratio</th>\n",
       "      <th>cr_initial</th>\n",
       "      <th>cr_prev</th>\n",
       "    </tr>\n",
       "    <tr>\n",
       "      <th>event_name</th>\n",
       "      <th></th>\n",
       "      <th></th>\n",
       "      <th></th>\n",
       "      <th></th>\n",
       "    </tr>\n",
       "  </thead>\n",
       "  <tbody>\n",
       "    <tr>\n",
       "      <th>MainScreenAppear</th>\n",
       "      <td>117328</td>\n",
       "      <td>48.7%</td>\n",
       "      <td>100.0%</td>\n",
       "      <td>100.0%</td>\n",
       "    </tr>\n",
       "    <tr>\n",
       "      <th>OffersScreenAppear</th>\n",
       "      <td>46333</td>\n",
       "      <td>19.2%</td>\n",
       "      <td>39.5%</td>\n",
       "      <td>39.5%</td>\n",
       "    </tr>\n",
       "    <tr>\n",
       "      <th>CartScreenAppear</th>\n",
       "      <td>42303</td>\n",
       "      <td>17.6%</td>\n",
       "      <td>36.1%</td>\n",
       "      <td>91.3%</td>\n",
       "    </tr>\n",
       "    <tr>\n",
       "      <th>PaymentScreenSuccessful</th>\n",
       "      <td>33918</td>\n",
       "      <td>14.1%</td>\n",
       "      <td>28.9%</td>\n",
       "      <td>80.2%</td>\n",
       "    </tr>\n",
       "    <tr>\n",
       "      <th>Tutorial</th>\n",
       "      <td>1005</td>\n",
       "      <td>0.4%</td>\n",
       "      <td>0.9%</td>\n",
       "      <td>3.0%</td>\n",
       "    </tr>\n",
       "  </tbody>\n",
       "</table>\n",
       "</div>"
      ],
      "text/plain": [
       "                          count  ratio cr_initial cr_prev\n",
       "event_name                                               \n",
       "MainScreenAppear         117328  48.7%     100.0%  100.0%\n",
       "OffersScreenAppear        46333  19.2%      39.5%   39.5%\n",
       "CartScreenAppear          42303  17.6%      36.1%   91.3%\n",
       "PaymentScreenSuccessful   33918  14.1%      28.9%   80.2%\n",
       "Tutorial                   1005   0.4%       0.9%    3.0%"
      ]
     },
     "metadata": {},
     "output_type": "display_data"
    }
   ],
   "source": [
    "def events_df(query):\n",
    "    ev = query['event_name'].value_counts().reset_index()\\\n",
    "    .merge(query['event_name'].value_counts(normalize=True).reset_index(), on='index')\n",
    "    ev.columns = ['event_name', 'count', 'ratio']\n",
    "    ev = ev.assign(ratio = lambda x: x['ratio'].apply(formatter),\n",
    "                   cr_initial = lambda x: x['count'].apply(lambda x: '{:.1%}'.format(x / ev['count'].max())),\n",
    "                    cr_prev = lambda x: (x['count'].pct_change()+1).fillna(value=1).apply(formatter))\n",
    "\n",
    "    return ev\n",
    "display(events_df(filt_df).set_index('event_name'))"
   ]
  },
  {
   "cell_type": "markdown",
   "metadata": {},
   "source": [
    "- count - число записей на каждое событие\n",
    "- ratio - процентное соотношение количество записей на каждом событии\n",
    "- cr_initial - конверсия числа событий на каждом этапе от MainScreenAppear\n",
    "- cr_prev - конверсия числа записей на каждом шаге от предыдущего шага"
   ]
  },
  {
   "cell_type": "markdown",
   "metadata": {},
   "source": [
    "Исходя из полученных данных, по числу действий можно установить порядок событий: MainScreenAppear -> OffersScreenAppear -> CartScreenAppear -> PaymentScreenSuccessful. 14% всех событий - успешная оплата, это 28.9% конверсии от общего числа событий. Также можно отметить, что события не выстраиваются в последовательную цепочку, поскольку наличие Tutorial последним событием нелогично. Скорее всего небольшое число пользователей на одном из первых этапов решает воспользоваться обучением. Отфильтруем датасет по этому событию и визуализируем данные:"
   ]
  },
  {
   "cell_type": "code",
   "execution_count": 61,
   "metadata": {
    "ExecuteTime": {
     "end_time": "2020-10-11T18:40:10.544084Z",
     "start_time": "2020-10-11T18:40:10.436683Z"
    }
   },
   "outputs": [
    {
     "data": {
      "text/html": [
       "<div>\n",
       "<style scoped>\n",
       "    .dataframe tbody tr th:only-of-type {\n",
       "        vertical-align: middle;\n",
       "    }\n",
       "\n",
       "    .dataframe tbody tr th {\n",
       "        vertical-align: top;\n",
       "    }\n",
       "\n",
       "    .dataframe thead th {\n",
       "        text-align: right;\n",
       "    }\n",
       "</style>\n",
       "<table border=\"1\" class=\"dataframe\">\n",
       "  <thead>\n",
       "    <tr style=\"text-align: right;\">\n",
       "      <th></th>\n",
       "      <th>count</th>\n",
       "      <th>ratio</th>\n",
       "      <th>cr_initial</th>\n",
       "      <th>cr_prev</th>\n",
       "    </tr>\n",
       "    <tr>\n",
       "      <th>event_name</th>\n",
       "      <th></th>\n",
       "      <th></th>\n",
       "      <th></th>\n",
       "      <th></th>\n",
       "    </tr>\n",
       "  </thead>\n",
       "  <tbody>\n",
       "    <tr>\n",
       "      <th>MainScreenAppear</th>\n",
       "      <td>117328</td>\n",
       "      <td>48.9%</td>\n",
       "      <td>100.0%</td>\n",
       "      <td>100.0%</td>\n",
       "    </tr>\n",
       "    <tr>\n",
       "      <th>OffersScreenAppear</th>\n",
       "      <td>46333</td>\n",
       "      <td>19.3%</td>\n",
       "      <td>39.5%</td>\n",
       "      <td>39.5%</td>\n",
       "    </tr>\n",
       "    <tr>\n",
       "      <th>CartScreenAppear</th>\n",
       "      <td>42303</td>\n",
       "      <td>17.6%</td>\n",
       "      <td>36.1%</td>\n",
       "      <td>91.3%</td>\n",
       "    </tr>\n",
       "    <tr>\n",
       "      <th>PaymentScreenSuccessful</th>\n",
       "      <td>33918</td>\n",
       "      <td>14.1%</td>\n",
       "      <td>28.9%</td>\n",
       "      <td>80.2%</td>\n",
       "    </tr>\n",
       "  </tbody>\n",
       "</table>\n",
       "</div>"
      ],
      "text/plain": [
       "                          count  ratio cr_initial cr_prev\n",
       "event_name                                               \n",
       "MainScreenAppear         117328  48.9%     100.0%  100.0%\n",
       "OffersScreenAppear        46333  19.3%      39.5%   39.5%\n",
       "CartScreenAppear          42303  17.6%      36.1%   91.3%\n",
       "PaymentScreenSuccessful   33918  14.1%      28.9%   80.2%"
      ]
     },
     "metadata": {},
     "output_type": "display_data"
    }
   ],
   "source": [
    "display(events_df(filt_df.query('event_name not in \"Tutorial\"')).set_index('event_name'))"
   ]
  },
  {
   "cell_type": "code",
   "execution_count": 62,
   "metadata": {
    "ExecuteTime": {
     "end_time": "2020-10-11T18:40:10.965042Z",
     "start_time": "2020-10-11T18:40:10.554553Z"
    },
    "scrolled": false
   },
   "outputs": [
    {
     "data": {
      "image/svg+xml": [
       "<svg class=\"main-svg\" xmlns=\"http://www.w3.org/2000/svg\" xmlns:xlink=\"http://www.w3.org/1999/xlink\" width=\"700\" height=\"450\" style=\"\" viewBox=\"0 0 700 450\"><rect x=\"0\" y=\"0\" width=\"700\" height=\"450\" style=\"fill: rgb(255, 255, 255); fill-opacity: 1;\"/><defs id=\"defs-f2bdfa\"><g class=\"clips\"><clipPath id=\"clipf2bdfaxyplot\" class=\"plotclip\"><rect width=\"450\" height=\"270\"/></clipPath><clipPath class=\"axesclip\" id=\"clipf2bdfax\"><rect x=\"170\" y=\"0\" width=\"450\" height=\"450\"/></clipPath><clipPath class=\"axesclip\" id=\"clipf2bdfay\"><rect x=\"0\" y=\"100\" width=\"700\" height=\"270\"/></clipPath><clipPath class=\"axesclip\" id=\"clipf2bdfaxy\"><rect x=\"170\" y=\"100\" width=\"450\" height=\"270\"/></clipPath></g><g class=\"gradients\"/></defs><g class=\"bglayer\"><rect class=\"bg\" x=\"170\" y=\"100\" width=\"450\" height=\"270\" style=\"fill: rgb(229, 236, 246); fill-opacity: 1; stroke-width: 0;\"/></g><g class=\"layer-below\"><g class=\"imagelayer\"/><g class=\"shapelayer\"/></g><g class=\"cartesianlayer\"><g class=\"subplot xy\"><g class=\"layer-subplot\"><g class=\"shapelayer\"/><g class=\"imagelayer\"/></g><g class=\"gridlayer\"><g class=\"x\"/><g class=\"y\"/></g><g class=\"zerolinelayer\"/><path class=\"xlines-below\"/><path class=\"ylines-below\"/><g class=\"overlines-below\"/><g class=\"xaxislayer-below\"/><g class=\"yaxislayer-below\"/><g class=\"overaxes-below\"/><g class=\"plot\" transform=\"translate(170, 100)\" clip-path=\"url('#clipf2bdfaxyplot')\"><g class=\"funnellayer mlayer\"><g class=\"trace bars\" style=\"opacity: 1;\"><g class=\"regions\"><g class=\"region\"><path d=\"M22.5,60.75L145.03,74.25H304.97L427.5,60.75Z\" style=\"stroke-width: 0; fill: rgb(99, 110, 250); fill-opacity: 0.5;\"/></g><g class=\"region\"><path d=\"M145.03,128.25L151.99,141.75H298.01L304.97,128.25Z\" style=\"stroke-width: 0; fill: rgb(99, 110, 250); fill-opacity: 0.5;\"/></g><g class=\"region\"><path d=\"M151.99,195.75L166.46,209.25H283.54L298.01,195.75Z\" style=\"stroke-width: 0; fill: rgb(99, 110, 250); fill-opacity: 0.5;\"/></g><g class=\"region\"><path d=\"M0,0Z\" style=\"stroke-width: 0; fill: rgb(99, 110, 250); fill-opacity: 0.5;\"/></g></g><g class=\"points\"><g class=\"point\"><path d=\"M22.5,6.75V60.75H427.5V6.75Z\" style=\"vector-effect: non-scaling-stroke; fill: rgb(99, 110, 250); fill-opacity: 1; stroke: rgb(68, 68, 68); stroke-opacity: 1; stroke-width: 0px; opacity: 1;\"/><text class=\"bartext bartext-inside\" text-anchor=\"middle\" data-notex=\"1\" x=\"0\" y=\"0\" style=\"font-family: 'Open Sans', verdana, arial, sans-serif; font-size: 12px; fill: rgb(255, 255, 255); fill-opacity: 1; white-space: pre;\" transform=\"translate(225,30.6953125)\"><tspan class=\"line\" dy=\"0em\" x=\"0\" y=\"0\">117.328k</tspan><tspan class=\"line\" dy=\"1.3em\" x=\"0\" y=\"0\">100%</tspan></text></g><g class=\"point\"><path d=\"M145.03,74.25V128.25H304.97V74.25Z\" style=\"vector-effect: non-scaling-stroke; fill: rgb(99, 110, 250); fill-opacity: 1; stroke: rgb(68, 68, 68); stroke-opacity: 1; stroke-width: 0px; opacity: 1;\"/><text class=\"bartext bartext-inside\" text-anchor=\"middle\" data-notex=\"1\" x=\"0\" y=\"0\" style=\"font-family: 'Open Sans', verdana, arial, sans-serif; font-size: 12px; fill: rgb(255, 255, 255); fill-opacity: 1; white-space: pre;\" transform=\"translate(225,98.1953125)\"><tspan class=\"line\" dy=\"0em\" x=\"0\" y=\"0\">46.333k</tspan><tspan class=\"line\" dy=\"1.3em\" x=\"0\" y=\"0\">39%</tspan></text></g><g class=\"point\"><path d=\"M151.99,141.75V195.75H298.01V141.75Z\" style=\"vector-effect: non-scaling-stroke; fill: rgb(99, 110, 250); fill-opacity: 1; stroke: rgb(68, 68, 68); stroke-opacity: 1; stroke-width: 0px; opacity: 1;\"/><text class=\"bartext bartext-inside\" text-anchor=\"middle\" data-notex=\"1\" x=\"0\" y=\"0\" style=\"font-family: 'Open Sans', verdana, arial, sans-serif; font-size: 12px; fill: rgb(255, 255, 255); fill-opacity: 1; white-space: pre;\" transform=\"translate(225,165.6953125)\"><tspan class=\"line\" dy=\"0em\" x=\"0\" y=\"0\">42.303k</tspan><tspan class=\"line\" dy=\"1.3em\" x=\"0\" y=\"0\">36%</tspan></text></g><g class=\"point\"><path d=\"M166.46,209.25V263.25H283.54V209.25Z\" style=\"vector-effect: non-scaling-stroke; fill: rgb(99, 110, 250); fill-opacity: 1; stroke: rgb(68, 68, 68); stroke-opacity: 1; stroke-width: 0px; opacity: 1;\"/><text class=\"bartext bartext-inside\" text-anchor=\"middle\" data-notex=\"1\" x=\"0\" y=\"0\" style=\"font-family: 'Open Sans', verdana, arial, sans-serif; font-size: 12px; fill: rgb(255, 255, 255); fill-opacity: 1; white-space: pre;\" transform=\"translate(225,233.1953125)\"><tspan class=\"line\" dy=\"0em\" x=\"0\" y=\"0\">33.918k</tspan><tspan class=\"line\" dy=\"1.3em\" x=\"0\" y=\"0\">29%</tspan></text></g></g></g></g></g><g class=\"overplot\"/><path class=\"xlines-above crisp\" d=\"M0,0\" style=\"fill: none;\"/><path class=\"ylines-above crisp\" d=\"M0,0\" style=\"fill: none;\"/><g class=\"overlines-above\"/><g class=\"xaxislayer-above\"/><g class=\"yaxislayer-above\"><g class=\"ytick\"><text text-anchor=\"end\" x=\"169\" y=\"4.199999999999999\" transform=\"translate(0,336.25)\" style=\"font-family: 'Open Sans', verdana, arial, sans-serif; font-size: 12px; fill: rgb(42, 63, 95); fill-opacity: 1; white-space: pre;\">PaymentScreenSuccessful</text></g><g class=\"ytick\"><text text-anchor=\"end\" x=\"169\" y=\"4.199999999999999\" transform=\"translate(0,268.75)\" style=\"font-family: 'Open Sans', verdana, arial, sans-serif; font-size: 12px; fill: rgb(42, 63, 95); fill-opacity: 1; white-space: pre;\">CartScreenAppear</text></g><g class=\"ytick\"><text text-anchor=\"end\" x=\"169\" y=\"4.199999999999999\" transform=\"translate(0,201.25)\" style=\"font-family: 'Open Sans', verdana, arial, sans-serif; font-size: 12px; fill: rgb(42, 63, 95); fill-opacity: 1; white-space: pre;\">OffersScreenAppear</text></g><g class=\"ytick\"><text text-anchor=\"end\" x=\"169\" y=\"4.199999999999999\" transform=\"translate(0,133.75)\" style=\"font-family: 'Open Sans', verdana, arial, sans-serif; font-size: 12px; fill: rgb(42, 63, 95); fill-opacity: 1; white-space: pre;\">MainScreenAppear</text></g></g><g class=\"overaxes-above\"/></g></g><g class=\"polarlayer\"/><g class=\"ternarylayer\"/><g class=\"geolayer\"/><g class=\"funnelarealayer\"/><g class=\"pielayer\"/><g class=\"treemaplayer\"/><g class=\"sunburstlayer\"/><g class=\"glimages\"/><defs id=\"topdefs-f2bdfa\"><g class=\"clips\"/></defs><g class=\"layer-above\"><g class=\"imagelayer\"/><g class=\"shapelayer\"/></g><g class=\"infolayer\"><g class=\"g-gtitle\"><text class=\"gtitle\" x=\"385.00000000000006\" y=\"50\" text-anchor=\"middle\" dy=\"0em\" style=\"font-family: 'Open Sans', verdana, arial, sans-serif; font-size: 17px; fill: rgb(42, 63, 95); opacity: 1; font-weight: normal; white-space: pre;\">Воронка распределения событий по этапам</text></g><g class=\"g-ytitle\"/></g></svg>"
      ]
     },
     "metadata": {},
     "output_type": "display_data"
    }
   ],
   "source": [
    "def funnel(frame, title):\n",
    "    data = frame\n",
    "    fig = go.Figure(go.Funnel(\n",
    "         x=data['count'],\n",
    "         y=data['event_name'], textinfo = \"value+percent initial\"))\n",
    "    fig.update_layout(\n",
    "        title={\n",
    "            'text': title,\n",
    "            'x':0.55})\n",
    "    fig.show()\n",
    "funnel(events_df(filt_df.query('event_name not in \"Tutorial\"')),  \"Воронка распределения событий по этапам\")"
   ]
  },
  {
   "cell_type": "markdown",
   "metadata": {},
   "source": [
    "Посчитаем, сколько пользователей совершали каждое из этих событий. Отсортируем события по числу пользователей и посчитаем долю пользователей, которые хоть раз совершали событие:\n",
    "<a id='ratio'></a>"
   ]
  },
  {
   "cell_type": "code",
   "execution_count": 63,
   "metadata": {
    "ExecuteTime": {
     "end_time": "2020-10-11T18:40:10.986906Z",
     "start_time": "2020-10-11T18:40:10.976266Z"
    }
   },
   "outputs": [],
   "source": [
    "def un_users(query):\n",
    "    uniq_users = query.groupby('event_name').agg({'device_id_hash':'nunique'})\\\n",
    "    .sort_values(by='device_id_hash',ascending=False)\\\n",
    "    .assign(cr_initial = lambda x: (x['device_id_hash'] / x['device_id_hash'].max()).map(formatter),\n",
    "            cr_prev = lambda x: (x['device_id_hash'].pct_change()+1).fillna(value=1).apply(formatter))\\\n",
    "    .rename(columns={'device_id_hash': 'count'})\n",
    "    return uniq_users"
   ]
  },
  {
   "cell_type": "code",
   "execution_count": 64,
   "metadata": {
    "ExecuteTime": {
     "end_time": "2020-10-11T18:40:11.099946Z",
     "start_time": "2020-10-11T18:40:10.997610Z"
    },
    "scrolled": true
   },
   "outputs": [
    {
     "data": {
      "text/html": [
       "<div>\n",
       "<style scoped>\n",
       "    .dataframe tbody tr th:only-of-type {\n",
       "        vertical-align: middle;\n",
       "    }\n",
       "\n",
       "    .dataframe tbody tr th {\n",
       "        vertical-align: top;\n",
       "    }\n",
       "\n",
       "    .dataframe thead th {\n",
       "        text-align: right;\n",
       "    }\n",
       "</style>\n",
       "<table border=\"1\" class=\"dataframe\">\n",
       "  <thead>\n",
       "    <tr style=\"text-align: right;\">\n",
       "      <th></th>\n",
       "      <th>count</th>\n",
       "      <th>cr_initial</th>\n",
       "      <th>cr_prev</th>\n",
       "      <th>cr_total</th>\n",
       "    </tr>\n",
       "    <tr>\n",
       "      <th>event_name</th>\n",
       "      <th></th>\n",
       "      <th></th>\n",
       "      <th></th>\n",
       "      <th></th>\n",
       "    </tr>\n",
       "  </thead>\n",
       "  <tbody>\n",
       "    <tr>\n",
       "      <th>MainScreenAppear</th>\n",
       "      <td>7419</td>\n",
       "      <td>100.0%</td>\n",
       "      <td>100.0%</td>\n",
       "      <td>98.5%</td>\n",
       "    </tr>\n",
       "    <tr>\n",
       "      <th>OffersScreenAppear</th>\n",
       "      <td>4593</td>\n",
       "      <td>61.9%</td>\n",
       "      <td>61.9%</td>\n",
       "      <td>61.0%</td>\n",
       "    </tr>\n",
       "    <tr>\n",
       "      <th>CartScreenAppear</th>\n",
       "      <td>3734</td>\n",
       "      <td>50.3%</td>\n",
       "      <td>81.3%</td>\n",
       "      <td>49.6%</td>\n",
       "    </tr>\n",
       "    <tr>\n",
       "      <th>PaymentScreenSuccessful</th>\n",
       "      <td>3539</td>\n",
       "      <td>47.7%</td>\n",
       "      <td>94.8%</td>\n",
       "      <td>47.0%</td>\n",
       "    </tr>\n",
       "    <tr>\n",
       "      <th>Tutorial</th>\n",
       "      <td>840</td>\n",
       "      <td>11.3%</td>\n",
       "      <td>23.7%</td>\n",
       "      <td>11.1%</td>\n",
       "    </tr>\n",
       "  </tbody>\n",
       "</table>\n",
       "</div>"
      ],
      "text/plain": [
       "                         count cr_initial cr_prev cr_total\n",
       "event_name                                                \n",
       "MainScreenAppear          7419     100.0%  100.0%    98.5%\n",
       "OffersScreenAppear        4593      61.9%   61.9%    61.0%\n",
       "CartScreenAppear          3734      50.3%   81.3%    49.6%\n",
       "PaymentScreenSuccessful   3539      47.7%   94.8%    47.0%\n",
       "Tutorial                   840      11.3%   23.7%    11.1%"
      ]
     },
     "execution_count": 64,
     "metadata": {},
     "output_type": "execute_result"
    }
   ],
   "source": [
    "un_users(filt_df).assign(cr_total = lambda x: (x['count'] / filt_df['device_id_hash'].nunique()).map(formatter))"
   ]
  },
  {
   "cell_type": "markdown",
   "metadata": {},
   "source": [
    "- count - число пользователей на каждом событии\n",
    "- cr_initial - конверсия числа пользователей на каждом этапе от MainScreenAppear\n",
    "- cr_prev - конверсия числа пользователей на каждом шаге от предыдущего шага\n",
    "- cr_total - конверсия числа пользователей на каждом этапе воронки от числа всех уникальных пользователей  "
   ]
  },
  {
   "cell_type": "markdown",
   "metadata": {},
   "source": [
    "Визуализируем данные:\n",
    "<a id='step'></a>"
   ]
  },
  {
   "cell_type": "code",
   "execution_count": 65,
   "metadata": {
    "ExecuteTime": {
     "end_time": "2020-10-11T18:40:11.673682Z",
     "start_time": "2020-10-11T18:40:11.122678Z"
    },
    "scrolled": false
   },
   "outputs": [
    {
     "data": {
      "image/svg+xml": [
       "<svg class=\"main-svg\" xmlns=\"http://www.w3.org/2000/svg\" xmlns:xlink=\"http://www.w3.org/1999/xlink\" width=\"700\" height=\"450\" style=\"\" viewBox=\"0 0 700 450\"><rect x=\"0\" y=\"0\" width=\"700\" height=\"450\" style=\"fill: rgb(255, 255, 255); fill-opacity: 1;\"/><defs id=\"defs-f56f42\"><g class=\"clips\"><clipPath id=\"clipf56f42xyplot\" class=\"plotclip\"><rect width=\"450\" height=\"270\"/></clipPath><clipPath class=\"axesclip\" id=\"clipf56f42x\"><rect x=\"170\" y=\"0\" width=\"450\" height=\"450\"/></clipPath><clipPath class=\"axesclip\" id=\"clipf56f42y\"><rect x=\"0\" y=\"100\" width=\"700\" height=\"270\"/></clipPath><clipPath class=\"axesclip\" id=\"clipf56f42xy\"><rect x=\"170\" y=\"100\" width=\"450\" height=\"270\"/></clipPath></g><g class=\"gradients\"/></defs><g class=\"bglayer\"><rect class=\"bg\" x=\"170\" y=\"100\" width=\"450\" height=\"270\" style=\"fill: rgb(229, 236, 246); fill-opacity: 1; stroke-width: 0;\"/></g><g class=\"layer-below\"><g class=\"imagelayer\"/><g class=\"shapelayer\"/></g><g class=\"cartesianlayer\"><g class=\"subplot xy\"><g class=\"layer-subplot\"><g class=\"shapelayer\"/><g class=\"imagelayer\"/></g><g class=\"gridlayer\"><g class=\"x\"/><g class=\"y\"/></g><g class=\"zerolinelayer\"/><path class=\"xlines-below\"/><path class=\"ylines-below\"/><g class=\"overlines-below\"/><g class=\"xaxislayer-below\"/><g class=\"yaxislayer-below\"/><g class=\"overaxes-below\"/><g class=\"plot\" transform=\"translate(170, 100)\" clip-path=\"url('#clipf56f42xyplot')\"><g class=\"funnellayer mlayer\"><g class=\"trace bars\" style=\"opacity: 1;\"><g class=\"regions\"><g class=\"region\"><path d=\"M22.5,60.75L99.64,74.25H350.36L427.5,60.75Z\" style=\"stroke-width: 0; fill: rgb(99, 110, 250); fill-opacity: 0.5;\"/></g><g class=\"region\"><path d=\"M99.64,128.25L123.08,141.75H326.92L350.36,128.25Z\" style=\"stroke-width: 0; fill: rgb(99, 110, 250); fill-opacity: 0.5;\"/></g><g class=\"region\"><path d=\"M123.08,195.75L128.4,209.25H321.6L326.92,195.75Z\" style=\"stroke-width: 0; fill: rgb(99, 110, 250); fill-opacity: 0.5;\"/></g><g class=\"region\"><path d=\"M0,0Z\" style=\"stroke-width: 0; fill: rgb(99, 110, 250); fill-opacity: 0.5;\"/></g></g><g class=\"points\"><g class=\"point\"><path d=\"M22.5,6.75V60.75H427.5V6.75Z\" style=\"vector-effect: non-scaling-stroke; fill: rgb(99, 110, 250); fill-opacity: 1; stroke: rgb(68, 68, 68); stroke-opacity: 1; stroke-width: 0px; opacity: 1;\"/><text class=\"bartext bartext-inside\" text-anchor=\"middle\" data-notex=\"1\" x=\"0\" y=\"0\" style=\"font-family: 'Open Sans', verdana, arial, sans-serif; font-size: 12px; fill: rgb(255, 255, 255); fill-opacity: 1; white-space: pre;\" transform=\"translate(225,30.6953125)\"><tspan class=\"line\" dy=\"0em\" x=\"0\" y=\"0\">7419</tspan><tspan class=\"line\" dy=\"1.3em\" x=\"0\" y=\"0\">100%</tspan></text></g><g class=\"point\"><path d=\"M99.64,74.25V128.25H350.36V74.25Z\" style=\"vector-effect: non-scaling-stroke; fill: rgb(99, 110, 250); fill-opacity: 1; stroke: rgb(68, 68, 68); stroke-opacity: 1; stroke-width: 0px; opacity: 1;\"/><text class=\"bartext bartext-inside\" text-anchor=\"middle\" data-notex=\"1\" x=\"0\" y=\"0\" style=\"font-family: 'Open Sans', verdana, arial, sans-serif; font-size: 12px; fill: rgb(255, 255, 255); fill-opacity: 1; white-space: pre;\" transform=\"translate(225,98.1953125)\"><tspan class=\"line\" dy=\"0em\" x=\"0\" y=\"0\">4593</tspan><tspan class=\"line\" dy=\"1.3em\" x=\"0\" y=\"0\">62%</tspan></text></g><g class=\"point\"><path d=\"M123.08,141.75V195.75H326.92V141.75Z\" style=\"vector-effect: non-scaling-stroke; fill: rgb(99, 110, 250); fill-opacity: 1; stroke: rgb(68, 68, 68); stroke-opacity: 1; stroke-width: 0px; opacity: 1;\"/><text class=\"bartext bartext-inside\" text-anchor=\"middle\" data-notex=\"1\" x=\"0\" y=\"0\" style=\"font-family: 'Open Sans', verdana, arial, sans-serif; font-size: 12px; fill: rgb(255, 255, 255); fill-opacity: 1; white-space: pre;\" transform=\"translate(225,165.6953125)\"><tspan class=\"line\" dy=\"0em\" x=\"0\" y=\"0\">3734</tspan><tspan class=\"line\" dy=\"1.3em\" x=\"0\" y=\"0\">50%</tspan></text></g><g class=\"point\"><path d=\"M128.4,209.25V263.25H321.6V209.25Z\" style=\"vector-effect: non-scaling-stroke; fill: rgb(99, 110, 250); fill-opacity: 1; stroke: rgb(68, 68, 68); stroke-opacity: 1; stroke-width: 0px; opacity: 1;\"/><text class=\"bartext bartext-inside\" text-anchor=\"middle\" data-notex=\"1\" x=\"0\" y=\"0\" style=\"font-family: 'Open Sans', verdana, arial, sans-serif; font-size: 12px; fill: rgb(255, 255, 255); fill-opacity: 1; white-space: pre;\" transform=\"translate(225,233.1953125)\"><tspan class=\"line\" dy=\"0em\" x=\"0\" y=\"0\">3539</tspan><tspan class=\"line\" dy=\"1.3em\" x=\"0\" y=\"0\">48%</tspan></text></g></g></g></g></g><g class=\"overplot\"/><path class=\"xlines-above crisp\" d=\"M0,0\" style=\"fill: none;\"/><path class=\"ylines-above crisp\" d=\"M0,0\" style=\"fill: none;\"/><g class=\"overlines-above\"/><g class=\"xaxislayer-above\"/><g class=\"yaxislayer-above\"><g class=\"ytick\"><text text-anchor=\"end\" x=\"169\" y=\"4.199999999999999\" transform=\"translate(0,336.25)\" style=\"font-family: 'Open Sans', verdana, arial, sans-serif; font-size: 12px; fill: rgb(42, 63, 95); fill-opacity: 1; white-space: pre;\">PaymentScreenSuccessful</text></g><g class=\"ytick\"><text text-anchor=\"end\" x=\"169\" y=\"4.199999999999999\" transform=\"translate(0,268.75)\" style=\"font-family: 'Open Sans', verdana, arial, sans-serif; font-size: 12px; fill: rgb(42, 63, 95); fill-opacity: 1; white-space: pre;\">CartScreenAppear</text></g><g class=\"ytick\"><text text-anchor=\"end\" x=\"169\" y=\"4.199999999999999\" transform=\"translate(0,201.25)\" style=\"font-family: 'Open Sans', verdana, arial, sans-serif; font-size: 12px; fill: rgb(42, 63, 95); fill-opacity: 1; white-space: pre;\">OffersScreenAppear</text></g><g class=\"ytick\"><text text-anchor=\"end\" x=\"169\" y=\"4.199999999999999\" transform=\"translate(0,133.75)\" style=\"font-family: 'Open Sans', verdana, arial, sans-serif; font-size: 12px; fill: rgb(42, 63, 95); fill-opacity: 1; white-space: pre;\">MainScreenAppear</text></g></g><g class=\"overaxes-above\"/></g></g><g class=\"polarlayer\"/><g class=\"ternarylayer\"/><g class=\"geolayer\"/><g class=\"funnelarealayer\"/><g class=\"pielayer\"/><g class=\"treemaplayer\"/><g class=\"sunburstlayer\"/><g class=\"glimages\"/><defs id=\"topdefs-f56f42\"><g class=\"clips\"/></defs><g class=\"layer-above\"><g class=\"imagelayer\"/><g class=\"shapelayer\"/></g><g class=\"infolayer\"><g class=\"g-gtitle\"><text class=\"gtitle\" x=\"385.00000000000006\" y=\"50\" text-anchor=\"middle\" dy=\"0em\" style=\"font-family: 'Open Sans', verdana, arial, sans-serif; font-size: 17px; fill: rgb(42, 63, 95); opacity: 1; font-weight: normal; white-space: pre;\">Воронка распределения пользователей по этапам</text></g><g class=\"g-ytitle\"/></g></svg>"
      ]
     },
     "metadata": {},
     "output_type": "display_data"
    }
   ],
   "source": [
    "funnel(un_users(filt_df.query('event_name not in \"Tutorial\"')).reset_index(),  \"Воронка распределения пользователей по этапам\")"
   ]
  },
  {
   "cell_type": "code",
   "execution_count": 66,
   "metadata": {
    "ExecuteTime": {
     "end_time": "2020-10-11T18:40:11.862364Z",
     "start_time": "2020-10-11T18:40:11.698374Z"
    }
   },
   "outputs": [
    {
     "data": {
      "text/html": [
       "<div>\n",
       "<style scoped>\n",
       "    .dataframe tbody tr th:only-of-type {\n",
       "        vertical-align: middle;\n",
       "    }\n",
       "\n",
       "    .dataframe tbody tr th {\n",
       "        vertical-align: top;\n",
       "    }\n",
       "\n",
       "    .dataframe thead th {\n",
       "        text-align: right;\n",
       "    }\n",
       "</style>\n",
       "<table border=\"1\" class=\"dataframe\">\n",
       "  <thead>\n",
       "    <tr style=\"text-align: right;\">\n",
       "      <th></th>\n",
       "      <th>count</th>\n",
       "      <th>cr_initial</th>\n",
       "      <th>cr_prev</th>\n",
       "      <th>cr_total</th>\n",
       "    </tr>\n",
       "    <tr>\n",
       "      <th>event_name</th>\n",
       "      <th></th>\n",
       "      <th></th>\n",
       "      <th></th>\n",
       "      <th></th>\n",
       "    </tr>\n",
       "  </thead>\n",
       "  <tbody>\n",
       "    <tr>\n",
       "      <th>MainScreenAppear</th>\n",
       "      <td>7419</td>\n",
       "      <td>100.0%</td>\n",
       "      <td>100.0%</td>\n",
       "      <td>98.5%</td>\n",
       "    </tr>\n",
       "    <tr>\n",
       "      <th>OffersScreenAppear</th>\n",
       "      <td>4593</td>\n",
       "      <td>61.9%</td>\n",
       "      <td>61.9%</td>\n",
       "      <td>61.0%</td>\n",
       "    </tr>\n",
       "    <tr>\n",
       "      <th>CartScreenAppear</th>\n",
       "      <td>3734</td>\n",
       "      <td>50.3%</td>\n",
       "      <td>81.3%</td>\n",
       "      <td>49.6%</td>\n",
       "    </tr>\n",
       "    <tr>\n",
       "      <th>PaymentScreenSuccessful</th>\n",
       "      <td>3539</td>\n",
       "      <td>47.7%</td>\n",
       "      <td>94.8%</td>\n",
       "      <td>47.0%</td>\n",
       "    </tr>\n",
       "  </tbody>\n",
       "</table>\n",
       "</div>"
      ],
      "text/plain": [
       "                         count cr_initial cr_prev cr_total\n",
       "event_name                                                \n",
       "MainScreenAppear          7419     100.0%  100.0%    98.5%\n",
       "OffersScreenAppear        4593      61.9%   61.9%    61.0%\n",
       "CartScreenAppear          3734      50.3%   81.3%    49.6%\n",
       "PaymentScreenSuccessful   3539      47.7%   94.8%    47.0%"
      ]
     },
     "metadata": {},
     "output_type": "display_data"
    }
   ],
   "source": [
    "display(un_users(filt_df.query('event_name not in \"Tutorial\"'))\\\n",
    "        .assign(cr_total = lambda x: (x['count'] / filt_df['device_id_hash'].nunique()).map(formatter)))"
   ]
  },
  {
   "cell_type": "markdown",
   "metadata": {},
   "source": [
    "47% пользователей совершали 4 события хотя бы один раз. Больше всех пользователей теряется на этапе OffersScreenAppear - 38.1%, 47.7% пользователей, попавших на этап MainScreenAppear конвертировались в покупателей.\n",
    "\n",
    "<a id='pay'></a>"
   ]
  },
  {
   "cell_type": "markdown",
   "metadata": {},
   "source": [
    "### Вывод:"
   ]
  },
  {
   "cell_type": "markdown",
   "metadata": {},
   "source": [
    "На этом этапе были проанализированы были построены воронки распределения записей по событиям и пользователям. Установлена последовательность событий:\n",
    "- MainScreenAppear -> OffersScreenAppear -> CartScreenAppear -> PaymentScreenSuccessful\n",
    "\n",
    "Так же было установлено, что событие Tutorial не расположено последовательно в воронке, этим шагом пользовалось небольшое число пользователей - 4.2% (0.4% записей в логах), поэтому, не будем учитывать его при построении воронки. 14% всех событий - успешная оплата, это 28.9% конверсии от общего числа событий. 47% всех пользователей совершали 4 события хотя бы один раз. Больше всех пользователей теряется на этапе OffersScreenAppear - 38.1%, 47.7% с этапа MainScreenAppear конвертируются в покупателей."
   ]
  },
  {
   "cell_type": "markdown",
   "metadata": {},
   "source": [
    "<a id='exp'></a>\n",
    "## 5. Изучение результатов эксперимента"
   ]
  },
  {
   "cell_type": "markdown",
   "metadata": {},
   "source": [
    "Ответим на вопрос, сколько пользователей в каждой экспериментальной группе?\n",
    "<a id='us'></a>"
   ]
  },
  {
   "cell_type": "code",
   "execution_count": 67,
   "metadata": {
    "ExecuteTime": {
     "end_time": "2020-10-11T18:40:12.176639Z",
     "start_time": "2020-10-11T18:40:11.895798Z"
    },
    "scrolled": false
   },
   "outputs": [
    {
     "data": {
      "image/svg+xml": [
       "<svg class=\"main-svg\" xmlns=\"http://www.w3.org/2000/svg\" xmlns:xlink=\"http://www.w3.org/1999/xlink\" width=\"700\" height=\"450\" style=\"\" viewBox=\"0 0 700 450\"><rect x=\"0\" y=\"0\" width=\"700\" height=\"450\" style=\"fill: rgb(255, 255, 255); fill-opacity: 1;\"/><defs id=\"defs-7257c9\"><g class=\"clips\"/><g class=\"gradients\"/></defs><g class=\"bglayer\"/><g class=\"layer-below\"><g class=\"imagelayer\"/><g class=\"shapelayer\"/></g><g class=\"cartesianlayer\"/><g class=\"polarlayer\"/><g class=\"ternarylayer\"/><g class=\"geolayer\"/><g class=\"funnelarealayer\"/><g class=\"pielayer\"><g class=\"trace\" stroke-linejoin=\"round\" style=\"opacity: 1;\"><g class=\"slice\"><path class=\"surface\" d=\"M390.6767562900872,262.99477055676454a54,54 0 0 0 -46.17675629008721,-81.99477055676455l0,-81a135,135 0 0 1 115.44189072521802,204.98692639191137Z\" style=\"pointer-events: all; stroke-width: 0; fill: rgb(99, 110, 250); fill-opacity: 1; stroke: rgb(68, 68, 68); stroke-opacity: 1;\"/><g class=\"slicetext\"><text data-notex=\"1\" class=\"slicetext\" transform=\"translate(426.8404067904238,193.37859275817124)\" text-anchor=\"middle\" x=\"0\" y=\"0\" style=\"font-family: 'Open Sans', verdana, arial, sans-serif; font-size: 12px; fill: rgb(255, 255, 255); fill-opacity: 1; white-space: pre;\">33.67%</text></g></g><g class=\"slice\"><path class=\"surface\" d=\"M344.5,181a54,54 0 0 0 -46.72779766075342,81.0649759980623l-70.09169649113012,40.597463997093435a135,135 0 0 1 116.81949415188353,-202.66243999515572Z\" style=\"pointer-events: all; stroke-width: 0; fill: rgb(239, 85, 59); fill-opacity: 1; stroke: rgb(68, 68, 68); stroke-opacity: 1;\"/><g class=\"slicetext\"><text data-notex=\"1\" class=\"slicetext\" transform=\"translate(262.62778125127073,192.55688824457297)\" text-anchor=\"middle\" x=\"0\" y=\"0\" style=\"font-family: 'Open Sans', verdana, arial, sans-serif; font-size: 12px; fill: rgb(68, 68, 68); fill-opacity: 1; white-space: pre;\">33.36%</text></g></g><g class=\"slice\"><path class=\"surface\" d=\"M297.7722023392466,262.06497599806227a54,54 0 0 0 92.90455395084062,0.9297945587022696l69.2651344351308,41.99215583514684a135,135 0 0 1 -232.26138487710153,-2.324486396755674Z\" style=\"pointer-events: all; stroke-width: 0; fill: rgb(0, 204, 150); fill-opacity: 1; stroke: rgb(68, 68, 68); stroke-opacity: 1;\"/><g class=\"slicetext\"><text data-notex=\"1\" class=\"slicetext\" transform=\"translate(343.5542854787473,334.2452677335976)\" text-anchor=\"middle\" x=\"0\" y=\"0\" style=\"font-family: 'Open Sans', verdana, arial, sans-serif; font-size: 12px; fill: rgb(68, 68, 68); fill-opacity: 1; white-space: pre;\">32.97%</text></g></g></g></g><g class=\"treemaplayer\"/><g class=\"sunburstlayer\"/><g class=\"glimages\"/><defs id=\"topdefs-7257c9\"><g class=\"clips\"/><clipPath id=\"legend7257c9\"><rect width=\"68\" height=\"67\" x=\"0\" y=\"0\"/></clipPath></defs><g class=\"layer-above\"><g class=\"imagelayer\"/><g class=\"shapelayer\"/></g><g class=\"infolayer\"><g class=\"legend\" pointer-events=\"all\" transform=\"translate(619.58, 100)\"><rect class=\"bg\" shape-rendering=\"crispEdges\" width=\"68\" height=\"67\" x=\"0\" y=\"0\" style=\"stroke: rgb(68, 68, 68); stroke-opacity: 1; fill: rgb(255, 255, 255); fill-opacity: 1; stroke-width: 0px;\"/><g class=\"scrollbox\" transform=\"translate(0, 0)\" clip-path=\"url('#legend7257c9')\"><g class=\"groups\"><g class=\"traces\" transform=\"translate(0, 14.5)\" style=\"opacity: 1;\"><text class=\"legendtext user-select-none\" text-anchor=\"start\" x=\"40\" y=\"4.680000000000001\" style=\"font-family: 'Open Sans', verdana, arial, sans-serif; font-size: 12px; fill: rgb(42, 63, 95); fill-opacity: 1; white-space: pre;\">248</text><g class=\"layers\" style=\"opacity: 1;\"><g class=\"legendfill\"/><g class=\"legendlines\"/><g class=\"legendsymbols\"><g class=\"legendpoints\"><path class=\"legendpie\" d=\"M6,6H-6V-6H6Z\" transform=\"translate(20,0)\" style=\"stroke-width: 0; fill: rgb(99, 110, 250); fill-opacity: 1; stroke: rgb(68, 68, 68); stroke-opacity: 1;\"/></g></g></g><rect class=\"legendtoggle\" pointer-events=\"all\" x=\"0\" y=\"-9.5\" width=\"62.890625\" height=\"19\" style=\"cursor: pointer; fill: rgb(0, 0, 0); fill-opacity: 0;\"/></g><g class=\"traces\" transform=\"translate(0, 33.5)\" style=\"opacity: 1;\"><text class=\"legendtext user-select-none\" text-anchor=\"start\" x=\"40\" y=\"4.680000000000001\" style=\"font-family: 'Open Sans', verdana, arial, sans-serif; font-size: 12px; fill: rgb(42, 63, 95); fill-opacity: 1; white-space: pre;\">247</text><g class=\"layers\" style=\"opacity: 1;\"><g class=\"legendfill\"/><g class=\"legendlines\"/><g class=\"legendsymbols\"><g class=\"legendpoints\"><path class=\"legendpie\" d=\"M6,6H-6V-6H6Z\" transform=\"translate(20,0)\" style=\"stroke-width: 0; fill: rgb(239, 85, 59); fill-opacity: 1; stroke: rgb(68, 68, 68); stroke-opacity: 1;\"/></g></g></g><rect class=\"legendtoggle\" pointer-events=\"all\" x=\"0\" y=\"-9.5\" width=\"62.890625\" height=\"19\" style=\"cursor: pointer; fill: rgb(0, 0, 0); fill-opacity: 0;\"/></g><g class=\"traces\" transform=\"translate(0, 52.5)\" style=\"opacity: 1;\"><text class=\"legendtext user-select-none\" text-anchor=\"start\" x=\"40\" y=\"4.680000000000001\" style=\"font-family: 'Open Sans', verdana, arial, sans-serif; font-size: 12px; fill: rgb(42, 63, 95); fill-opacity: 1; white-space: pre;\">246</text><g class=\"layers\" style=\"opacity: 1;\"><g class=\"legendfill\"/><g class=\"legendlines\"/><g class=\"legendsymbols\"><g class=\"legendpoints\"><path class=\"legendpie\" d=\"M6,6H-6V-6H6Z\" transform=\"translate(20,0)\" style=\"stroke-width: 0; fill: rgb(0, 204, 150); fill-opacity: 1; stroke: rgb(68, 68, 68); stroke-opacity: 1;\"/></g></g></g><rect class=\"legendtoggle\" pointer-events=\"all\" x=\"0\" y=\"-9.5\" width=\"62.890625\" height=\"19\" style=\"cursor: pointer; fill: rgb(0, 0, 0); fill-opacity: 0;\"/></g></g></g><rect class=\"scrollbar\" rx=\"20\" ry=\"3\" width=\"0\" height=\"0\" x=\"0\" y=\"0\" style=\"fill: rgb(128, 139, 164); fill-opacity: 1;\"/></g><g class=\"g-gtitle\"><text class=\"gtitle\" x=\"350\" y=\"22.5\" text-anchor=\"middle\" dy=\"0.7em\" style=\"font-family: 'Open Sans', verdana, arial, sans-serif; font-size: 17px; fill: rgb(42, 63, 95); opacity: 1; font-weight: normal; white-space: pre;\">Cоотношение количества пользователей в разных группах</text></g></g></svg>"
      ]
     },
     "metadata": {},
     "output_type": "display_data"
    }
   ],
   "source": [
    "fig = go.Figure(data=[go.Pie(labels=groups.reset_index()['group'], values=groups['count'], \n",
    "                             text=groups['ratio'], textinfo='text',\n",
    "                             hole=.4)])\n",
    "fig.update_layout(\n",
    "    title={\n",
    "        'text': \"Cоотношение количества пользователей в разных группах\",\n",
    "        'y':0.95,\n",
    "        'x':0.5,})\n",
    "fig.show()"
   ]
  },
  {
   "cell_type": "markdown",
   "metadata": {},
   "source": [
    "Количество пользователей в трех группах различается в пределах 1%. При равном распределении пользователей по группам достигается оптимальная длительность теста, поэтому небольшие отклонения некритичны."
   ]
  },
  {
   "cell_type": "markdown",
   "metadata": {},
   "source": [
    "Есть 2 контрольные группы для А/А-эксперимента, чтобы проверить корректность всех механизмов и расчётов, проверим, находят ли статистические критерии разницу между выборками 246 и 247. Чтобы ответить на этот и другие вопросы, а также более наглядно представить данные по метрикам и долям, соберем таблицу по всем группам, а также рассчитаем конверсию к общему числу пользователей в каждой группе, чтобы определить разницу между долями на каждом этапе: \n",
    "<a id='cr'></a>"
   ]
  },
  {
   "cell_type": "code",
   "execution_count": 68,
   "metadata": {
    "ExecuteTime": {
     "end_time": "2020-10-11T18:40:12.352429Z",
     "start_time": "2020-10-11T18:40:12.201983Z"
    }
   },
   "outputs": [],
   "source": [
    "def guery_gen(num):\n",
    "    query = filt_df.query('(exp_id == @num)')\n",
    "    return query\n",
    "users = un_users(guery_gen(246)).add_suffix('246')\\\n",
    ".join(un_users(guery_gen(247)).add_suffix('247'), on='event_name')\\\n",
    ".join(un_users(guery_gen(248)).add_suffix('248'), on='event_name')\n",
    "users.index.name = None"
   ]
  },
  {
   "cell_type": "code",
   "execution_count": 69,
   "metadata": {
    "ExecuteTime": {
     "end_time": "2020-10-11T18:40:12.408080Z",
     "start_time": "2020-10-11T18:40:12.358929Z"
    }
   },
   "outputs": [],
   "source": [
    "for i in users.columns:\n",
    "    for j in groups.index:\n",
    "        if str(j) in i and 'count' in i:\n",
    "            users['cr_all'+str(j)] = (users[i] / groups.loc[j]['count'])\n",
    "            \n",
    "users = users.assign(diff_246_247 = lambda x: ((x['cr_all246'] - x['cr_all247']).abs()).map(formatter),\n",
    "                     diff_246_248 = lambda x: ((x['cr_all246'] - x['cr_all248']).abs()).map(formatter),\n",
    "                     diff_247_248 = lambda x: ((x['cr_all247'] - x['cr_all248']).abs()).map(formatter))\n",
    "for i in users.columns[users.columns.str.contains('all')]:\n",
    "    users[i] = users[i].apply(formatter)"
   ]
  },
  {
   "cell_type": "code",
   "execution_count": 70,
   "metadata": {
    "ExecuteTime": {
     "end_time": "2020-10-11T18:40:12.465170Z",
     "start_time": "2020-10-11T18:40:12.424942Z"
    },
    "scrolled": false
   },
   "outputs": [
    {
     "data": {
      "text/html": [
       "<div>\n",
       "<style scoped>\n",
       "    .dataframe tbody tr th:only-of-type {\n",
       "        vertical-align: middle;\n",
       "    }\n",
       "\n",
       "    .dataframe tbody tr th {\n",
       "        vertical-align: top;\n",
       "    }\n",
       "\n",
       "    .dataframe thead th {\n",
       "        text-align: right;\n",
       "    }\n",
       "</style>\n",
       "<table border=\"1\" class=\"dataframe\">\n",
       "  <thead>\n",
       "    <tr style=\"text-align: right;\">\n",
       "      <th></th>\n",
       "      <th>count246</th>\n",
       "      <th>cr_initial246</th>\n",
       "      <th>cr_prev246</th>\n",
       "      <th>count247</th>\n",
       "      <th>cr_initial247</th>\n",
       "      <th>cr_prev247</th>\n",
       "      <th>count248</th>\n",
       "      <th>cr_initial248</th>\n",
       "      <th>cr_prev248</th>\n",
       "      <th>cr_all246</th>\n",
       "      <th>cr_all247</th>\n",
       "      <th>cr_all248</th>\n",
       "      <th>diff_246_247</th>\n",
       "      <th>diff_246_248</th>\n",
       "      <th>diff_247_248</th>\n",
       "    </tr>\n",
       "  </thead>\n",
       "  <tbody>\n",
       "    <tr>\n",
       "      <th>MainScreenAppear</th>\n",
       "      <td>2450</td>\n",
       "      <td>100.0%</td>\n",
       "      <td>100.0%</td>\n",
       "      <td>2476</td>\n",
       "      <td>100.0%</td>\n",
       "      <td>100.0%</td>\n",
       "      <td>2493</td>\n",
       "      <td>100.0%</td>\n",
       "      <td>100.0%</td>\n",
       "      <td>98.6%</td>\n",
       "      <td>98.5%</td>\n",
       "      <td>98.3%</td>\n",
       "      <td>0.1%</td>\n",
       "      <td>0.4%</td>\n",
       "      <td>0.3%</td>\n",
       "    </tr>\n",
       "    <tr>\n",
       "      <th>OffersScreenAppear</th>\n",
       "      <td>1542</td>\n",
       "      <td>62.9%</td>\n",
       "      <td>62.9%</td>\n",
       "      <td>1520</td>\n",
       "      <td>61.4%</td>\n",
       "      <td>61.4%</td>\n",
       "      <td>1531</td>\n",
       "      <td>61.4%</td>\n",
       "      <td>61.4%</td>\n",
       "      <td>62.1%</td>\n",
       "      <td>60.5%</td>\n",
       "      <td>60.3%</td>\n",
       "      <td>1.6%</td>\n",
       "      <td>1.7%</td>\n",
       "      <td>0.1%</td>\n",
       "    </tr>\n",
       "    <tr>\n",
       "      <th>CartScreenAppear</th>\n",
       "      <td>1266</td>\n",
       "      <td>51.7%</td>\n",
       "      <td>82.1%</td>\n",
       "      <td>1238</td>\n",
       "      <td>50.0%</td>\n",
       "      <td>81.4%</td>\n",
       "      <td>1230</td>\n",
       "      <td>49.3%</td>\n",
       "      <td>80.3%</td>\n",
       "      <td>51.0%</td>\n",
       "      <td>49.3%</td>\n",
       "      <td>48.5%</td>\n",
       "      <td>1.7%</td>\n",
       "      <td>2.5%</td>\n",
       "      <td>0.8%</td>\n",
       "    </tr>\n",
       "    <tr>\n",
       "      <th>PaymentScreenSuccessful</th>\n",
       "      <td>1200</td>\n",
       "      <td>49.0%</td>\n",
       "      <td>94.8%</td>\n",
       "      <td>1158</td>\n",
       "      <td>46.8%</td>\n",
       "      <td>93.5%</td>\n",
       "      <td>1181</td>\n",
       "      <td>47.4%</td>\n",
       "      <td>96.0%</td>\n",
       "      <td>48.3%</td>\n",
       "      <td>46.1%</td>\n",
       "      <td>46.6%</td>\n",
       "      <td>2.2%</td>\n",
       "      <td>1.8%</td>\n",
       "      <td>0.5%</td>\n",
       "    </tr>\n",
       "    <tr>\n",
       "      <th>Tutorial</th>\n",
       "      <td>278</td>\n",
       "      <td>11.3%</td>\n",
       "      <td>23.2%</td>\n",
       "      <td>283</td>\n",
       "      <td>11.4%</td>\n",
       "      <td>24.4%</td>\n",
       "      <td>279</td>\n",
       "      <td>11.2%</td>\n",
       "      <td>23.6%</td>\n",
       "      <td>11.2%</td>\n",
       "      <td>11.3%</td>\n",
       "      <td>11.0%</td>\n",
       "      <td>0.1%</td>\n",
       "      <td>0.2%</td>\n",
       "      <td>0.3%</td>\n",
       "    </tr>\n",
       "  </tbody>\n",
       "</table>\n",
       "</div>"
      ],
      "text/plain": [
       "                         count246 cr_initial246 cr_prev246  count247  \\\n",
       "MainScreenAppear             2450        100.0%     100.0%      2476   \n",
       "OffersScreenAppear           1542         62.9%      62.9%      1520   \n",
       "CartScreenAppear             1266         51.7%      82.1%      1238   \n",
       "PaymentScreenSuccessful      1200         49.0%      94.8%      1158   \n",
       "Tutorial                      278         11.3%      23.2%       283   \n",
       "\n",
       "                        cr_initial247 cr_prev247  count248 cr_initial248  \\\n",
       "MainScreenAppear               100.0%     100.0%      2493        100.0%   \n",
       "OffersScreenAppear              61.4%      61.4%      1531         61.4%   \n",
       "CartScreenAppear                50.0%      81.4%      1230         49.3%   \n",
       "PaymentScreenSuccessful         46.8%      93.5%      1181         47.4%   \n",
       "Tutorial                        11.4%      24.4%       279         11.2%   \n",
       "\n",
       "                        cr_prev248 cr_all246 cr_all247 cr_all248 diff_246_247  \\\n",
       "MainScreenAppear            100.0%     98.6%     98.5%     98.3%         0.1%   \n",
       "OffersScreenAppear           61.4%     62.1%     60.5%     60.3%         1.6%   \n",
       "CartScreenAppear             80.3%     51.0%     49.3%     48.5%         1.7%   \n",
       "PaymentScreenSuccessful      96.0%     48.3%     46.1%     46.6%         2.2%   \n",
       "Tutorial                     23.6%     11.2%     11.3%     11.0%         0.1%   \n",
       "\n",
       "                        diff_246_248 diff_247_248  \n",
       "MainScreenAppear                0.4%         0.3%  \n",
       "OffersScreenAppear              1.7%         0.1%  \n",
       "CartScreenAppear                2.5%         0.8%  \n",
       "PaymentScreenSuccessful         1.8%         0.5%  \n",
       "Tutorial                        0.2%         0.3%  "
      ]
     },
     "metadata": {},
     "output_type": "display_data"
    }
   ],
   "source": [
    "display(users)"
   ]
  },
  {
   "cell_type": "markdown",
   "metadata": {},
   "source": [
    "Итоговая таблица получилось слишком большой и её сложно читать, будем извлекать выборочно столбцы для большей наглядности. \n",
    "Отфильтруем число пользователей на каждом этапе по группам, посчитаем долю пользователей, совершивших разные события:"
   ]
  },
  {
   "cell_type": "code",
   "execution_count": 71,
   "metadata": {
    "ExecuteTime": {
     "end_time": "2020-10-11T18:40:12.497805Z",
     "start_time": "2020-10-11T18:40:12.489332Z"
    }
   },
   "outputs": [],
   "source": [
    "def table_filt(df, string):\n",
    "    return df[df.columns[df.columns.str.contains(string)]]"
   ]
  },
  {
   "cell_type": "code",
   "execution_count": 72,
   "metadata": {
    "ExecuteTime": {
     "end_time": "2020-10-11T18:40:12.527308Z",
     "start_time": "2020-10-11T18:40:12.506742Z"
    },
    "scrolled": false
   },
   "outputs": [
    {
     "data": {
      "text/html": [
       "<div>\n",
       "<style scoped>\n",
       "    .dataframe tbody tr th:only-of-type {\n",
       "        vertical-align: middle;\n",
       "    }\n",
       "\n",
       "    .dataframe tbody tr th {\n",
       "        vertical-align: top;\n",
       "    }\n",
       "\n",
       "    .dataframe thead th {\n",
       "        text-align: right;\n",
       "    }\n",
       "</style>\n",
       "<table border=\"1\" class=\"dataframe\">\n",
       "  <thead>\n",
       "    <tr style=\"text-align: right;\">\n",
       "      <th></th>\n",
       "      <th>count246</th>\n",
       "      <th>cr_initial246</th>\n",
       "      <th>count247</th>\n",
       "      <th>cr_initial247</th>\n",
       "      <th>count248</th>\n",
       "      <th>cr_initial248</th>\n",
       "    </tr>\n",
       "  </thead>\n",
       "  <tbody>\n",
       "    <tr>\n",
       "      <th>MainScreenAppear</th>\n",
       "      <td>2450</td>\n",
       "      <td>100.0%</td>\n",
       "      <td>2476</td>\n",
       "      <td>100.0%</td>\n",
       "      <td>2493</td>\n",
       "      <td>100.0%</td>\n",
       "    </tr>\n",
       "    <tr>\n",
       "      <th>OffersScreenAppear</th>\n",
       "      <td>1542</td>\n",
       "      <td>62.9%</td>\n",
       "      <td>1520</td>\n",
       "      <td>61.4%</td>\n",
       "      <td>1531</td>\n",
       "      <td>61.4%</td>\n",
       "    </tr>\n",
       "    <tr>\n",
       "      <th>CartScreenAppear</th>\n",
       "      <td>1266</td>\n",
       "      <td>51.7%</td>\n",
       "      <td>1238</td>\n",
       "      <td>50.0%</td>\n",
       "      <td>1230</td>\n",
       "      <td>49.3%</td>\n",
       "    </tr>\n",
       "    <tr>\n",
       "      <th>PaymentScreenSuccessful</th>\n",
       "      <td>1200</td>\n",
       "      <td>49.0%</td>\n",
       "      <td>1158</td>\n",
       "      <td>46.8%</td>\n",
       "      <td>1181</td>\n",
       "      <td>47.4%</td>\n",
       "    </tr>\n",
       "    <tr>\n",
       "      <th>Tutorial</th>\n",
       "      <td>278</td>\n",
       "      <td>11.3%</td>\n",
       "      <td>283</td>\n",
       "      <td>11.4%</td>\n",
       "      <td>279</td>\n",
       "      <td>11.2%</td>\n",
       "    </tr>\n",
       "  </tbody>\n",
       "</table>\n",
       "</div>"
      ],
      "text/plain": [
       "                         count246 cr_initial246  count247 cr_initial247  \\\n",
       "MainScreenAppear             2450        100.0%      2476        100.0%   \n",
       "OffersScreenAppear           1542         62.9%      1520         61.4%   \n",
       "CartScreenAppear             1266         51.7%      1238         50.0%   \n",
       "PaymentScreenSuccessful      1200         49.0%      1158         46.8%   \n",
       "Tutorial                      278         11.3%       283         11.4%   \n",
       "\n",
       "                         count248 cr_initial248  \n",
       "MainScreenAppear             2493        100.0%  \n",
       "OffersScreenAppear           1531         61.4%  \n",
       "CartScreenAppear             1230         49.3%  \n",
       "PaymentScreenSuccessful      1181         47.4%  \n",
       "Tutorial                      279         11.2%  "
      ]
     },
     "execution_count": 72,
     "metadata": {},
     "output_type": "execute_result"
    }
   ],
   "source": [
    "table_filt(users, 'count|initial')"
   ]
  },
  {
   "cell_type": "markdown",
   "metadata": {},
   "source": [
    "Больше всего пользователей с этапа MainScreenAppear переходят на этап OffersScreenAppear - от 61.4% до 62.9% в трех группах. Перешли на этап попкупки с этапа MainScreenAppear от 46.8% до 49% в трех группах.  "
   ]
  },
  {
   "cell_type": "markdown",
   "metadata": {},
   "source": [
    "Отфильтруем конверсию от общего числа пользователей в каждой группе и различия по размеру группы на каждом этапе:"
   ]
  },
  {
   "cell_type": "code",
   "execution_count": 73,
   "metadata": {
    "ExecuteTime": {
     "end_time": "2020-10-11T18:40:13.298781Z",
     "start_time": "2020-10-11T18:40:13.288829Z"
    }
   },
   "outputs": [
    {
     "data": {
      "text/html": [
       "<div>\n",
       "<style scoped>\n",
       "    .dataframe tbody tr th:only-of-type {\n",
       "        vertical-align: middle;\n",
       "    }\n",
       "\n",
       "    .dataframe tbody tr th {\n",
       "        vertical-align: top;\n",
       "    }\n",
       "\n",
       "    .dataframe thead th {\n",
       "        text-align: right;\n",
       "    }\n",
       "</style>\n",
       "<table border=\"1\" class=\"dataframe\">\n",
       "  <thead>\n",
       "    <tr style=\"text-align: right;\">\n",
       "      <th></th>\n",
       "      <th>cr_all246</th>\n",
       "      <th>cr_all247</th>\n",
       "      <th>cr_all248</th>\n",
       "      <th>diff_246_247</th>\n",
       "      <th>diff_246_248</th>\n",
       "      <th>diff_247_248</th>\n",
       "    </tr>\n",
       "  </thead>\n",
       "  <tbody>\n",
       "    <tr>\n",
       "      <th>MainScreenAppear</th>\n",
       "      <td>98.6%</td>\n",
       "      <td>98.5%</td>\n",
       "      <td>98.3%</td>\n",
       "      <td>0.1%</td>\n",
       "      <td>0.4%</td>\n",
       "      <td>0.3%</td>\n",
       "    </tr>\n",
       "    <tr>\n",
       "      <th>OffersScreenAppear</th>\n",
       "      <td>62.1%</td>\n",
       "      <td>60.5%</td>\n",
       "      <td>60.3%</td>\n",
       "      <td>1.6%</td>\n",
       "      <td>1.7%</td>\n",
       "      <td>0.1%</td>\n",
       "    </tr>\n",
       "    <tr>\n",
       "      <th>CartScreenAppear</th>\n",
       "      <td>51.0%</td>\n",
       "      <td>49.3%</td>\n",
       "      <td>48.5%</td>\n",
       "      <td>1.7%</td>\n",
       "      <td>2.5%</td>\n",
       "      <td>0.8%</td>\n",
       "    </tr>\n",
       "    <tr>\n",
       "      <th>PaymentScreenSuccessful</th>\n",
       "      <td>48.3%</td>\n",
       "      <td>46.1%</td>\n",
       "      <td>46.6%</td>\n",
       "      <td>2.2%</td>\n",
       "      <td>1.8%</td>\n",
       "      <td>0.5%</td>\n",
       "    </tr>\n",
       "    <tr>\n",
       "      <th>Tutorial</th>\n",
       "      <td>11.2%</td>\n",
       "      <td>11.3%</td>\n",
       "      <td>11.0%</td>\n",
       "      <td>0.1%</td>\n",
       "      <td>0.2%</td>\n",
       "      <td>0.3%</td>\n",
       "    </tr>\n",
       "  </tbody>\n",
       "</table>\n",
       "</div>"
      ],
      "text/plain": [
       "                        cr_all246 cr_all247 cr_all248 diff_246_247  \\\n",
       "MainScreenAppear            98.6%     98.5%     98.3%         0.1%   \n",
       "OffersScreenAppear          62.1%     60.5%     60.3%         1.6%   \n",
       "CartScreenAppear            51.0%     49.3%     48.5%         1.7%   \n",
       "PaymentScreenSuccessful     48.3%     46.1%     46.6%         2.2%   \n",
       "Tutorial                    11.2%     11.3%     11.0%         0.1%   \n",
       "\n",
       "                        diff_246_248 diff_247_248  \n",
       "MainScreenAppear                0.4%         0.3%  \n",
       "OffersScreenAppear              1.7%         0.1%  \n",
       "CartScreenAppear                2.5%         0.8%  \n",
       "PaymentScreenSuccessful         1.8%         0.5%  \n",
       "Tutorial                        0.2%         0.3%  "
      ]
     },
     "execution_count": 73,
     "metadata": {},
     "output_type": "execute_result"
    }
   ],
   "source": [
    "table_filt(users, 'all|diff_24')"
   ]
  },
  {
   "cell_type": "markdown",
   "metadata": {},
   "source": [
    "На этап MainScreenAppear попадают 98% пользователей, около 1.3-1.7% не попадают в воронку, вероятно остаются на этапе Tutorial. Переходят на этап OffersScreenAppear - от 61.4% до 62.9% в трех группах. Переходят на этап попкупки от 46.1% до 48.3% в трех группах. Разница между конверсиями в группах на каждом этапе колеблется в пределах от 0.1% до 2.5%."
   ]
  },
  {
   "cell_type": "markdown",
   "metadata": {},
   "source": [
    "Проверим, будет ли отличие между группами 246 и 247 статистически достоверным и ответим на вопрос, корректно ли работает разбиение на группы:\n",
    "<a id='aa'></a>"
   ]
  },
  {
   "cell_type": "markdown",
   "metadata": {},
   "source": [
    "Чтобы установить эквивалентность групп, напишем функцию для расчета статистической значимости между долями и определим нулевую и альтернативную гипотезу. \n",
    "- H(0) - нет значимых статистических различий между группами 246 и 247 на каждом этапе событий\n",
    "- H(1) - есть значимые статистические различия между группами 246 и 247 для одного и более событий\n",
    "\n",
    "Пороговое значение установим аlpha=0.05, но так как будем проводить множественный тест, будет расти вероятность получить ошибку первого рода, поэтому применим поправку Бонферрони и разделим alpha на число проверяемых гипотез (будем сравнивать группы A/A, A1/B, A2/B и A1A2/B, в каждой по 5 сравнений, суммарно 20). Alpha / 20 = 0.0025"
   ]
  },
  {
   "cell_type": "code",
   "execution_count": 74,
   "metadata": {
    "ExecuteTime": {
     "end_time": "2020-10-11T18:40:15.123869Z",
     "start_time": "2020-10-11T18:40:15.117331Z"
    }
   },
   "outputs": [],
   "source": [
    "alpha = 0.0025\n",
    "def z_test(gr1,s1, gr2, s2):\n",
    "    successes = np.array([s1, s2])\n",
    "    trials = np.array([gr1, gr2])\n",
    "    p1 = successes[0]/trials[0]\n",
    "    p2 = successes[1]/trials[1]\n",
    "    p_combined = (successes[0] + successes[1]) / (trials[0] + trials[1])\n",
    "    difference = p1 - p2\n",
    "    z_value = difference / np.sqrt(p_combined * (1 - p_combined) * (1/trials[0] + 1/trials[1]))\n",
    "    distr = st.norm(0, 1)\n",
    "    z_value = difference / np.sqrt(p_combined * (1 - p_combined) * (1/trials[0] + 1/trials[1]))\n",
    "    distr = st.norm(0, 1) \n",
    "    p_value = (1 - distr.cdf(abs(z_value))) * 2\n",
    "    return p_value"
   ]
  },
  {
   "cell_type": "code",
   "execution_count": 75,
   "metadata": {
    "ExecuteTime": {
     "end_time": "2020-10-11T18:40:15.331423Z",
     "start_time": "2020-10-11T18:40:15.297482Z"
    }
   },
   "outputs": [],
   "source": [
    "users['aa_p-value'] = users.apply\\\n",
    "(lambda x: z_test(groups.loc[246]['count'], x['count246'], groups.loc[247]['count'], x['count247']).round(2), axis=1)\n",
    "users['aa_difference'] = users['aa_p-value'].apply(lambda x: 'есть различия' if x < alpha else 'нет различий')"
   ]
  },
  {
   "cell_type": "code",
   "execution_count": 76,
   "metadata": {
    "ExecuteTime": {
     "end_time": "2020-10-11T18:40:15.446262Z",
     "start_time": "2020-10-11T18:40:15.435656Z"
    }
   },
   "outputs": [
    {
     "data": {
      "text/html": [
       "<div>\n",
       "<style scoped>\n",
       "    .dataframe tbody tr th:only-of-type {\n",
       "        vertical-align: middle;\n",
       "    }\n",
       "\n",
       "    .dataframe tbody tr th {\n",
       "        vertical-align: top;\n",
       "    }\n",
       "\n",
       "    .dataframe thead th {\n",
       "        text-align: right;\n",
       "    }\n",
       "</style>\n",
       "<table border=\"1\" class=\"dataframe\">\n",
       "  <thead>\n",
       "    <tr style=\"text-align: right;\">\n",
       "      <th></th>\n",
       "      <th>aa_p-value</th>\n",
       "      <th>aa_difference</th>\n",
       "    </tr>\n",
       "  </thead>\n",
       "  <tbody>\n",
       "    <tr>\n",
       "      <th>MainScreenAppear</th>\n",
       "      <td>0.76</td>\n",
       "      <td>нет различий</td>\n",
       "    </tr>\n",
       "    <tr>\n",
       "      <th>OffersScreenAppear</th>\n",
       "      <td>0.25</td>\n",
       "      <td>нет различий</td>\n",
       "    </tr>\n",
       "    <tr>\n",
       "      <th>CartScreenAppear</th>\n",
       "      <td>0.23</td>\n",
       "      <td>нет различий</td>\n",
       "    </tr>\n",
       "    <tr>\n",
       "      <th>PaymentScreenSuccessful</th>\n",
       "      <td>0.11</td>\n",
       "      <td>нет различий</td>\n",
       "    </tr>\n",
       "    <tr>\n",
       "      <th>Tutorial</th>\n",
       "      <td>0.94</td>\n",
       "      <td>нет различий</td>\n",
       "    </tr>\n",
       "  </tbody>\n",
       "</table>\n",
       "</div>"
      ],
      "text/plain": [
       "                         aa_p-value aa_difference\n",
       "MainScreenAppear               0.76  нет различий\n",
       "OffersScreenAppear             0.25  нет различий\n",
       "CartScreenAppear               0.23  нет различий\n",
       "PaymentScreenSuccessful        0.11  нет различий\n",
       "Tutorial                       0.94  нет различий"
      ]
     },
     "execution_count": 76,
     "metadata": {},
     "output_type": "execute_result"
    }
   ],
   "source": [
    "table_filt(users, 'aa')"
   ]
  },
  {
   "cell_type": "markdown",
   "metadata": {},
   "source": [
    "На основе проведенного z-теста принимаем нулевую гипотезу, группы 246 и 247 эквивалентны, между ними нет значимых статистических различий. Разбиение на группы работает корректно."
   ]
  },
  {
   "cell_type": "markdown",
   "metadata": {},
   "source": [
    "Проверим, будет ли отличие между группами 246/248 (A1/B) и 247/248 (A2/B)  статистически достоверным и установим, влияет ли наличие новых шрифтов на поведение пользователей.\n",
    "\n",
    "- H(0) - нет значимых статистических различий между группами 246 и 248, 247 и 248 на каждом этапе событий\n",
    "- H(1) - есть значимые статистические различия между группами 246 и 248, 247 и 248 для одного и более событий"
   ]
  },
  {
   "cell_type": "code",
   "execution_count": 77,
   "metadata": {
    "ExecuteTime": {
     "end_time": "2020-10-11T18:40:16.029120Z",
     "start_time": "2020-10-11T18:40:16.005248Z"
    }
   },
   "outputs": [
    {
     "data": {
      "text/html": [
       "<div>\n",
       "<style scoped>\n",
       "    .dataframe tbody tr th:only-of-type {\n",
       "        vertical-align: middle;\n",
       "    }\n",
       "\n",
       "    .dataframe tbody tr th {\n",
       "        vertical-align: top;\n",
       "    }\n",
       "\n",
       "    .dataframe thead th {\n",
       "        text-align: right;\n",
       "    }\n",
       "</style>\n",
       "<table border=\"1\" class=\"dataframe\">\n",
       "  <thead>\n",
       "    <tr style=\"text-align: right;\">\n",
       "      <th></th>\n",
       "      <th>a1b_p-value</th>\n",
       "      <th>a1b_difference</th>\n",
       "    </tr>\n",
       "  </thead>\n",
       "  <tbody>\n",
       "    <tr>\n",
       "      <th>MainScreenAppear</th>\n",
       "      <td>0.29</td>\n",
       "      <td>нет различий</td>\n",
       "    </tr>\n",
       "    <tr>\n",
       "      <th>OffersScreenAppear</th>\n",
       "      <td>0.21</td>\n",
       "      <td>нет различий</td>\n",
       "    </tr>\n",
       "    <tr>\n",
       "      <th>CartScreenAppear</th>\n",
       "      <td>0.08</td>\n",
       "      <td>нет различий</td>\n",
       "    </tr>\n",
       "    <tr>\n",
       "      <th>PaymentScreenSuccessful</th>\n",
       "      <td>0.21</td>\n",
       "      <td>нет различий</td>\n",
       "    </tr>\n",
       "    <tr>\n",
       "      <th>Tutorial</th>\n",
       "      <td>0.83</td>\n",
       "      <td>нет различий</td>\n",
       "    </tr>\n",
       "  </tbody>\n",
       "</table>\n",
       "</div>"
      ],
      "text/plain": [
       "                         a1b_p-value a1b_difference\n",
       "MainScreenAppear                0.29   нет различий\n",
       "OffersScreenAppear              0.21   нет различий\n",
       "CartScreenAppear                0.08   нет различий\n",
       "PaymentScreenSuccessful         0.21   нет различий\n",
       "Tutorial                        0.83   нет различий"
      ]
     },
     "execution_count": 77,
     "metadata": {},
     "output_type": "execute_result"
    }
   ],
   "source": [
    "users['a1b_p-value'] = users.apply\\\n",
    "(lambda x: z_test(groups.loc[246]['count'], x['count246'], groups.loc[248]['count'], x['count248']).round(2), axis=1)\n",
    "users['a1b_difference'] = users['a1b_p-value'].apply(lambda x: 'есть различия' if x < alpha else 'нет различий')\n",
    "table_filt(users, 'a1b')"
   ]
  },
  {
   "cell_type": "code",
   "execution_count": 78,
   "metadata": {
    "ExecuteTime": {
     "end_time": "2020-10-11T18:40:16.344625Z",
     "start_time": "2020-10-11T18:40:16.286503Z"
    }
   },
   "outputs": [
    {
     "data": {
      "text/html": [
       "<div>\n",
       "<style scoped>\n",
       "    .dataframe tbody tr th:only-of-type {\n",
       "        vertical-align: middle;\n",
       "    }\n",
       "\n",
       "    .dataframe tbody tr th {\n",
       "        vertical-align: top;\n",
       "    }\n",
       "\n",
       "    .dataframe thead th {\n",
       "        text-align: right;\n",
       "    }\n",
       "</style>\n",
       "<table border=\"1\" class=\"dataframe\">\n",
       "  <thead>\n",
       "    <tr style=\"text-align: right;\">\n",
       "      <th></th>\n",
       "      <th>a2b_p-value</th>\n",
       "      <th>a2b_difference</th>\n",
       "    </tr>\n",
       "  </thead>\n",
       "  <tbody>\n",
       "    <tr>\n",
       "      <th>MainScreenAppear</th>\n",
       "      <td>0.46</td>\n",
       "      <td>нет различий</td>\n",
       "    </tr>\n",
       "    <tr>\n",
       "      <th>OffersScreenAppear</th>\n",
       "      <td>0.92</td>\n",
       "      <td>нет различий</td>\n",
       "    </tr>\n",
       "    <tr>\n",
       "      <th>CartScreenAppear</th>\n",
       "      <td>0.58</td>\n",
       "      <td>нет различий</td>\n",
       "    </tr>\n",
       "    <tr>\n",
       "      <th>PaymentScreenSuccessful</th>\n",
       "      <td>0.74</td>\n",
       "      <td>нет различий</td>\n",
       "    </tr>\n",
       "    <tr>\n",
       "      <th>Tutorial</th>\n",
       "      <td>0.77</td>\n",
       "      <td>нет различий</td>\n",
       "    </tr>\n",
       "  </tbody>\n",
       "</table>\n",
       "</div>"
      ],
      "text/plain": [
       "                         a2b_p-value a2b_difference\n",
       "MainScreenAppear                0.46   нет различий\n",
       "OffersScreenAppear              0.92   нет различий\n",
       "CartScreenAppear                0.58   нет различий\n",
       "PaymentScreenSuccessful         0.74   нет различий\n",
       "Tutorial                        0.77   нет различий"
      ]
     },
     "execution_count": 78,
     "metadata": {},
     "output_type": "execute_result"
    }
   ],
   "source": [
    "users['a2b_p-value'] = users.apply\\\n",
    "(lambda x: z_test(groups.loc[247]['count'], x['count247'], groups.loc[248]['count'], x['count248']).round(2), axis=1)\n",
    "users['a2b_difference'] = users['a2b_p-value'].apply(lambda x: 'есть различия' if x < alpha else 'нет различий')\n",
    "table_filt(users, 'a2b')"
   ]
  },
  {
   "cell_type": "markdown",
   "metadata": {},
   "source": [
    "По результатам тестов между группами 246 и 248, 247 и 248 нет значимых статистических различий на каждом этапе. Принимаем нулевую гипотезу, изменение шрифтов не влияет на поведение пользователей при сравнении контрольных групп с экспериментальной."
   ]
  },
  {
   "cell_type": "markdown",
   "metadata": {},
   "source": [
    "Поскольку 246 и 247 группы эквивалентны между собой, проделаем такое же сравнение для объдиненных групп A с группой B и посмотрим, есть ли статистические различия. Сформируем нулевую и альтернативные гипотезы:\n",
    "- H(0) - нет значимых статистических различий между группами A и B на каждом этапе событий\n",
    "- H(1) - есть значимые статистические различия между группами A и B для одного и более событий\n",
    "\n",
    "Присоединим объединенную группу в таблицу users и проведем z-тест:\n",
    "<a id='ab'></a>"
   ]
  },
  {
   "cell_type": "code",
   "execution_count": 79,
   "metadata": {
    "ExecuteTime": {
     "end_time": "2020-10-11T18:40:17.130478Z",
     "start_time": "2020-10-11T18:40:17.004617Z"
    }
   },
   "outputs": [],
   "source": [
    "ab_groups = filt_df.groupby('groups').agg({'device_id_hash':'nunique'}).rename(columns={'device_id_hash':'count'})\n",
    "users = users.join(un_users(filt_df.query('groups == \"A\"')).add_suffix('_united'))"
   ]
  },
  {
   "cell_type": "code",
   "execution_count": 80,
   "metadata": {
    "ExecuteTime": {
     "end_time": "2020-10-11T18:40:17.425282Z",
     "start_time": "2020-10-11T18:40:17.366355Z"
    }
   },
   "outputs": [
    {
     "data": {
      "text/html": [
       "<div>\n",
       "<style scoped>\n",
       "    .dataframe tbody tr th:only-of-type {\n",
       "        vertical-align: middle;\n",
       "    }\n",
       "\n",
       "    .dataframe tbody tr th {\n",
       "        vertical-align: top;\n",
       "    }\n",
       "\n",
       "    .dataframe thead th {\n",
       "        text-align: right;\n",
       "    }\n",
       "</style>\n",
       "<table border=\"1\" class=\"dataframe\">\n",
       "  <thead>\n",
       "    <tr style=\"text-align: right;\">\n",
       "      <th></th>\n",
       "      <th>count_united</th>\n",
       "      <th>cr_initial_united</th>\n",
       "      <th>cr_prev_united</th>\n",
       "    </tr>\n",
       "  </thead>\n",
       "  <tbody>\n",
       "    <tr>\n",
       "      <th>MainScreenAppear</th>\n",
       "      <td>4926</td>\n",
       "      <td>100.0%</td>\n",
       "      <td>100.0%</td>\n",
       "    </tr>\n",
       "    <tr>\n",
       "      <th>OffersScreenAppear</th>\n",
       "      <td>3062</td>\n",
       "      <td>62.2%</td>\n",
       "      <td>62.2%</td>\n",
       "    </tr>\n",
       "    <tr>\n",
       "      <th>CartScreenAppear</th>\n",
       "      <td>2504</td>\n",
       "      <td>50.8%</td>\n",
       "      <td>81.8%</td>\n",
       "    </tr>\n",
       "    <tr>\n",
       "      <th>PaymentScreenSuccessful</th>\n",
       "      <td>2358</td>\n",
       "      <td>47.9%</td>\n",
       "      <td>94.2%</td>\n",
       "    </tr>\n",
       "    <tr>\n",
       "      <th>Tutorial</th>\n",
       "      <td>561</td>\n",
       "      <td>11.4%</td>\n",
       "      <td>23.8%</td>\n",
       "    </tr>\n",
       "  </tbody>\n",
       "</table>\n",
       "</div>"
      ],
      "text/plain": [
       "                         count_united cr_initial_united cr_prev_united\n",
       "MainScreenAppear                 4926            100.0%         100.0%\n",
       "OffersScreenAppear               3062             62.2%          62.2%\n",
       "CartScreenAppear                 2504             50.8%          81.8%\n",
       "PaymentScreenSuccessful          2358             47.9%          94.2%\n",
       "Tutorial                          561             11.4%          23.8%"
      ]
     },
     "execution_count": 80,
     "metadata": {},
     "output_type": "execute_result"
    }
   ],
   "source": [
    "table_filt(users, 'united')"
   ]
  },
  {
   "cell_type": "code",
   "execution_count": 81,
   "metadata": {
    "ExecuteTime": {
     "end_time": "2020-10-11T18:40:17.679051Z",
     "start_time": "2020-10-11T18:40:17.651132Z"
    }
   },
   "outputs": [],
   "source": [
    "users['aab_p-value'] = users.apply\\\n",
    "(lambda x: z_test(ab_groups.loc['A']['count'], x['count_united'], ab_groups.loc['B']['count'], x['count248'])\\\n",
    " .round(2), axis=1)\n",
    "users['aab_difference'] = users['aab_p-value'].apply(lambda x: 'есть различия' if x < alpha else 'нет различий')"
   ]
  },
  {
   "cell_type": "code",
   "execution_count": 82,
   "metadata": {
    "ExecuteTime": {
     "end_time": "2020-10-11T18:40:17.940610Z",
     "start_time": "2020-10-11T18:40:17.920472Z"
    }
   },
   "outputs": [
    {
     "data": {
      "text/html": [
       "<div>\n",
       "<style scoped>\n",
       "    .dataframe tbody tr th:only-of-type {\n",
       "        vertical-align: middle;\n",
       "    }\n",
       "\n",
       "    .dataframe tbody tr th {\n",
       "        vertical-align: top;\n",
       "    }\n",
       "\n",
       "    .dataframe thead th {\n",
       "        text-align: right;\n",
       "    }\n",
       "</style>\n",
       "<table border=\"1\" class=\"dataframe\">\n",
       "  <thead>\n",
       "    <tr style=\"text-align: right;\">\n",
       "      <th></th>\n",
       "      <th>aab_p-value</th>\n",
       "      <th>aab_difference</th>\n",
       "    </tr>\n",
       "  </thead>\n",
       "  <tbody>\n",
       "    <tr>\n",
       "      <th>MainScreenAppear</th>\n",
       "      <td>0.29</td>\n",
       "      <td>нет различий</td>\n",
       "    </tr>\n",
       "    <tr>\n",
       "      <th>OffersScreenAppear</th>\n",
       "      <td>0.43</td>\n",
       "      <td>нет различий</td>\n",
       "    </tr>\n",
       "    <tr>\n",
       "      <th>CartScreenAppear</th>\n",
       "      <td>0.18</td>\n",
       "      <td>нет различий</td>\n",
       "    </tr>\n",
       "    <tr>\n",
       "      <th>PaymentScreenSuccessful</th>\n",
       "      <td>0.60</td>\n",
       "      <td>нет различий</td>\n",
       "    </tr>\n",
       "    <tr>\n",
       "      <th>Tutorial</th>\n",
       "      <td>0.76</td>\n",
       "      <td>нет различий</td>\n",
       "    </tr>\n",
       "  </tbody>\n",
       "</table>\n",
       "</div>"
      ],
      "text/plain": [
       "                         aab_p-value aab_difference\n",
       "MainScreenAppear                0.29   нет различий\n",
       "OffersScreenAppear              0.43   нет различий\n",
       "CartScreenAppear                0.18   нет различий\n",
       "PaymentScreenSuccessful         0.60   нет различий\n",
       "Tutorial                        0.76   нет различий"
      ]
     },
     "execution_count": 82,
     "metadata": {},
     "output_type": "execute_result"
    }
   ],
   "source": [
    "table_filt(users, 'aab')"
   ]
  },
  {
   "cell_type": "markdown",
   "metadata": {},
   "source": [
    "Таким образом, по результатам z-теста принимаем нулевую гипотезу. Можно сделать вывод о том, что нет значимых статистических различий между группами A и B на каждом этапе, изменение шрифтов не влияет на поведение пользователей."
   ]
  },
  {
   "cell_type": "markdown",
   "metadata": {},
   "source": [
    "### Вывод:"
   ]
  },
  {
   "cell_type": "markdown",
   "metadata": {},
   "source": [
    "На этом этапе было установлено:\n",
    "- Количество пользователей в трех группах различается различается в пределах 1%.\n",
    "- На этап MainScreenAppear попадают 98% пользователей, около 1.3-1.7% не попадают в воронку, вероятно остаются на этапе Tutorial.\n",
    "- Переходят на этап OffersScreenAppear - от 61.4% до 62.9% в трех группах. \n",
    "- Переходят на этап попкупки от 46.1% до 48.3% в трех группах. Разница между конверсиями в группах на каждом этапе колеблется в пределах от 0.1% до 2.5%.\n",
    "- Перешли на этап попкупки с этапа MainScreenAppear от 46.8% до 49% в трех группах.\n",
    "- Между группами 246 и 247 нет значимых статистических различий по результатам z-теста, они эквивалентны, разбиение на группы работает корректно.\n",
    "- Между группами 246 и 248, 247 и 248 нет значимых статистических различий по результатам z-теста на каждом этапе воронки, изменение шрифтов не влияет на поведение пользователей\n",
    "- Между группами A (246 и 247) и B (248) нет значимых статистических различий по результатам z-теста на каждом этапе воронки, они эквивалентны, изменение шрифтов не влияет на поведение пользователей."
   ]
  },
  {
   "cell_type": "markdown",
   "metadata": {},
   "source": [
    "<a id='result'></a>\n",
    "## Общий вывод:"
   ]
  },
  {
   "cell_type": "markdown",
   "metadata": {},
   "source": [
    "Были изучены данные о логах событий магазина продуктов питания, построена и изучена воронка продаж, исследованы результаты A/B теста. Были получены следующие выводы:\n",
    "- число событий в логе: 243713 \n",
    "- число уникальных пользователей в логе: 7551\n",
    "- среднее число событий на пользователя: 32\n",
    "- также определили, что располагаем данными за период с 1-го по 7е августа. Данные отфильтровали, было отброшено 1.2% значений датасета, 17 уникальных пользователей. После фильтрации количество пользователей в трех группах различается в пределах 1%.\n",
    "- установлена последовательность событий: MainScreenAppear -> OffersScreenAppear -> CartScreenAppear -> PaymentScreenSuccessful. Cобытие Tutorial не расположено последовательно в воронке, этим шагом пользовалось небольшое число пользователей - 4.2% (0.4% записей в логах)\n",
    "- 14% всех событий - успешная оплата, это 28.9% конверсии от общего числа событий\n",
    "- 47% всех пользователей совершали 4 события хотя бы один раз\n",
    "- Больше всех пользователей теряется на этапе OffersScreenAppear - 38.1%\n",
    "- 47.7% конвертируются в покупателей\n",
    "- На этап MainScreenAppear попадают 98% пользователей из трех групп, около 1.3-1.7% не попадают в воронку, вероятно остаются на этапе Tutorial\n",
    "- Переходят на этап попкупки от 46.1% до 48.3% в трех группах. Разница между конверсиями в группах на каждом этапе колеблется в пределах от 0.1% до 2.5%\n",
    "- Между группами 246 и 247 нет значимых статистических различий по результатам z-теста, они эквивалентны, разбиение на группы работает корректно\n",
    "- Между группами 246 и 248, 247 и 248 нет значимых статистических различий по результатам z-теста на каждом этапе воронки, изменение шрифтов не влияет на поведение пользователей\n",
    "- Между группами A (246 и 247) и B (248) нет значимых статистических различий по результатам z-теста на каждом этапе воронки, они эквивалентны, изменение шрифтов не влияет на поведение пользователей"
   ]
  }
 ],
 "metadata": {
  "hide_input": false,
  "kernelspec": {
   "display_name": "Python 3",
   "language": "python",
   "name": "python3"
  },
  "language_info": {
   "codemirror_mode": {
    "name": "ipython",
    "version": 3
   },
   "file_extension": ".py",
   "mimetype": "text/x-python",
   "name": "python",
   "nbconvert_exporter": "python",
   "pygments_lexer": "ipython3",
   "version": "3.7.4"
  },
  "toc": {
   "base_numbering": 1,
   "nav_menu": {},
   "number_sections": true,
   "sideBar": true,
   "skip_h1_title": false,
   "title_cell": "Table of Contents",
   "title_sidebar": "Contents",
   "toc_cell": false,
   "toc_position": {},
   "toc_section_display": true,
   "toc_window_display": false
  }
 },
 "nbformat": 4,
 "nbformat_minor": 2
}
