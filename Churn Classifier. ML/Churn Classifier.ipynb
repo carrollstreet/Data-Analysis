{
 "cells": [
  {
   "cell_type": "markdown",
   "metadata": {},
   "source": [
    "# Отток клиентов"
   ]
  },
  {
   "cell_type": "markdown",
   "metadata": {},
   "source": [
    "Из «Бета-Банка» стали уходить клиенты. Каждый месяц. Немного, но заметно. Банковские маркетологи посчитали: сохранять текущих клиентов дешевле, чем привлекать новых.\n",
    "\n",
    "Нужно спрогнозировать, уйдёт клиент из банка в ближайшее время или нет. Предоставлены исторические данные о поведении клиентов и расторжении договоров с банком. \n",
    "\n",
    "Необходимо построить модель с предельно большим значением *F1*-меры.  Нужно довести метрику до 0.59. \n",
    "\n",
    "Дополнительно необходимл измерять *AUC-ROC* и сравнивать её значение с *F1*-мерой.\n",
    "\n",
    "Источник данных: [https://www.kaggle.com/barelydedicated/bank-customer-churn-modeling](https://www.kaggle.com/barelydedicated/bank-customer-churn-modeling)"
   ]
  },
  {
   "cell_type": "markdown",
   "metadata": {},
   "source": [
    "### Описание данных:\n",
    "- `RowNumber` — индекс строки в данных\n",
    "- `CustomerId` — уникальный идентификатор клиента\n",
    "- `Surname` — фамилия\n",
    "- `CreditScore` — кредитный рейтинг\n",
    "- `Geography` — страна проживания\n",
    "- `Gender` — пол\n",
    "- `Age` — возраст\n",
    "- `Tenure` — количество недвижимости у клиента\n",
    "- `Balance` — баланс на счёте\n",
    "- `NumOfProducts` — количество продуктов банка, используемых клиентом\n",
    "- `HasCrCard` — наличие кредитной карты\n",
    "- `IsActiveMember` — активность клиента\n",
    "- `EstimatedSalary` — предполагаемая зарплата\n",
    "\n",
    "\n",
    "Целевой признак:\n",
    "- `Exited` — факт ухода клиента"
   ]
  },
  {
   "cell_type": "markdown",
   "metadata": {},
   "source": [
    "### План работы:"
   ]
  },
  {
   "cell_type": "markdown",
   "metadata": {},
   "source": [
    "1. [Загрузка данных, импорт библиотек](#start)\n",
    "2. [Изучение и предобработка признаков](#eda)\n",
    "3. [Подготовка данных для двух моделей](#model_selection)\n",
    "4. [Исследование моделей без учета дисбаланса классов](#dis)\n",
    "5. [Борьба с дисбалансом](#balanced)\n",
    "6. [Тестирование модели](#testing)\n",
    "7. [Общий вывод](#out)"
   ]
  },
  {
   "cell_type": "markdown",
   "metadata": {},
   "source": [
    "---\n",
    "<a id='start'></a>\n",
    "## 1. Загрузка данных"
   ]
  },
  {
   "cell_type": "code",
   "execution_count": 1,
   "metadata": {},
   "outputs": [],
   "source": [
    "import time\n",
    "import pandas as pd\n",
    "import matplotlib.pyplot as plt\n",
    "import numpy as np\n",
    "import seaborn as sns\n",
    "sns.set_style('whitegrid')\n",
    "plt.rcParams['figure.figsize'] = (18,6)\n",
    "from sklearn.model_selection import train_test_split, GridSearchCV\n",
    "from sklearn.preprocessing import StandardScaler, OrdinalEncoder\n",
    "from sklearn.ensemble import RandomForestClassifier\n",
    "from sklearn.linear_model import LogisticRegression\n",
    "from sklearn.utils import shuffle\n",
    "from sklearn.metrics import roc_auc_score, confusion_matrix, classification_report, accuracy_score, f1_score"
   ]
  },
  {
   "cell_type": "code",
   "execution_count": 2,
   "metadata": {},
   "outputs": [],
   "source": [
    "df = pd.read_csv('/datasets/Churn.csv')"
   ]
  },
  {
   "cell_type": "code",
   "execution_count": 3,
   "metadata": {},
   "outputs": [
    {
     "data": {
      "text/html": [
       "<div>\n",
       "<style scoped>\n",
       "    .dataframe tbody tr th:only-of-type {\n",
       "        vertical-align: middle;\n",
       "    }\n",
       "\n",
       "    .dataframe tbody tr th {\n",
       "        vertical-align: top;\n",
       "    }\n",
       "\n",
       "    .dataframe thead th {\n",
       "        text-align: right;\n",
       "    }\n",
       "</style>\n",
       "<table border=\"1\" class=\"dataframe\">\n",
       "  <thead>\n",
       "    <tr style=\"text-align: right;\">\n",
       "      <th></th>\n",
       "      <th>RowNumber</th>\n",
       "      <th>CustomerId</th>\n",
       "      <th>Surname</th>\n",
       "      <th>CreditScore</th>\n",
       "      <th>Geography</th>\n",
       "      <th>Gender</th>\n",
       "      <th>Age</th>\n",
       "      <th>Tenure</th>\n",
       "      <th>Balance</th>\n",
       "      <th>NumOfProducts</th>\n",
       "      <th>HasCrCard</th>\n",
       "      <th>IsActiveMember</th>\n",
       "      <th>EstimatedSalary</th>\n",
       "      <th>Exited</th>\n",
       "    </tr>\n",
       "  </thead>\n",
       "  <tbody>\n",
       "    <tr>\n",
       "      <td>0</td>\n",
       "      <td>1</td>\n",
       "      <td>15634602</td>\n",
       "      <td>Hargrave</td>\n",
       "      <td>619</td>\n",
       "      <td>France</td>\n",
       "      <td>Female</td>\n",
       "      <td>42</td>\n",
       "      <td>2.0</td>\n",
       "      <td>0.00</td>\n",
       "      <td>1</td>\n",
       "      <td>1</td>\n",
       "      <td>1</td>\n",
       "      <td>101348.88</td>\n",
       "      <td>1</td>\n",
       "    </tr>\n",
       "    <tr>\n",
       "      <td>1</td>\n",
       "      <td>2</td>\n",
       "      <td>15647311</td>\n",
       "      <td>Hill</td>\n",
       "      <td>608</td>\n",
       "      <td>Spain</td>\n",
       "      <td>Female</td>\n",
       "      <td>41</td>\n",
       "      <td>1.0</td>\n",
       "      <td>83807.86</td>\n",
       "      <td>1</td>\n",
       "      <td>0</td>\n",
       "      <td>1</td>\n",
       "      <td>112542.58</td>\n",
       "      <td>0</td>\n",
       "    </tr>\n",
       "    <tr>\n",
       "      <td>2</td>\n",
       "      <td>3</td>\n",
       "      <td>15619304</td>\n",
       "      <td>Onio</td>\n",
       "      <td>502</td>\n",
       "      <td>France</td>\n",
       "      <td>Female</td>\n",
       "      <td>42</td>\n",
       "      <td>8.0</td>\n",
       "      <td>159660.80</td>\n",
       "      <td>3</td>\n",
       "      <td>1</td>\n",
       "      <td>0</td>\n",
       "      <td>113931.57</td>\n",
       "      <td>1</td>\n",
       "    </tr>\n",
       "    <tr>\n",
       "      <td>3</td>\n",
       "      <td>4</td>\n",
       "      <td>15701354</td>\n",
       "      <td>Boni</td>\n",
       "      <td>699</td>\n",
       "      <td>France</td>\n",
       "      <td>Female</td>\n",
       "      <td>39</td>\n",
       "      <td>1.0</td>\n",
       "      <td>0.00</td>\n",
       "      <td>2</td>\n",
       "      <td>0</td>\n",
       "      <td>0</td>\n",
       "      <td>93826.63</td>\n",
       "      <td>0</td>\n",
       "    </tr>\n",
       "    <tr>\n",
       "      <td>4</td>\n",
       "      <td>5</td>\n",
       "      <td>15737888</td>\n",
       "      <td>Mitchell</td>\n",
       "      <td>850</td>\n",
       "      <td>Spain</td>\n",
       "      <td>Female</td>\n",
       "      <td>43</td>\n",
       "      <td>2.0</td>\n",
       "      <td>125510.82</td>\n",
       "      <td>1</td>\n",
       "      <td>1</td>\n",
       "      <td>1</td>\n",
       "      <td>79084.10</td>\n",
       "      <td>0</td>\n",
       "    </tr>\n",
       "  </tbody>\n",
       "</table>\n",
       "</div>"
      ],
      "text/plain": [
       "   RowNumber  CustomerId   Surname  CreditScore Geography  Gender  Age  \\\n",
       "0          1    15634602  Hargrave          619    France  Female   42   \n",
       "1          2    15647311      Hill          608     Spain  Female   41   \n",
       "2          3    15619304      Onio          502    France  Female   42   \n",
       "3          4    15701354      Boni          699    France  Female   39   \n",
       "4          5    15737888  Mitchell          850     Spain  Female   43   \n",
       "\n",
       "   Tenure    Balance  NumOfProducts  HasCrCard  IsActiveMember  \\\n",
       "0     2.0       0.00              1          1               1   \n",
       "1     1.0   83807.86              1          0               1   \n",
       "2     8.0  159660.80              3          1               0   \n",
       "3     1.0       0.00              2          0               0   \n",
       "4     2.0  125510.82              1          1               1   \n",
       "\n",
       "   EstimatedSalary  Exited  \n",
       "0        101348.88       1  \n",
       "1        112542.58       0  \n",
       "2        113931.57       1  \n",
       "3         93826.63       0  \n",
       "4         79084.10       0  "
      ]
     },
     "execution_count": 3,
     "metadata": {},
     "output_type": "execute_result"
    }
   ],
   "source": [
    "df.head()"
   ]
  },
  {
   "cell_type": "code",
   "execution_count": 4,
   "metadata": {},
   "outputs": [
    {
     "name": "stdout",
     "output_type": "stream",
     "text": [
      "<class 'pandas.core.frame.DataFrame'>\n",
      "RangeIndex: 10000 entries, 0 to 9999\n",
      "Data columns (total 14 columns):\n",
      "RowNumber          10000 non-null int64\n",
      "CustomerId         10000 non-null int64\n",
      "Surname            10000 non-null object\n",
      "CreditScore        10000 non-null int64\n",
      "Geography          10000 non-null object\n",
      "Gender             10000 non-null object\n",
      "Age                10000 non-null int64\n",
      "Tenure             9091 non-null float64\n",
      "Balance            10000 non-null float64\n",
      "NumOfProducts      10000 non-null int64\n",
      "HasCrCard          10000 non-null int64\n",
      "IsActiveMember     10000 non-null int64\n",
      "EstimatedSalary    10000 non-null float64\n",
      "Exited             10000 non-null int64\n",
      "dtypes: float64(3), int64(8), object(3)\n",
      "memory usage: 1.1+ MB\n"
     ]
    }
   ],
   "source": [
    "df.info()"
   ]
  },
  {
   "cell_type": "markdown",
   "metadata": {},
   "source": [
    "Перед нами датасет с данными о клиентах банка, 14 столбцов, данные из `RowNumber`, `CustomerId` и `Surname` не понадобятся для построения моделей, в столбце `Tenure` присутствуют пропуски. Приведем названия столбцов к нижнему регистру:"
   ]
  },
  {
   "cell_type": "code",
   "execution_count": 5,
   "metadata": {},
   "outputs": [],
   "source": [
    "df.columns = df.columns.str.lower()"
   ]
  },
  {
   "cell_type": "markdown",
   "metadata": {},
   "source": [
    "### Вывод"
   ]
  },
  {
   "cell_type": "markdown",
   "metadata": {},
   "source": [
    "На этом этапе импортировали библиотеки, загрузили данные, привели названия столбцов к нижнему регистру, получили сводную информацию о датасете: 10000 записей, 14 столбцов с данными, из них 10 - признаки и `Exited` целевая переменная. В столбце `Tenure` присутсвуют пропуски. Продолжим исследовать датасет."
   ]
  },
  {
   "cell_type": "markdown",
   "metadata": {},
   "source": [
    "---\n",
    "<a id='eda'></a>\n",
    "## 2. Изучение и предобработка признаков\n",
    "\n",
    "Изучим описательные статистики для столбцов с количественными данными:"
   ]
  },
  {
   "cell_type": "code",
   "execution_count": 6,
   "metadata": {
    "scrolled": true
   },
   "outputs": [
    {
     "data": {
      "text/html": [
       "<div>\n",
       "<style scoped>\n",
       "    .dataframe tbody tr th:only-of-type {\n",
       "        vertical-align: middle;\n",
       "    }\n",
       "\n",
       "    .dataframe tbody tr th {\n",
       "        vertical-align: top;\n",
       "    }\n",
       "\n",
       "    .dataframe thead th {\n",
       "        text-align: right;\n",
       "    }\n",
       "</style>\n",
       "<table border=\"1\" class=\"dataframe\">\n",
       "  <thead>\n",
       "    <tr style=\"text-align: right;\">\n",
       "      <th></th>\n",
       "      <th>creditscore</th>\n",
       "      <th>age</th>\n",
       "      <th>tenure</th>\n",
       "      <th>balance</th>\n",
       "      <th>numofproducts</th>\n",
       "      <th>hascrcard</th>\n",
       "      <th>isactivemember</th>\n",
       "      <th>estimatedsalary</th>\n",
       "      <th>exited</th>\n",
       "    </tr>\n",
       "  </thead>\n",
       "  <tbody>\n",
       "    <tr>\n",
       "      <td>count</td>\n",
       "      <td>10000</td>\n",
       "      <td>10000</td>\n",
       "      <td>9091</td>\n",
       "      <td>10000</td>\n",
       "      <td>10000</td>\n",
       "      <td>10000</td>\n",
       "      <td>10000</td>\n",
       "      <td>10000</td>\n",
       "      <td>10000</td>\n",
       "    </tr>\n",
       "    <tr>\n",
       "      <td>mean</td>\n",
       "      <td>650.5</td>\n",
       "      <td>38.9</td>\n",
       "      <td>5</td>\n",
       "      <td>76485.9</td>\n",
       "      <td>1.5</td>\n",
       "      <td>0.7</td>\n",
       "      <td>0.5</td>\n",
       "      <td>100090.2</td>\n",
       "      <td>0.2</td>\n",
       "    </tr>\n",
       "    <tr>\n",
       "      <td>std</td>\n",
       "      <td>96.7</td>\n",
       "      <td>10.5</td>\n",
       "      <td>2.9</td>\n",
       "      <td>62397.4</td>\n",
       "      <td>0.6</td>\n",
       "      <td>0.5</td>\n",
       "      <td>0.5</td>\n",
       "      <td>57510.5</td>\n",
       "      <td>0.4</td>\n",
       "    </tr>\n",
       "    <tr>\n",
       "      <td>min</td>\n",
       "      <td>350</td>\n",
       "      <td>18</td>\n",
       "      <td>0</td>\n",
       "      <td>0</td>\n",
       "      <td>1</td>\n",
       "      <td>0</td>\n",
       "      <td>0</td>\n",
       "      <td>11.6</td>\n",
       "      <td>0</td>\n",
       "    </tr>\n",
       "    <tr>\n",
       "      <td>25%</td>\n",
       "      <td>584</td>\n",
       "      <td>32</td>\n",
       "      <td>2</td>\n",
       "      <td>0</td>\n",
       "      <td>1</td>\n",
       "      <td>0</td>\n",
       "      <td>0</td>\n",
       "      <td>51002.1</td>\n",
       "      <td>0</td>\n",
       "    </tr>\n",
       "    <tr>\n",
       "      <td>50%</td>\n",
       "      <td>652</td>\n",
       "      <td>37</td>\n",
       "      <td>5</td>\n",
       "      <td>97198.5</td>\n",
       "      <td>1</td>\n",
       "      <td>1</td>\n",
       "      <td>1</td>\n",
       "      <td>100193.9</td>\n",
       "      <td>0</td>\n",
       "    </tr>\n",
       "    <tr>\n",
       "      <td>75%</td>\n",
       "      <td>718</td>\n",
       "      <td>44</td>\n",
       "      <td>7</td>\n",
       "      <td>127644.2</td>\n",
       "      <td>2</td>\n",
       "      <td>1</td>\n",
       "      <td>1</td>\n",
       "      <td>149388.2</td>\n",
       "      <td>0</td>\n",
       "    </tr>\n",
       "    <tr>\n",
       "      <td>max</td>\n",
       "      <td>850</td>\n",
       "      <td>92</td>\n",
       "      <td>10</td>\n",
       "      <td>250898.1</td>\n",
       "      <td>4</td>\n",
       "      <td>1</td>\n",
       "      <td>1</td>\n",
       "      <td>199992.5</td>\n",
       "      <td>1</td>\n",
       "    </tr>\n",
       "  </tbody>\n",
       "</table>\n",
       "</div>"
      ],
      "text/plain": [
       "      creditscore    age tenure   balance numofproducts hascrcard  \\\n",
       "count       10000  10000   9091     10000         10000     10000   \n",
       "mean        650.5   38.9      5   76485.9           1.5       0.7   \n",
       "std          96.7   10.5    2.9   62397.4           0.6       0.5   \n",
       "min           350     18      0         0             1         0   \n",
       "25%           584     32      2         0             1         0   \n",
       "50%           652     37      5   97198.5             1         1   \n",
       "75%           718     44      7  127644.2             2         1   \n",
       "max           850     92     10  250898.1             4         1   \n",
       "\n",
       "      isactivemember estimatedsalary exited  \n",
       "count          10000           10000  10000  \n",
       "mean             0.5        100090.2    0.2  \n",
       "std              0.5         57510.5    0.4  \n",
       "min                0            11.6      0  \n",
       "25%                0         51002.1      0  \n",
       "50%                1        100193.9      0  \n",
       "75%                1        149388.2      0  \n",
       "max                1        199992.5      1  "
      ]
     },
     "metadata": {},
     "output_type": "display_data"
    }
   ],
   "source": [
    "inf = (df.select_dtypes(include=['int64','float64']).describe().round(1)\n",
    "       .applymap(lambda x: '{}'.format(int(x)) if x.is_integer() else '{:.1f}'.format(x))\n",
    "       .drop(['customerid', 'rownumber'], axis=1))\n",
    "display(inf)"
   ]
  },
  {
   "cell_type": "markdown",
   "metadata": {},
   "source": [
    "Можно отметить большую разницу в масштабах данных в разных столбцах. В столбце с целевым признаком `Exited` 20% записей с классом 1, что говорит о дисбалансе. Изучим распределения и выбросы у количественных признаков, при необходимости выполним предобработку:"
   ]
  },
  {
   "cell_type": "code",
   "execution_count": 7,
   "metadata": {
    "scrolled": true
   },
   "outputs": [
    {
     "data": {
      "image/png": "[encoded data removed]",
      "text/plain": [
       "<Figure size 1440x4320 with 10 Axes>"
      ]
     },
     "metadata": {},
     "output_type": "display_data"
    }
   ],
   "source": [
    "cont_data = [i for i in df.select_dtypes(include=['int','float']).columns if df[i].mean() > 2]\n",
    "cont_data.remove('rownumber')\n",
    "cont_data.remove('customerid')\n",
    "\n",
    "plt.subplots(figsize=(20,60))\n",
    "k = 0 \n",
    "for i in cont_data:\n",
    "    k+=1\n",
    "    plt.subplot(10,2, k)\n",
    "    plt.hist(df[i], bins=int(len(df[i])**.5 / 5), color='#38b0a4')\n",
    "    plt.title(i + '_hist')\n",
    "    plt.ylabel('frequency')\n",
    "    plt.xlabel('values')\n",
    "    k+=1\n",
    "    plt.subplot(10,2, k)\n",
    "    sns.boxplot(data=df, x=i, palette=['#f7967c'])\n",
    "    plt.xlabel('values')\n",
    "    plt.title(i + '_box')\n",
    "plt.show()"
   ]
  },
  {
   "cell_type": "markdown",
   "metadata": {},
   "source": [
    "Данные в столбцах `CreditSroce` и `Age` перекошены и в обоих столбцах присутствуют выбросы, в остальных столбцах нет аномальных значений, в столбце `Balance` можно отметить большое число записей с нулевыми значениями - <u>3612</u>, а для столбца `EstimatedSalary` характерно равномерное распределение. Визуально в столбце `CreditSroce` выбросов не много, исследуем их количество:"
   ]
  },
  {
   "cell_type": "code",
   "execution_count": 8,
   "metadata": {
    "scrolled": true
   },
   "outputs": [
    {
     "name": "stdout",
     "output_type": "stream",
     "text": [
      "Число записей в датасете с выбросами по столбцу creditscore: 15\n"
     ]
    }
   ],
   "source": [
    "credit_outliers = list(plt.boxplot(df['creditscore'])[\"fliers\"][0].get_data()[1]) \n",
    "plt.close()\n",
    "print('Число записей в датасете с выбросами по столбцу creditscore:',len(df[df['creditscore'] <= max(credit_outliers)]))"
   ]
  },
  {
   "cell_type": "markdown",
   "metadata": {},
   "source": [
    "Удалим их:"
   ]
  },
  {
   "cell_type": "code",
   "execution_count": 9,
   "metadata": {},
   "outputs": [
    {
     "name": "stdout",
     "output_type": "stream",
     "text": [
      "Размер датасета после очистки от выбросов: 9985\n"
     ]
    }
   ],
   "source": [
    "df = df[df['creditscore'] > max(credit_outliers)].reset_index(drop=True)\n",
    "print('Размер датасета после очистки от выбросов:', len(df))"
   ]
  },
  {
   "cell_type": "markdown",
   "metadata": {},
   "source": [
    "Исследуем число выбросов для столбца `Age`:"
   ]
  },
  {
   "cell_type": "code",
   "execution_count": 10,
   "metadata": {},
   "outputs": [
    {
     "name": "stdout",
     "output_type": "stream",
     "text": [
      "Число записей в датасете с выбросами по столбцу age: 359\n"
     ]
    }
   ],
   "source": [
    "age_outliers = list(plt.boxplot(df['age'])[\"fliers\"][0].get_data()[1]) \n",
    "plt.close()\n",
    "print('Число записей в датасете с выбросами по столбцу age:', len(df[df['age'] >= min(age_outliers)]))"
   ]
  },
  {
   "cell_type": "markdown",
   "metadata": {},
   "source": [
    "Так как записей много, значения возраста реальны, а так же чтобы не терять полноту в данных, не будем их удалять. Значения выбросов компенсируются при стандартизации, а модели, основанные на решающих деревьях в меньшей степени чувствительны к масштабу признаков. Исследуем столбцы с категориальными данными:"
   ]
  },
  {
   "cell_type": "code",
   "execution_count": 11,
   "metadata": {},
   "outputs": [
    {
     "data": {
      "image/png": "[encoded data removed]",
      "text/plain": [
       "<Figure size 1440x2160 with 6 Axes>"
      ]
     },
     "metadata": {},
     "output_type": "display_data"
    }
   ],
   "source": [
    "cols = [i for i in df.select_dtypes(include=['int','float']).columns if df[i].mean() <= 2]\n",
    "cols.extend(df.select_dtypes(include='object').columns.tolist())\n",
    "cols.remove('surname')\n",
    "\n",
    "def vlc(row):\n",
    "    vlc = df[row].value_counts().reset_index().rename(columns={'index':row, row:'count'})\n",
    "    return vlc\n",
    "\n",
    "plt.subplots(figsize=(20, 30))\n",
    "for k, i in enumerate(cols):\n",
    "    plt.subplot(6,3,k+1)\n",
    "    data = vlc(i).sort_values(by=i)\n",
    "    if data[i].tolist()[0] == 0:\n",
    "        cl0, cl1 = 'C0', 'C1'\n",
    "    elif i == 'numofproducts':\n",
    "        cl0, cl1 = 'C1', 'C4'\n",
    "    else: \n",
    "        cl1, cl0 = 'C0', 'C1'\n",
    "    sns.barplot(data=data, x=i, y='count', palette=[cl0, cl1, 'C2', 'C3'])\n",
    "    for index, value in enumerate(data['count']):\n",
    "        plt.text(index, value, '{:.1%}'.format(value / data['count'].sum()), ha='center', va='bottom')\n",
    "    plt.xlabel('')\n",
    "    plt.title(i)\n",
    "plt.show()"
   ]
  },
  {
   "cell_type": "markdown",
   "metadata": {},
   "source": [
    "Как было отмечено выше, в целевом признаке `Exited` присутствует дисбаланс классов - значений 1-го класса всего 20%. Остальные категориальные признаки будем кодировать методом <u>Ordinal Encoding</u> для модели случайного леса и <u>One-Hot Encoding</u> для модели логистической регрессии."
   ]
  },
  {
   "cell_type": "markdown",
   "metadata": {},
   "source": [
    "Исследуем данные на наличие дубликатов:"
   ]
  },
  {
   "cell_type": "code",
   "execution_count": 12,
   "metadata": {},
   "outputs": [
    {
     "name": "stdout",
     "output_type": "stream",
     "text": [
      "Количество полных дубликатов в датафрейме: 0\n"
     ]
    }
   ],
   "source": [
    "print('Количество полных дубликатов в датафрейме:', df.drop(['rownumber'], axis=1).duplicated().sum())"
   ]
  },
  {
   "cell_type": "markdown",
   "metadata": {},
   "source": [
    "Полных дубликатов нет, поищем дубликаты по фамилиям и столбцу `CustomerId`:"
   ]
  },
  {
   "cell_type": "code",
   "execution_count": 13,
   "metadata": {},
   "outputs": [
    {
     "name": "stdout",
     "output_type": "stream",
     "text": [
      "В столбце surname уникальных значений: 2931, дублированных значений: 7054\n",
      "В столбце customerid уникальных значений: 9985, дублированных значений: 0\n"
     ]
    }
   ],
   "source": [
    "def totals(row):\n",
    "    nuniq = df[row].nunique()\n",
    "    dupl = df[row].duplicated().sum()\n",
    "    print(f'В столбце {row} уникальных значений: {nuniq}, дублированных значений: {dupl}')\n",
    "totals('surname')\n",
    "totals('customerid')"
   ]
  },
  {
   "cell_type": "markdown",
   "metadata": {},
   "source": [
    "Дублирующих фамилий в столбце подозрительно много, хотя, судя по столбцу `CustomerId`, все клиенты уникальные. Посмотрим число полных дубликатов по социальному статусу, будем использовать данные из столбцов `Surname`, `Geography`, `Gender`, `Age`:"
   ]
  },
  {
   "cell_type": "code",
   "execution_count": 14,
   "metadata": {},
   "outputs": [
    {
     "name": "stdout",
     "output_type": "stream",
     "text": [
      "Число дубликатов по социальному статусу: 236\n"
     ]
    }
   ],
   "source": [
    "social = df[df[['surname', 'geography','gender', 'age']].duplicated(keep=False)].sort_values(by=['surname'])\n",
    "print('Число дубликатов по социальному статусу:', int(len(social) / 2))"
   ]
  },
  {
   "cell_type": "code",
   "execution_count": 15,
   "metadata": {},
   "outputs": [
    {
     "data": {
      "text/html": [
       "<div>\n",
       "<style scoped>\n",
       "    .dataframe tbody tr th:only-of-type {\n",
       "        vertical-align: middle;\n",
       "    }\n",
       "\n",
       "    .dataframe tbody tr th {\n",
       "        vertical-align: top;\n",
       "    }\n",
       "\n",
       "    .dataframe thead th {\n",
       "        text-align: right;\n",
       "    }\n",
       "</style>\n",
       "<table border=\"1\" class=\"dataframe\">\n",
       "  <thead>\n",
       "    <tr style=\"text-align: right;\">\n",
       "      <th></th>\n",
       "      <th>rownumber</th>\n",
       "      <th>customerid</th>\n",
       "      <th>surname</th>\n",
       "      <th>creditscore</th>\n",
       "      <th>geography</th>\n",
       "      <th>gender</th>\n",
       "      <th>age</th>\n",
       "      <th>tenure</th>\n",
       "      <th>balance</th>\n",
       "      <th>numofproducts</th>\n",
       "      <th>hascrcard</th>\n",
       "      <th>isactivemember</th>\n",
       "      <th>estimatedsalary</th>\n",
       "      <th>exited</th>\n",
       "    </tr>\n",
       "  </thead>\n",
       "  <tbody>\n",
       "    <tr>\n",
       "      <td>8914</td>\n",
       "      <td>8927</td>\n",
       "      <td>15709136</td>\n",
       "      <td>Adams</td>\n",
       "      <td>620</td>\n",
       "      <td>France</td>\n",
       "      <td>Male</td>\n",
       "      <td>28</td>\n",
       "      <td>8.0</td>\n",
       "      <td>0.00</td>\n",
       "      <td>2</td>\n",
       "      <td>1</td>\n",
       "      <td>1</td>\n",
       "      <td>199909.32</td>\n",
       "      <td>0</td>\n",
       "    </tr>\n",
       "    <tr>\n",
       "      <td>3457</td>\n",
       "      <td>3467</td>\n",
       "      <td>15631339</td>\n",
       "      <td>Adams</td>\n",
       "      <td>791</td>\n",
       "      <td>France</td>\n",
       "      <td>Male</td>\n",
       "      <td>28</td>\n",
       "      <td>4.0</td>\n",
       "      <td>0.00</td>\n",
       "      <td>1</td>\n",
       "      <td>1</td>\n",
       "      <td>0</td>\n",
       "      <td>174435.48</td>\n",
       "      <td>0</td>\n",
       "    </tr>\n",
       "    <tr>\n",
       "      <td>9768</td>\n",
       "      <td>9784</td>\n",
       "      <td>15680430</td>\n",
       "      <td>Ajuluchukwu</td>\n",
       "      <td>601</td>\n",
       "      <td>Germany</td>\n",
       "      <td>Female</td>\n",
       "      <td>49</td>\n",
       "      <td>4.0</td>\n",
       "      <td>96252.98</td>\n",
       "      <td>2</td>\n",
       "      <td>1</td>\n",
       "      <td>0</td>\n",
       "      <td>104263.82</td>\n",
       "      <td>0</td>\n",
       "    </tr>\n",
       "    <tr>\n",
       "      <td>8813</td>\n",
       "      <td>8826</td>\n",
       "      <td>15797081</td>\n",
       "      <td>Ajuluchukwu</td>\n",
       "      <td>611</td>\n",
       "      <td>Germany</td>\n",
       "      <td>Female</td>\n",
       "      <td>49</td>\n",
       "      <td>9.0</td>\n",
       "      <td>115488.52</td>\n",
       "      <td>2</td>\n",
       "      <td>1</td>\n",
       "      <td>1</td>\n",
       "      <td>138656.81</td>\n",
       "      <td>1</td>\n",
       "    </tr>\n",
       "    <tr>\n",
       "      <td>3834</td>\n",
       "      <td>3844</td>\n",
       "      <td>15677804</td>\n",
       "      <td>Aliyeva</td>\n",
       "      <td>783</td>\n",
       "      <td>Spain</td>\n",
       "      <td>Male</td>\n",
       "      <td>38</td>\n",
       "      <td>1.0</td>\n",
       "      <td>0.00</td>\n",
       "      <td>3</td>\n",
       "      <td>1</td>\n",
       "      <td>1</td>\n",
       "      <td>80178.54</td>\n",
       "      <td>1</td>\n",
       "    </tr>\n",
       "    <tr>\n",
       "      <td>1846</td>\n",
       "      <td>1853</td>\n",
       "      <td>15573741</td>\n",
       "      <td>Aliyeva</td>\n",
       "      <td>698</td>\n",
       "      <td>Spain</td>\n",
       "      <td>Male</td>\n",
       "      <td>38</td>\n",
       "      <td>10.0</td>\n",
       "      <td>95010.92</td>\n",
       "      <td>1</td>\n",
       "      <td>1</td>\n",
       "      <td>1</td>\n",
       "      <td>105227.86</td>\n",
       "      <td>0</td>\n",
       "    </tr>\n",
       "    <tr>\n",
       "      <td>6039</td>\n",
       "      <td>6049</td>\n",
       "      <td>15676433</td>\n",
       "      <td>Allan</td>\n",
       "      <td>707</td>\n",
       "      <td>France</td>\n",
       "      <td>Female</td>\n",
       "      <td>36</td>\n",
       "      <td>6.0</td>\n",
       "      <td>0.00</td>\n",
       "      <td>1</td>\n",
       "      <td>0</td>\n",
       "      <td>0</td>\n",
       "      <td>98810.78</td>\n",
       "      <td>0</td>\n",
       "    </tr>\n",
       "    <tr>\n",
       "      <td>3233</td>\n",
       "      <td>3243</td>\n",
       "      <td>15729908</td>\n",
       "      <td>Allan</td>\n",
       "      <td>411</td>\n",
       "      <td>France</td>\n",
       "      <td>Female</td>\n",
       "      <td>36</td>\n",
       "      <td>10.0</td>\n",
       "      <td>0.00</td>\n",
       "      <td>1</td>\n",
       "      <td>0</td>\n",
       "      <td>0</td>\n",
       "      <td>120694.35</td>\n",
       "      <td>0</td>\n",
       "    </tr>\n",
       "    <tr>\n",
       "      <td>4529</td>\n",
       "      <td>4539</td>\n",
       "      <td>15676835</td>\n",
       "      <td>Anayolisa</td>\n",
       "      <td>710</td>\n",
       "      <td>Spain</td>\n",
       "      <td>Male</td>\n",
       "      <td>33</td>\n",
       "      <td>1.0</td>\n",
       "      <td>0.00</td>\n",
       "      <td>2</td>\n",
       "      <td>1</td>\n",
       "      <td>0</td>\n",
       "      <td>168313.17</td>\n",
       "      <td>0</td>\n",
       "    </tr>\n",
       "    <tr>\n",
       "      <td>8828</td>\n",
       "      <td>8841</td>\n",
       "      <td>15646969</td>\n",
       "      <td>Anayolisa</td>\n",
       "      <td>776</td>\n",
       "      <td>Spain</td>\n",
       "      <td>Male</td>\n",
       "      <td>33</td>\n",
       "      <td>2.0</td>\n",
       "      <td>0.00</td>\n",
       "      <td>2</td>\n",
       "      <td>1</td>\n",
       "      <td>1</td>\n",
       "      <td>176921.00</td>\n",
       "      <td>0</td>\n",
       "    </tr>\n",
       "  </tbody>\n",
       "</table>\n",
       "</div>"
      ],
      "text/plain": [
       "      rownumber  customerid      surname  creditscore geography  gender  age  \\\n",
       "8914       8927    15709136        Adams          620    France    Male   28   \n",
       "3457       3467    15631339        Adams          791    France    Male   28   \n",
       "9768       9784    15680430  Ajuluchukwu          601   Germany  Female   49   \n",
       "8813       8826    15797081  Ajuluchukwu          611   Germany  Female   49   \n",
       "3834       3844    15677804      Aliyeva          783     Spain    Male   38   \n",
       "1846       1853    15573741      Aliyeva          698     Spain    Male   38   \n",
       "6039       6049    15676433        Allan          707    France  Female   36   \n",
       "3233       3243    15729908        Allan          411    France  Female   36   \n",
       "4529       4539    15676835    Anayolisa          710     Spain    Male   33   \n",
       "8828       8841    15646969    Anayolisa          776     Spain    Male   33   \n",
       "\n",
       "      tenure    balance  numofproducts  hascrcard  isactivemember  \\\n",
       "8914     8.0       0.00              2          1               1   \n",
       "3457     4.0       0.00              1          1               0   \n",
       "9768     4.0   96252.98              2          1               0   \n",
       "8813     9.0  115488.52              2          1               1   \n",
       "3834     1.0       0.00              3          1               1   \n",
       "1846    10.0   95010.92              1          1               1   \n",
       "6039     6.0       0.00              1          0               0   \n",
       "3233    10.0       0.00              1          0               0   \n",
       "4529     1.0       0.00              2          1               0   \n",
       "8828     2.0       0.00              2          1               1   \n",
       "\n",
       "      estimatedsalary  exited  \n",
       "8914        199909.32       0  \n",
       "3457        174435.48       0  \n",
       "9768        104263.82       0  \n",
       "8813        138656.81       1  \n",
       "3834         80178.54       1  \n",
       "1846        105227.86       0  \n",
       "6039         98810.78       0  \n",
       "3233        120694.35       0  \n",
       "4529        168313.17       0  \n",
       "8828        176921.00       0  "
      ]
     },
     "execution_count": 15,
     "metadata": {},
     "output_type": "execute_result"
    }
   ],
   "source": [
    "social.head(10)"
   ]
  },
  {
   "cell_type": "markdown",
   "metadata": {},
   "source": [
    "В основном записи совпадают по столбцам фильтрации, количественные характеристики различаются. Дублирующие значения удалять не будем.\n",
    "\n",
    "Исследуем пропуски в столбце `Tenure`:"
   ]
  },
  {
   "cell_type": "code",
   "execution_count": 16,
   "metadata": {},
   "outputs": [
    {
     "data": {
      "image/png": "[encoded data removed]",
      "text/plain": [
       "<Figure size 1296x432 with 1 Axes>"
      ]
     },
     "metadata": {},
     "output_type": "display_data"
    }
   ],
   "source": [
    "tenure = (df['tenure'].value_counts(dropna=False).sort_index()\n",
    "          .reset_index().rename(columns={'index':'tenure', 'tenure':'count'}).round(2).fillna(value='NaN'))\n",
    "clrs = ['red' if x == 'NaN' else '#4287f5' for x in tenure['tenure']]\n",
    "sns.barplot(data=tenure, x ='tenure', y='count', palette=clrs)\n",
    "for index, value in enumerate(tenure['count']):\n",
    "    plt.text(index, value, '{:.1%}'.format(value/tenure['count'].sum()), ha='center', va='bottom')\n",
    "plt.title('Распределение числа записей по количеству недвижимости у клиентов')\n",
    "plt.show()"
   ]
  },
  {
   "cell_type": "markdown",
   "metadata": {},
   "source": [
    "Поскольку модели не получится обучить по датасету с пропусками, их необходимо будет либо заполнить, либо удалить. Заполнить их будет сложнее, посольку клиентов придется сегментировать. \n",
    "\n",
    "Изучим соотношение распределения классов при фильтрации по пропускам и посмотрим, как изменится соотношение после потенциальной очистки:"
   ]
  },
  {
   "cell_type": "code",
   "execution_count": 17,
   "metadata": {},
   "outputs": [
    {
     "data": {
      "image/png": "[encoded data removed]",
      "text/plain": [
       "<Figure size 1224x1008 with 3 Axes>"
      ]
     },
     "metadata": {},
     "output_type": "display_data"
    }
   ],
   "source": [
    "def pie_chart(data,title):\n",
    "    colors = ['#46dff0', '#f04665']\n",
    "    values = data['exited'].value_counts()\n",
    "    values.plot(kind='pie',colors=colors, autopct=lambda x: '{:.0f}%\\n{:.0f}'.format(x, x*values.sum()/100), \n",
    "                shadow=True, labels=None)\n",
    "    plt.legend(values.index, loc='upper right') \n",
    "    plt.tight_layout()\n",
    "    plt.title(title)\n",
    "plt.subplots(figsize=(17, 14))\n",
    "plt.subplot(1,3,1)\n",
    "pie_chart(df,'Общее распределение классов в датафрейме')\n",
    "plt.subplot(1,3,2)\n",
    "pie_chart(df[df['tenure'].isna()],'Распределение классов по пропускам в Tenure')\n",
    "plt.subplot(1,3,3)\n",
    "pie_chart(df[~df['tenure'].isna()],'Распределение классов после фильтрации')\n",
    "plt.show()"
   ]
  },
  {
   "cell_type": "markdown",
   "metadata": {},
   "source": [
    "Целевой признак распеределен по пропускам точно так же, как и по всему датасету, очистка не повлияет на баланс классов, также при удалении пропусков размер датафрейма не сократится более чем на 10%."
   ]
  },
  {
   "cell_type": "code",
   "execution_count": 18,
   "metadata": {},
   "outputs": [
    {
     "name": "stdout",
     "output_type": "stream",
     "text": [
      "Данных после очистки пропусков 9078, было удалено 907 записей, датафрейм уменьшился на 9.1%\n"
     ]
    }
   ],
   "source": [
    "before = len(df)\n",
    "df = df.dropna(subset=['tenure']).reset_index(drop=True)\n",
    "after = len(df)\n",
    "print(f'Данных после очистки пропусков {after}, было удалено {before-after} записей, датафрейм уменьшился на {round(1-after/before,3)*100}%')"
   ]
  },
  {
   "cell_type": "markdown",
   "metadata": {},
   "source": [
    "Исследуем признаки на мультиколлинеарность:"
   ]
  },
  {
   "cell_type": "code",
   "execution_count": 19,
   "metadata": {},
   "outputs": [
    {
     "data": {
      "image/png": "[encoded data removed]",
      "text/plain": [
       "<Figure size 720x720 with 2 Axes>"
      ]
     },
     "metadata": {},
     "output_type": "display_data"
    }
   ],
   "source": [
    "multicorr = df.select_dtypes(include=['int64','float64']).drop(['customerid', 'rownumber'], axis=1).corr().round(2)\n",
    "plt.figure(figsize=(10,10))\n",
    "sns.heatmap(data=multicorr, annot=True, square=True, center=0, vmin=-1, vmax=1, cmap=\"YlGnBu_r\", linewidths=.2)\n",
    "plt.title(('График взаимной корреляции признаков').center(200))\n",
    "plt.show()"
   ]
  },
  {
   "cell_type": "markdown",
   "metadata": {},
   "source": [
    "Согласно полученным данным, в датасете нет сильно скоррелированных между собой признаков."
   ]
  },
  {
   "cell_type": "markdown",
   "metadata": {},
   "source": [
    "### Вывод"
   ]
  },
  {
   "cell_type": "markdown",
   "metadata": {},
   "source": [
    "На этом этапе исследовали признаки, изучили их распределения и выполнили предобработку:\n",
    "- Удалили выбросы и пропуски - датасет у меньшился на 9%\n",
    "- Классы не сбалансированы, записей 1-го класса только 20%\n",
    "- Мультиколлинеарности в данных нет"
   ]
  },
  {
   "cell_type": "markdown",
   "metadata": {},
   "source": [
    "---\n",
    "<a id='model_selection'></a>\n",
    "## 3. Подготовка данных\n",
    "\n",
    "Проведем кодирование данных для модели случайного леса:"
   ]
  },
  {
   "cell_type": "code",
   "execution_count": 20,
   "metadata": {},
   "outputs": [],
   "source": [
    "df_encoded = df.drop(['surname', 'rownumber','customerid'], axis=1).copy()\n",
    "encoder = OrdinalEncoder()\n",
    "df_encoded = pd.DataFrame(data=encoder.fit_transform(df_encoded), columns=df_encoded.columns)"
   ]
  },
  {
   "cell_type": "code",
   "execution_count": 21,
   "metadata": {},
   "outputs": [],
   "source": [
    "features = df_encoded.drop('exited', axis=1)\n",
    "target = df_encoded['exited']"
   ]
  },
  {
   "cell_type": "markdown",
   "metadata": {},
   "source": [
    "Разобьем данные на обучающую, валидационную и тестовую выборки:"
   ]
  },
  {
   "cell_type": "code",
   "execution_count": 22,
   "metadata": {},
   "outputs": [],
   "source": [
    "features_train, features_val, target_train, target_val  = train_test_split(features, target, test_size=0.2, \n",
    "                                                                           stratify=target,\n",
    "                                                                           random_state=42)\n",
    "features_train, features_test, target_train, target_test = train_test_split(features_train, target_train, \n",
    "                                                                            stratify=target_train,\n",
    "                                                                            test_size=0.25, random_state=42)"
   ]
  },
  {
   "cell_type": "markdown",
   "metadata": {},
   "source": [
    "Проведем стандартизацию данных:"
   ]
  },
  {
   "cell_type": "code",
   "execution_count": 23,
   "metadata": {},
   "outputs": [],
   "source": [
    "columns = (features[features.columns].mean() > 2).to_frame(name='cols').query('cols == True').index.tolist()\n",
    "scaler = StandardScaler()\n",
    "features_train[columns] = scaler.fit_transform(features_train[columns])\n",
    "features_val = features_val.copy()\n",
    "features_val[columns] = scaler.transform(features_val[columns])\n",
    "features_test = features_test.copy()\n",
    "features_test[columns] = scaler.transform(features_test[columns])"
   ]
  },
  {
   "cell_type": "code",
   "execution_count": 24,
   "metadata": {},
   "outputs": [
    {
     "data": {
      "text/html": [
       "<div>\n",
       "<style scoped>\n",
       "    .dataframe tbody tr th:only-of-type {\n",
       "        vertical-align: middle;\n",
       "    }\n",
       "\n",
       "    .dataframe tbody tr th {\n",
       "        vertical-align: top;\n",
       "    }\n",
       "\n",
       "    .dataframe thead th {\n",
       "        text-align: right;\n",
       "    }\n",
       "</style>\n",
       "<table border=\"1\" class=\"dataframe\">\n",
       "  <thead>\n",
       "    <tr style=\"text-align: right;\">\n",
       "      <th></th>\n",
       "      <th>creditscore</th>\n",
       "      <th>geography</th>\n",
       "      <th>gender</th>\n",
       "      <th>age</th>\n",
       "      <th>tenure</th>\n",
       "      <th>balance</th>\n",
       "      <th>numofproducts</th>\n",
       "      <th>hascrcard</th>\n",
       "      <th>isactivemember</th>\n",
       "      <th>estimatedsalary</th>\n",
       "    </tr>\n",
       "  </thead>\n",
       "  <tbody>\n",
       "    <tr>\n",
       "      <td>2831</td>\n",
       "      <td>0.025467</td>\n",
       "      <td>2.0</td>\n",
       "      <td>1.0</td>\n",
       "      <td>-0.856711</td>\n",
       "      <td>-0.334893</td>\n",
       "      <td>-0.961795</td>\n",
       "      <td>1.0</td>\n",
       "      <td>1.0</td>\n",
       "      <td>0.0</td>\n",
       "      <td>0.369891</td>\n",
       "    </tr>\n",
       "    <tr>\n",
       "      <td>6882</td>\n",
       "      <td>1.490979</td>\n",
       "      <td>2.0</td>\n",
       "      <td>0.0</td>\n",
       "      <td>-0.856711</td>\n",
       "      <td>-1.379667</td>\n",
       "      <td>1.692179</td>\n",
       "      <td>0.0</td>\n",
       "      <td>0.0</td>\n",
       "      <td>1.0</td>\n",
       "      <td>0.988675</td>\n",
       "    </tr>\n",
       "    <tr>\n",
       "      <td>5823</td>\n",
       "      <td>0.919325</td>\n",
       "      <td>0.0</td>\n",
       "      <td>0.0</td>\n",
       "      <td>-1.801633</td>\n",
       "      <td>-0.334893</td>\n",
       "      <td>1.106317</td>\n",
       "      <td>0.0</td>\n",
       "      <td>0.0</td>\n",
       "      <td>1.0</td>\n",
       "      <td>0.890189</td>\n",
       "    </tr>\n",
       "  </tbody>\n",
       "</table>\n",
       "</div>"
      ],
      "text/plain": [
       "      creditscore  geography  gender       age    tenure   balance  \\\n",
       "2831     0.025467        2.0     1.0 -0.856711 -0.334893 -0.961795   \n",
       "6882     1.490979        2.0     0.0 -0.856711 -1.379667  1.692179   \n",
       "5823     0.919325        0.0     0.0 -1.801633 -0.334893  1.106317   \n",
       "\n",
       "      numofproducts  hascrcard  isactivemember  estimatedsalary  \n",
       "2831            1.0        1.0             0.0         0.369891  \n",
       "6882            0.0        0.0             1.0         0.988675  \n",
       "5823            0.0        0.0             1.0         0.890189  "
      ]
     },
     "metadata": {},
     "output_type": "display_data"
    },
    {
     "data": {
      "text/html": [
       "<div>\n",
       "<style scoped>\n",
       "    .dataframe tbody tr th:only-of-type {\n",
       "        vertical-align: middle;\n",
       "    }\n",
       "\n",
       "    .dataframe tbody tr th {\n",
       "        vertical-align: top;\n",
       "    }\n",
       "\n",
       "    .dataframe thead th {\n",
       "        text-align: right;\n",
       "    }\n",
       "</style>\n",
       "<table border=\"1\" class=\"dataframe\">\n",
       "  <thead>\n",
       "    <tr style=\"text-align: right;\">\n",
       "      <th></th>\n",
       "      <th>creditscore</th>\n",
       "      <th>geography</th>\n",
       "      <th>gender</th>\n",
       "      <th>age</th>\n",
       "      <th>tenure</th>\n",
       "      <th>balance</th>\n",
       "      <th>numofproducts</th>\n",
       "      <th>hascrcard</th>\n",
       "      <th>isactivemember</th>\n",
       "      <th>estimatedsalary</th>\n",
       "    </tr>\n",
       "  </thead>\n",
       "  <tbody>\n",
       "    <tr>\n",
       "      <td>7209</td>\n",
       "      <td>-1.398470</td>\n",
       "      <td>1.0</td>\n",
       "      <td>0.0</td>\n",
       "      <td>-0.573234</td>\n",
       "      <td>1.754656</td>\n",
       "      <td>1.275555</td>\n",
       "      <td>0.0</td>\n",
       "      <td>1.0</td>\n",
       "      <td>1.0</td>\n",
       "      <td>0.489754</td>\n",
       "    </tr>\n",
       "    <tr>\n",
       "      <td>1447</td>\n",
       "      <td>1.137593</td>\n",
       "      <td>1.0</td>\n",
       "      <td>0.0</td>\n",
       "      <td>0.938641</td>\n",
       "      <td>1.406397</td>\n",
       "      <td>-0.465986</td>\n",
       "      <td>0.0</td>\n",
       "      <td>1.0</td>\n",
       "      <td>0.0</td>\n",
       "      <td>0.315303</td>\n",
       "    </tr>\n",
       "    <tr>\n",
       "      <td>5754</td>\n",
       "      <td>1.449404</td>\n",
       "      <td>2.0</td>\n",
       "      <td>1.0</td>\n",
       "      <td>-0.195265</td>\n",
       "      <td>1.058139</td>\n",
       "      <td>-0.961795</td>\n",
       "      <td>1.0</td>\n",
       "      <td>1.0</td>\n",
       "      <td>1.0</td>\n",
       "      <td>0.871866</td>\n",
       "    </tr>\n",
       "  </tbody>\n",
       "</table>\n",
       "</div>"
      ],
      "text/plain": [
       "      creditscore  geography  gender       age    tenure   balance  \\\n",
       "7209    -1.398470        1.0     0.0 -0.573234  1.754656  1.275555   \n",
       "1447     1.137593        1.0     0.0  0.938641  1.406397 -0.465986   \n",
       "5754     1.449404        2.0     1.0 -0.195265  1.058139 -0.961795   \n",
       "\n",
       "      numofproducts  hascrcard  isactivemember  estimatedsalary  \n",
       "7209            0.0        1.0             1.0         0.489754  \n",
       "1447            0.0        1.0             0.0         0.315303  \n",
       "5754            1.0        1.0             1.0         0.871866  "
      ]
     },
     "metadata": {},
     "output_type": "display_data"
    },
    {
     "data": {
      "text/html": [
       "<div>\n",
       "<style scoped>\n",
       "    .dataframe tbody tr th:only-of-type {\n",
       "        vertical-align: middle;\n",
       "    }\n",
       "\n",
       "    .dataframe tbody tr th {\n",
       "        vertical-align: top;\n",
       "    }\n",
       "\n",
       "    .dataframe thead th {\n",
       "        text-align: right;\n",
       "    }\n",
       "</style>\n",
       "<table border=\"1\" class=\"dataframe\">\n",
       "  <thead>\n",
       "    <tr style=\"text-align: right;\">\n",
       "      <th></th>\n",
       "      <th>creditscore</th>\n",
       "      <th>geography</th>\n",
       "      <th>gender</th>\n",
       "      <th>age</th>\n",
       "      <th>tenure</th>\n",
       "      <th>balance</th>\n",
       "      <th>numofproducts</th>\n",
       "      <th>hascrcard</th>\n",
       "      <th>isactivemember</th>\n",
       "      <th>estimatedsalary</th>\n",
       "    </tr>\n",
       "  </thead>\n",
       "  <tbody>\n",
       "    <tr>\n",
       "      <td>7544</td>\n",
       "      <td>-1.356895</td>\n",
       "      <td>0.0</td>\n",
       "      <td>0.0</td>\n",
       "      <td>-0.006281</td>\n",
       "      <td>0.361623</td>\n",
       "      <td>1.474292</td>\n",
       "      <td>0.0</td>\n",
       "      <td>0.0</td>\n",
       "      <td>0.0</td>\n",
       "      <td>0.091228</td>\n",
       "    </tr>\n",
       "    <tr>\n",
       "      <td>4957</td>\n",
       "      <td>-0.026501</td>\n",
       "      <td>1.0</td>\n",
       "      <td>1.0</td>\n",
       "      <td>0.466180</td>\n",
       "      <td>1.406397</td>\n",
       "      <td>0.206306</td>\n",
       "      <td>1.0</td>\n",
       "      <td>1.0</td>\n",
       "      <td>1.0</td>\n",
       "      <td>-0.131703</td>\n",
       "    </tr>\n",
       "    <tr>\n",
       "      <td>2274</td>\n",
       "      <td>0.680270</td>\n",
       "      <td>0.0</td>\n",
       "      <td>0.0</td>\n",
       "      <td>-0.951203</td>\n",
       "      <td>1.754656</td>\n",
       "      <td>-0.541030</td>\n",
       "      <td>0.0</td>\n",
       "      <td>1.0</td>\n",
       "      <td>1.0</td>\n",
       "      <td>1.441026</td>\n",
       "    </tr>\n",
       "  </tbody>\n",
       "</table>\n",
       "</div>"
      ],
      "text/plain": [
       "      creditscore  geography  gender       age    tenure   balance  \\\n",
       "7544    -1.356895        0.0     0.0 -0.006281  0.361623  1.474292   \n",
       "4957    -0.026501        1.0     1.0  0.466180  1.406397  0.206306   \n",
       "2274     0.680270        0.0     0.0 -0.951203  1.754656 -0.541030   \n",
       "\n",
       "      numofproducts  hascrcard  isactivemember  estimatedsalary  \n",
       "7544            0.0        0.0             0.0         0.091228  \n",
       "4957            1.0        1.0             1.0        -0.131703  \n",
       "2274            0.0        1.0             1.0         1.441026  "
      ]
     },
     "metadata": {},
     "output_type": "display_data"
    }
   ],
   "source": [
    "display(features_train.head(3))\n",
    "display(features_val.head(3))\n",
    "display(features_test.head(3))"
   ]
  },
  {
   "cell_type": "markdown",
   "metadata": {},
   "source": [
    "Изучим размеры тренировочной, валидационной и тестовой выборок после разделения:"
   ]
  },
  {
   "cell_type": "code",
   "execution_count": 25,
   "metadata": {},
   "outputs": [],
   "source": [
    "def size(data):\n",
    "    print('Размер датасета после разделения на выборки {:.0%}'.format(len(data)/len(features)))"
   ]
  },
  {
   "cell_type": "code",
   "execution_count": 26,
   "metadata": {},
   "outputs": [
    {
     "name": "stdout",
     "output_type": "stream",
     "text": [
      "Размер датасета после разделения на выборки 60%\n"
     ]
    }
   ],
   "source": [
    "size(features_train)"
   ]
  },
  {
   "cell_type": "code",
   "execution_count": 27,
   "metadata": {},
   "outputs": [
    {
     "name": "stdout",
     "output_type": "stream",
     "text": [
      "Размер датасета после разделения на выборки 20%\n"
     ]
    }
   ],
   "source": [
    "size(features_val)"
   ]
  },
  {
   "cell_type": "code",
   "execution_count": 28,
   "metadata": {
    "scrolled": true
   },
   "outputs": [
    {
     "name": "stdout",
     "output_type": "stream",
     "text": [
      "Размер датасета после разделения на выборки 20%\n"
     ]
    }
   ],
   "source": [
    "size(features_test)"
   ]
  },
  {
   "cell_type": "markdown",
   "metadata": {},
   "source": [
    "Распределение классов после разделения:"
   ]
  },
  {
   "cell_type": "code",
   "execution_count": 29,
   "metadata": {},
   "outputs": [
    {
     "data": {
      "image/png": "[encoded data removed]",
      "text/plain": [
       "<Figure size 1224x1008 with 3 Axes>"
      ]
     },
     "metadata": {},
     "output_type": "display_data"
    }
   ],
   "source": [
    "plt.subplots(figsize=(17, 14))\n",
    "plt.subplot(1,3,1)\n",
    "pie_chart(target_train.to_frame('exited'),'Распределение классов для обучающей выборки')\n",
    "plt.subplot(1,3,2)\n",
    "pie_chart(target_val.to_frame('exited'),'Распределение классов для валидационной выборки')\n",
    "plt.subplot(1,3,3)\n",
    "pie_chart(target_test.to_frame('exited'),'Распределение классов для тестовой выборки')\n",
    "plt.show()"
   ]
  },
  {
   "cell_type": "markdown",
   "metadata": {},
   "source": [
    "Дополнительно убедимся, что записи в тестовой и валидационной выборке после разделения никак не могут пересекаться:"
   ]
  },
  {
   "cell_type": "code",
   "execution_count": 30,
   "metadata": {},
   "outputs": [
    {
     "name": "stdout",
     "output_type": "stream",
     "text": [
      "Число уникальных индексов в объединенной тестовой и валидационной выборке: 3632\n"
     ]
    }
   ],
   "source": [
    "print('Число уникальных индексов в объединенной тестовой и валидационной выборке:',\n",
    "      len(set(target_val.index).union(set(target_test.index))))"
   ]
  },
  {
   "cell_type": "markdown",
   "metadata": {},
   "source": [
    "Отдельно подготовим данные для модели логистической регрессии. Поскольку модели должны обучаться на одних и тех же данных, используем уже разбитые выборки и перекодируем столбцы `geography` и `gender`."
   ]
  },
  {
   "cell_type": "code",
   "execution_count": 31,
   "metadata": {},
   "outputs": [],
   "source": [
    "features_train_log = features_train.copy()\n",
    "features_val_log = features_val.copy()\n",
    "features_test_log = features_test.copy()\n",
    "log_sample = [features_train_log, features_val_log, features_test_log]\n",
    "\n",
    "for i in log_sample:\n",
    "    i[['geography','gender']] = df[['geography','gender']]\n",
    "\n",
    "features_train_log = pd.get_dummies(features_train_log, drop_first=True)\n",
    "features_val_log = pd.get_dummies(features_val_log, drop_first=True)\n",
    "features_test_log = pd.get_dummies(features_test_log, drop_first=True)"
   ]
  },
  {
   "cell_type": "markdown",
   "metadata": {},
   "source": [
    "### Вывод"
   ]
  },
  {
   "cell_type": "markdown",
   "metadata": {},
   "source": [
    "На этом этапе подготовили данные для случайного леса и логистической регрессии, было проведено:\n",
    "- кодирование категориальных признаков\n",
    "- стандартизация данных\n",
    "- разделение данных по принципу 3:1:1 на обучающую, валидационную и тестовую выборки. Баланс классов сохранился после раздления от изначального."
   ]
  },
  {
   "cell_type": "markdown",
   "metadata": {},
   "source": [
    "--- \n",
    "<a id='dis'></a>\n",
    "## 4. Исследование моделей без учета дисбаланса классов\n",
    "\n",
    "Построим модель случайного леса:"
   ]
  },
  {
   "cell_type": "code",
   "execution_count": 32,
   "metadata": {},
   "outputs": [],
   "source": [
    "model = RandomForestClassifier(n_estimators=10, max_depth=17, random_state=42)\n",
    "model.fit(features_train,target_train)\n",
    "preds_val = model.predict(features_val)"
   ]
  },
  {
   "cell_type": "code",
   "execution_count": 33,
   "metadata": {},
   "outputs": [
    {
     "data": {
      "image/png": "[encoded data removed]",
      "text/plain": [
       "<Figure size 504x504 with 2 Axes>"
      ]
     },
     "metadata": {},
     "output_type": "display_data"
    }
   ],
   "source": [
    "def conf_matr(target, preds):\n",
    "    plt.figure(figsize=(7,7))\n",
    "    sns.heatmap(data=confusion_matrix(target, preds), square=True, annot=True, fmt=\"d\", cmap=\"YlGnBu_r\", \n",
    "                linewidths=.5, center=confusion_matrix(target, preds)[1].sum())\n",
    "    plt.title(('Матрица неточностей').center(200))\n",
    "    plt.show()\n",
    "conf_matr(target_val, preds_val)"
   ]
  },
  {
   "cell_type": "code",
   "execution_count": 34,
   "metadata": {},
   "outputs": [
    {
     "name": "stdout",
     "output_type": "stream",
     "text": [
      "              precision    recall  f1-score   support\n",
      "\n",
      "         0.0       0.86      0.96      0.91      1448\n",
      "         1.0       0.72      0.40      0.52       368\n",
      "\n",
      "    accuracy                           0.85      1816\n",
      "   macro avg       0.79      0.68      0.71      1816\n",
      "weighted avg       0.83      0.85      0.83      1816\n",
      "\n",
      "ROC_AUC score: 0.68\n"
     ]
    }
   ],
   "source": [
    "def report(target, preds):\n",
    "    print(classification_report(target, preds))\n",
    "    print('ROC_AUC score: {:.2f}'.format(roc_auc_score(target, preds)))\n",
    "report(target_val, preds_val)"
   ]
  },
  {
   "cell_type": "markdown",
   "metadata": {},
   "source": [
    "У обученной модели случайного леса не очень высокая метрика полноты, она не очень хорошо различает первый класс: больше половины всех записей класса 1 она классифицировала как 0. При этом у неё неплохая точность - она намного реже ошибочно классифицирует нулевые значения - всего в 28% случаев. \n",
    "Метрика f1_score = 0.52, а мощность модели 0.68, что говорит о том, что все же какой-то предсказательной силой модель обладает."
   ]
  },
  {
   "cell_type": "markdown",
   "metadata": {},
   "source": [
    "Проверка модели на адекватность:"
   ]
  },
  {
   "cell_type": "code",
   "execution_count": 35,
   "metadata": {},
   "outputs": [],
   "source": [
    "def model_test(target):\n",
    "    zero_val = pd.Series(0 for i in range(len(target)))\n",
    "    print(\"ROC_AUC: {:.2f}, Accuracy: {:.2f}\".format(roc_auc_score(target, zero_val), \n",
    "                                                 accuracy_score(target, zero_val)))"
   ]
  },
  {
   "cell_type": "code",
   "execution_count": 36,
   "metadata": {},
   "outputs": [
    {
     "name": "stdout",
     "output_type": "stream",
     "text": [
      "ROC_AUC: 0.50, Accuracy: 0.80\n"
     ]
    }
   ],
   "source": [
    "model_test(target_val)"
   ]
  },
  {
   "cell_type": "markdown",
   "metadata": {},
   "source": [
    "Accuracy константной модели ниже на 5%"
   ]
  },
  {
   "cell_type": "markdown",
   "metadata": {},
   "source": [
    "Построим модель логистической регрессии без учета дисбаланса классов:"
   ]
  },
  {
   "cell_type": "code",
   "execution_count": 37,
   "metadata": {},
   "outputs": [
    {
     "data": {
      "image/png": "[encoded data removed]",
      "text/plain": [
       "<Figure size 504x504 with 2 Axes>"
      ]
     },
     "metadata": {},
     "output_type": "display_data"
    },
    {
     "name": "stdout",
     "output_type": "stream",
     "text": [
      "\n",
      "              precision    recall  f1-score   support\n",
      "\n",
      "         0.0       0.83      0.97      0.89      1448\n",
      "         1.0       0.60      0.20      0.30       368\n",
      "\n",
      "    accuracy                           0.81      1816\n",
      "   macro avg       0.71      0.58      0.59      1816\n",
      "weighted avg       0.78      0.81      0.77      1816\n",
      "\n",
      "ROC_AUC score: 0.58\n"
     ]
    }
   ],
   "source": [
    "model_log = LogisticRegression(solver='liblinear', random_state=42)\n",
    "model_log.fit(features_train_log, target_train)\n",
    "preds_val_log = model_log.predict(features_val_log)\n",
    "\n",
    "def all_metrics(target, predictions):\n",
    "    conf_matr(target, predictions)\n",
    "    print()\n",
    "    report(target, predictions)\n",
    "    \n",
    "all_metrics(target_val, preds_val_log)"
   ]
  },
  {
   "cell_type": "markdown",
   "metadata": {},
   "source": [
    "Модель логистической регерссии очень плохо угадывает первый класс - всего 20% правильных ответов или 73 записи из 368, метрика мощности ROC_AUC близка к случайной модели, f1_score так же очень низкий - всего 0.30. Accuracy этой модели выше всего на 1% случайной."
   ]
  },
  {
   "cell_type": "markdown",
   "metadata": {},
   "source": [
    "### Вывод"
   ]
  },
  {
   "cell_type": "markdown",
   "metadata": {},
   "source": [
    "На этом этапе обучали модели без учета дисбаланса классов.\n",
    "\n",
    "Для случайного леса получены следующие результаты метрик:\n",
    "- recall: 0.45\n",
    "- precision: 0.69\n",
    "- f1_score: 0.55\n",
    "- roc_auc: 0.70\n",
    "\n",
    "Для логистической регрессии получены следующие результаты метрик:\n",
    "- recall: 0.20\n",
    "- precision: 0.60\n",
    "- f1_score: 0.30\n",
    "- roc_auc: 0.58\n",
    "\n",
    "Очевидно, случайный лес намного лучше обучился на несбалансированных данных. Предсказательная сила логистической регрессии близка к уровню случайной модели."
   ]
  },
  {
   "cell_type": "markdown",
   "metadata": {},
   "source": [
    "---\n",
    "<a id='balanced'></a>\n",
    "## 5. Борьба с дисбалансом\n"
   ]
  },
  {
   "cell_type": "markdown",
   "metadata": {},
   "source": [
    "### 5.1 Взвешивание классов и поиск оптимального порога\n",
    "\n",
    "Для модели случайного леса используем параметр class_weight='balanced', чтобы взвесить классы, а при помощи GridSearchCV найдем оптимальные параметры:"
   ]
  },
  {
   "cell_type": "code",
   "execution_count": 38,
   "metadata": {
    "scrolled": true
   },
   "outputs": [
    {
     "name": "stdout",
     "output_type": "stream",
     "text": [
      "{'max_depth': 10, 'n_estimators': 150} 0.6129982721891218\n",
      "CPU times: user 1min 16s, sys: 138 ms, total: 1min 16s\n",
      "Wall time: 1min 17s\n"
     ]
    }
   ],
   "source": [
    "%%time\n",
    "model = RandomForestClassifier(random_state=42, class_weight='balanced')\n",
    "parameters_grid = {\n",
    "    'n_estimators':[50, 100, 150],\n",
    "    'max_depth':[*(range(6,12))]\n",
    "}\n",
    "grid_cv = GridSearchCV(model, parameters_grid, scoring='f1', cv=5)\n",
    "grid_cv.fit(pd.concat([features_train, features_val, features_test]), \n",
    "            pd.concat([target_train, target_val, target_test]))\n",
    "print(grid_cv.best_params_, grid_cv.best_score_)"
   ]
  },
  {
   "cell_type": "code",
   "execution_count": 39,
   "metadata": {},
   "outputs": [],
   "source": [
    "model = RandomForestClassifier(random_state=42, class_weight='balanced', n_estimators=150, max_depth=10)\n",
    "model.fit(features_train, target_train)\n",
    "preds_val = model.predict(features_val)"
   ]
  },
  {
   "cell_type": "code",
   "execution_count": 40,
   "metadata": {},
   "outputs": [
    {
     "data": {
      "image/png": "[encoded data removed]",
      "text/plain": [
       "<Figure size 504x504 with 2 Axes>"
      ]
     },
     "metadata": {},
     "output_type": "display_data"
    },
    {
     "name": "stdout",
     "output_type": "stream",
     "text": [
      "\n",
      "              precision    recall  f1-score   support\n",
      "\n",
      "         0.0       0.90      0.89      0.89      1448\n",
      "         1.0       0.59      0.59      0.59       368\n",
      "\n",
      "    accuracy                           0.83      1816\n",
      "   macro avg       0.74      0.74      0.74      1816\n",
      "weighted avg       0.83      0.83      0.83      1816\n",
      "\n",
      "ROC_AUC score: 0.74\n"
     ]
    }
   ],
   "source": [
    "all_metrics(target_val, preds_val)"
   ]
  },
  {
   "cell_type": "markdown",
   "metadata": {},
   "source": [
    "Удалось достичь более высокого результата для метрики f1_score - 0.59. 59% значений первого класса модель классифицирует верно, точность на том же уровне, что и полнота. Мощность модели 0.74. \n",
    "\n",
    "Попробуем подобрать пороги классификации, чтобы улучшить метрику f1-score - будем подставлять разные значения порога от 0.25 до 0.7 с шагом 0.01, измененную классификацию будем подставлявть в формулы расчета f1-меры и мощности модели:"
   ]
  },
  {
   "cell_type": "code",
   "execution_count": 41,
   "metadata": {},
   "outputs": [],
   "source": [
    "def test_threshold(features, target, model_name):\n",
    "    start=time.time()\n",
    "    values = []\n",
    "    for k in np.arange(0.25, 0.7, 0.01):\n",
    "        new_class = [1 if i > k else 0 for i in model_name.predict_proba(features)[:,1]]\n",
    "        f1=f1_score(target, new_class)\n",
    "        roc=roc_auc_score(target, new_class)\n",
    "        values.append([k,f1,roc])\n",
    "    iterations = pd.DataFrame(data=values, columns=['threshold', 'f1_score', 'roc_auc_score'])\n",
    "    display(iterations[iterations['f1_score']==iterations['f1_score'].max()]\n",
    "            .reset_index(drop=True).stack()[0].to_frame(name='metrics'))\n",
    "    end=time.time()\n",
    "    timing = round(end - start, 2)\n",
    "    print(f'Поиск оптимального порога для метрики f1_score занял {timing} секунд(ы)')"
   ]
  },
  {
   "cell_type": "code",
   "execution_count": 42,
   "metadata": {},
   "outputs": [
    {
     "data": {
      "text/html": [
       "<div>\n",
       "<style scoped>\n",
       "    .dataframe tbody tr th:only-of-type {\n",
       "        vertical-align: middle;\n",
       "    }\n",
       "\n",
       "    .dataframe tbody tr th {\n",
       "        vertical-align: top;\n",
       "    }\n",
       "\n",
       "    .dataframe thead th {\n",
       "        text-align: right;\n",
       "    }\n",
       "</style>\n",
       "<table border=\"1\" class=\"dataframe\">\n",
       "  <thead>\n",
       "    <tr style=\"text-align: right;\">\n",
       "      <th></th>\n",
       "      <th>metrics</th>\n",
       "    </tr>\n",
       "  </thead>\n",
       "  <tbody>\n",
       "    <tr>\n",
       "      <td>threshold</td>\n",
       "      <td>0.510000</td>\n",
       "    </tr>\n",
       "    <tr>\n",
       "      <td>f1_score</td>\n",
       "      <td>0.595862</td>\n",
       "    </tr>\n",
       "    <tr>\n",
       "      <td>roc_auc_score</td>\n",
       "      <td>0.744790</td>\n",
       "    </tr>\n",
       "  </tbody>\n",
       "</table>\n",
       "</div>"
      ],
      "text/plain": [
       "                metrics\n",
       "threshold      0.510000\n",
       "f1_score       0.595862\n",
       "roc_auc_score  0.744790"
      ]
     },
     "metadata": {},
     "output_type": "display_data"
    },
    {
     "name": "stdout",
     "output_type": "stream",
     "text": [
      "Поиск оптимального порога для метрики f1_score занял 3.52 секунд(ы)\n"
     ]
    }
   ],
   "source": [
    "test_threshold(features_val, target_val, model)"
   ]
  },
  {
   "cell_type": "code",
   "execution_count": 43,
   "metadata": {},
   "outputs": [
    {
     "name": "stdout",
     "output_type": "stream",
     "text": [
      "              precision    recall  f1-score   support\n",
      "\n",
      "         0.0       0.90      0.90      0.90      1448\n",
      "         1.0       0.61      0.59      0.60       368\n",
      "\n",
      "    accuracy                           0.84      1816\n",
      "   macro avg       0.75      0.74      0.75      1816\n",
      "weighted avg       0.84      0.84      0.84      1816\n",
      "\n",
      "ROC_AUC score: 0.74\n"
     ]
    }
   ],
   "source": [
    "def thresh_classifier(model_name, features, thresh):\n",
    "     return [1 if i > thresh else 0 for i in model_name.predict_proba(features)[:,1]]\n",
    "report(target_val, thresh_classifier(model, features_val, .51))"
   ]
  },
  {
   "cell_type": "markdown",
   "metadata": {},
   "source": [
    "Метрика F1-score увеличилась, а также выросола точность на 0,02."
   ]
  },
  {
   "cell_type": "markdown",
   "metadata": {},
   "source": [
    "---\n",
    "\n",
    "### 5.2 Уменьшение выборки"
   ]
  },
  {
   "cell_type": "code",
   "execution_count": 44,
   "metadata": {},
   "outputs": [
    {
     "data": {
      "text/html": [
       "<div>\n",
       "<style scoped>\n",
       "    .dataframe tbody tr th:only-of-type {\n",
       "        vertical-align: middle;\n",
       "    }\n",
       "\n",
       "    .dataframe tbody tr th {\n",
       "        vertical-align: top;\n",
       "    }\n",
       "\n",
       "    .dataframe thead th {\n",
       "        text-align: right;\n",
       "    }\n",
       "</style>\n",
       "<table border=\"1\" class=\"dataframe\">\n",
       "  <thead>\n",
       "    <tr style=\"text-align: right;\">\n",
       "      <th></th>\n",
       "      <th>exited</th>\n",
       "      <th>ratio</th>\n",
       "    </tr>\n",
       "  </thead>\n",
       "  <tbody>\n",
       "    <tr>\n",
       "      <td>0.0</td>\n",
       "      <td>1302</td>\n",
       "      <td>54.1%</td>\n",
       "    </tr>\n",
       "    <tr>\n",
       "      <td>1.0</td>\n",
       "      <td>1105</td>\n",
       "      <td>45.9%</td>\n",
       "    </tr>\n",
       "  </tbody>\n",
       "</table>\n",
       "</div>"
      ],
      "text/plain": [
       "     exited  ratio\n",
       "0.0    1302  54.1%\n",
       "1.0    1105  45.9%"
      ]
     },
     "execution_count": 44,
     "metadata": {},
     "output_type": "execute_result"
    }
   ],
   "source": [
    "#Функция уменьшает размер выборки\n",
    "def downsample(features, target, fraction):\n",
    "    features_zeros = features[target == 0]\n",
    "    features_ones = features[target == 1]\n",
    "    target_zeros = target[target == 0]\n",
    "    target_ones = target[target == 1]\n",
    "\n",
    "    features_downsampled = pd.concat(\n",
    "        [features_zeros.sample(frac=fraction, random_state=42)] + [features_ones])\n",
    "    target_downsampled = pd.concat(\n",
    "        [target_zeros.sample(frac=fraction, random_state=42)] + [target_ones])\n",
    "    \n",
    "    features_downsampled, target_downsampled = shuffle(\n",
    "        features_downsampled, target_downsampled, random_state=42)\n",
    "    \n",
    "    return features_downsampled, target_downsampled\n",
    "features_downsampled, target_downsampled = downsample(features_train_log, target_train, 0.3)\n",
    "\n",
    "#Распределение классов после уменьшения\n",
    "def perc(series):\n",
    "    return (series.value_counts().to_frame(name='exited')\n",
    "            .assign(ratio = lambda x: (x['exited'] / x['exited'].sum()).map(lambda x: '{:.1%}'.format(x))))\n",
    "perc(target_downsampled)"
   ]
  },
  {
   "cell_type": "code",
   "execution_count": 45,
   "metadata": {},
   "outputs": [
    {
     "name": "stdout",
     "output_type": "stream",
     "text": [
      "              precision    recall  f1-score   support\n",
      "\n",
      "         0.0       0.88      0.77      0.82      1448\n",
      "         1.0       0.40      0.59      0.47       368\n",
      "\n",
      "    accuracy                           0.73      1816\n",
      "   macro avg       0.64      0.68      0.65      1816\n",
      "weighted avg       0.78      0.73      0.75      1816\n",
      "\n",
      "ROC_AUC score: 0.68\n"
     ]
    }
   ],
   "source": [
    "model_downsampled = LogisticRegression(solver='liblinear', random_state=42)\n",
    "model_downsampled.fit(features_downsampled, target_downsampled)\n",
    "preds_val_downsampled = model_downsampled.predict(features_val_log)\n",
    "report(target_val, preds_val_downsampled)"
   ]
  },
  {
   "cell_type": "markdown",
   "metadata": {},
   "source": [
    "После балансирования классов методом downsampling, у модели логистической регрессии заметно выросла полнота - до 0.59 с 0.20 и f1-score до 0.47 с 0.30. Так или иначе, модель показала результат хуже случайного леса, поэтому финальное тестирование логистической регрессии проводить не будем."
   ]
  },
  {
   "cell_type": "markdown",
   "metadata": {},
   "source": [
    "### Вывод"
   ]
  },
  {
   "cell_type": "markdown",
   "metadata": {},
   "source": [
    "На этом этапе обучили модели случайного леса и логистической регрессии с учетом дисбаланса классов. Для случайного леса взвесили классы и подобрали порог классификации:\n",
    "- recall: 0.59\n",
    "- precision: 0.61\n",
    "- f1_score: 0.60\n",
    "- roc_auc: 0.74\n",
    "\n",
    "Для логистической регрессии провели балансирование классов методом downsampling и получили следующие метрики:\n",
    "- recall: 0.59\n",
    "- precision: 0.40\n",
    "- f1_score: 0.47\n",
    "- roc_auc: 0.68\n",
    "\n",
    "Регрессия показала себя хуже по всем метрикам, поэтому финальное тестирование будем проводить для модели случайного леса."
   ]
  },
  {
   "cell_type": "markdown",
   "metadata": {},
   "source": [
    "---\n",
    "<a id='testing'></a>\n",
    "## 6. Тестирование модели"
   ]
  },
  {
   "cell_type": "markdown",
   "metadata": {},
   "source": [
    "Соединим тестовую и валидационную выборки, чтобы у модели было больше данных для обучения:"
   ]
  },
  {
   "cell_type": "code",
   "execution_count": 46,
   "metadata": {},
   "outputs": [],
   "source": [
    "features_train['exited'] = target_train\n",
    "features_val['exited'] = target_val\n",
    "features_target_train_val = features_train.merge(features_val, how='outer', on=features_train.columns.tolist())\n",
    "features_train_val = features_target_train_val.drop(['exited'], axis=1)\n",
    "target_train_val = features_target_train_val['exited']"
   ]
  },
  {
   "cell_type": "markdown",
   "metadata": {},
   "source": [
    "Проверим размер датасета и распределение классов после склейки:"
   ]
  },
  {
   "cell_type": "code",
   "execution_count": 47,
   "metadata": {},
   "outputs": [
    {
     "name": "stdout",
     "output_type": "stream",
     "text": [
      "<class 'pandas.core.frame.DataFrame'>\n",
      "Int64Index: 7262 entries, 0 to 7261\n",
      "Data columns (total 10 columns):\n",
      "creditscore        7262 non-null float64\n",
      "geography          7262 non-null float64\n",
      "gender             7262 non-null float64\n",
      "age                7262 non-null float64\n",
      "tenure             7262 non-null float64\n",
      "balance            7262 non-null float64\n",
      "numofproducts      7262 non-null float64\n",
      "hascrcard          7262 non-null float64\n",
      "isactivemember     7262 non-null float64\n",
      "estimatedsalary    7262 non-null float64\n",
      "dtypes: float64(10)\n",
      "memory usage: 624.1 KB\n"
     ]
    }
   ],
   "source": [
    "features_train_val.info()"
   ]
  },
  {
   "cell_type": "code",
   "execution_count": 48,
   "metadata": {},
   "outputs": [
    {
     "data": {
      "text/html": [
       "<div>\n",
       "<style scoped>\n",
       "    .dataframe tbody tr th:only-of-type {\n",
       "        vertical-align: middle;\n",
       "    }\n",
       "\n",
       "    .dataframe tbody tr th {\n",
       "        vertical-align: top;\n",
       "    }\n",
       "\n",
       "    .dataframe thead th {\n",
       "        text-align: right;\n",
       "    }\n",
       "</style>\n",
       "<table border=\"1\" class=\"dataframe\">\n",
       "  <thead>\n",
       "    <tr style=\"text-align: right;\">\n",
       "      <th></th>\n",
       "      <th>exited</th>\n",
       "      <th>ratio</th>\n",
       "    </tr>\n",
       "  </thead>\n",
       "  <tbody>\n",
       "    <tr>\n",
       "      <td>0.0</td>\n",
       "      <td>5789</td>\n",
       "      <td>79.7%</td>\n",
       "    </tr>\n",
       "    <tr>\n",
       "      <td>1.0</td>\n",
       "      <td>1473</td>\n",
       "      <td>20.3%</td>\n",
       "    </tr>\n",
       "  </tbody>\n",
       "</table>\n",
       "</div>"
      ],
      "text/plain": [
       "     exited  ratio\n",
       "0.0    5789  79.7%\n",
       "1.0    1473  20.3%"
      ]
     },
     "execution_count": 48,
     "metadata": {},
     "output_type": "execute_result"
    }
   ],
   "source": [
    "perc(target_train_val)"
   ]
  },
  {
   "cell_type": "markdown",
   "metadata": {},
   "source": [
    "Обучим модель на новых данных:"
   ]
  },
  {
   "cell_type": "code",
   "execution_count": 49,
   "metadata": {},
   "outputs": [
    {
     "data": {
      "text/plain": [
       "RandomForestClassifier(bootstrap=True, class_weight='balanced',\n",
       "                       criterion='gini', max_depth=10, max_features='auto',\n",
       "                       max_leaf_nodes=None, min_impurity_decrease=0.0,\n",
       "                       min_impurity_split=None, min_samples_leaf=1,\n",
       "                       min_samples_split=2, min_weight_fraction_leaf=0.0,\n",
       "                       n_estimators=150, n_jobs=None, oob_score=False,\n",
       "                       random_state=42, verbose=0, warm_start=False)"
      ]
     },
     "execution_count": 49,
     "metadata": {},
     "output_type": "execute_result"
    }
   ],
   "source": [
    "model.fit(features_train_val, target_train_val)"
   ]
  },
  {
   "cell_type": "code",
   "execution_count": 50,
   "metadata": {
    "scrolled": false
   },
   "outputs": [
    {
     "data": {
      "image/png": "[encoded data removed]",
      "text/plain": [
       "<Figure size 504x504 with 2 Axes>"
      ]
     },
     "metadata": {},
     "output_type": "display_data"
    },
    {
     "name": "stdout",
     "output_type": "stream",
     "text": [
      "\n",
      "              precision    recall  f1-score   support\n",
      "\n",
      "         0.0       0.90      0.90      0.90      1448\n",
      "         1.0       0.61      0.62      0.61       368\n",
      "\n",
      "    accuracy                           0.84      1816\n",
      "   macro avg       0.76      0.76      0.76      1816\n",
      "weighted avg       0.84      0.84      0.84      1816\n",
      "\n",
      "ROC_AUC score: 0.76\n"
     ]
    }
   ],
   "source": [
    "test_preds = model.predict(features_test)\n",
    "all_metrics(target_test, test_preds)"
   ]
  },
  {
   "cell_type": "markdown",
   "metadata": {},
   "source": [
    "Обучение на большем количестве данных дало результаты. Увеличилась f1 на 0.02 (без учета подбора порога), ROC_AUC и точность также выросли на 0.02, полнота на 0.03."
   ]
  },
  {
   "cell_type": "markdown",
   "metadata": {},
   "source": [
    "Подберем оптимальный порог классификации:"
   ]
  },
  {
   "cell_type": "code",
   "execution_count": 51,
   "metadata": {},
   "outputs": [
    {
     "data": {
      "text/html": [
       "<div>\n",
       "<style scoped>\n",
       "    .dataframe tbody tr th:only-of-type {\n",
       "        vertical-align: middle;\n",
       "    }\n",
       "\n",
       "    .dataframe tbody tr th {\n",
       "        vertical-align: top;\n",
       "    }\n",
       "\n",
       "    .dataframe thead th {\n",
       "        text-align: right;\n",
       "    }\n",
       "</style>\n",
       "<table border=\"1\" class=\"dataframe\">\n",
       "  <thead>\n",
       "    <tr style=\"text-align: right;\">\n",
       "      <th></th>\n",
       "      <th>metrics</th>\n",
       "    </tr>\n",
       "  </thead>\n",
       "  <tbody>\n",
       "    <tr>\n",
       "      <td>threshold</td>\n",
       "      <td>0.480000</td>\n",
       "    </tr>\n",
       "    <tr>\n",
       "      <td>f1_score</td>\n",
       "      <td>0.617608</td>\n",
       "    </tr>\n",
       "    <tr>\n",
       "      <td>roc_auc_score</td>\n",
       "      <td>0.764735</td>\n",
       "    </tr>\n",
       "  </tbody>\n",
       "</table>\n",
       "</div>"
      ],
      "text/plain": [
       "                metrics\n",
       "threshold      0.480000\n",
       "f1_score       0.617608\n",
       "roc_auc_score  0.764735"
      ]
     },
     "metadata": {},
     "output_type": "display_data"
    },
    {
     "name": "stdout",
     "output_type": "stream",
     "text": [
      "Поиск оптимального порога для метрики f1_score занял 3.07 секунд(ы)\n"
     ]
    }
   ],
   "source": [
    "test_threshold(features_test, target_test, model)"
   ]
  },
  {
   "cell_type": "code",
   "execution_count": 52,
   "metadata": {
    "scrolled": true
   },
   "outputs": [
    {
     "name": "stdout",
     "output_type": "stream",
     "text": [
      "              precision    recall  f1-score   support\n",
      "\n",
      "         0.0       0.91      0.89      0.90      1448\n",
      "         1.0       0.60      0.64      0.62       368\n",
      "\n",
      "    accuracy                           0.84      1816\n",
      "   macro avg       0.75      0.76      0.76      1816\n",
      "weighted avg       0.84      0.84      0.84      1816\n",
      "\n",
      "ROC_AUC score: 0.76\n"
     ]
    }
   ],
   "source": [
    "report(target_test, thresh_classifier(model, features_test, .48))"
   ]
  },
  {
   "cell_type": "markdown",
   "metadata": {},
   "source": [
    "Путём изменения порога снизилась точность на 0.01, метрика f1 выросла на 0.01, а полнота на 0.02."
   ]
  },
  {
   "cell_type": "markdown",
   "metadata": {},
   "source": [
    "### Вывод"
   ]
  },
  {
   "cell_type": "markdown",
   "metadata": {},
   "source": [
    "На этом этапе протестировали модель случайного леса на тестовой выборке, применили порог классификации и получили следующие метрики:\n",
    "- recall: 0.64\n",
    "- precision: 0.60\n",
    "- f1_score: 0.62\n",
    "- roc_auc: 0.76"
   ]
  },
  {
   "cell_type": "markdown",
   "metadata": {},
   "source": [
    "--- \n",
    "<a id='out'></a>\n",
    "## 7. Общий вывод"
   ]
  },
  {
   "cell_type": "markdown",
   "metadata": {},
   "source": [
    "В результате проделанной работы был исследован датасет с записями о клиентах банка, данные были преодобработаны - удалены дубликаты и пропуски, и подготовлены - убраны лишние столбцы, категориальные данные кодированы, а количественные стандартизированы. Были построены модели логистической регрессии и случайного леса (с учетом и без учета дисбаланса классов), предсказывающие вероятность оттока. Для балансирования классов были использованы методы уменьшения выборки, взвешивания классов и поиск оптимального порога. \n",
    "Модель логистической регресии на валидационной выборке показала себя значительно хуже случайного леса - все метрики ниже на 0.05-0.2 значений. \n",
    "\n",
    "Случайный лес с корректировкой порога на тестовой выборке показал следующие метрики:\n",
    "- recall: 0.64\n",
    "- precision: 0.60\n",
    "- f1_score: 0.62\n",
    "- roc_auc: 0.76"
   ]
  }
 ],
 "metadata": {
  "kernelspec": {
   "display_name": "Python 3",
   "language": "python",
   "name": "python3"
  },
  "language_info": {
   "codemirror_mode": {
    "name": "ipython",
    "version": 3
   },
   "file_extension": ".py",
   "mimetype": "text/x-python",
   "name": "python",
   "nbconvert_exporter": "python",
   "pygments_lexer": "ipython3",
   "version": "3.7.6"
  }
 },
 "nbformat": 4,
 "nbformat_minor": 2
}
